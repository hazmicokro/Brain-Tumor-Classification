{
  "nbformat": 4,
  "nbformat_minor": 0,
  "metadata": {
    "colab": {
      "name": "Classification using CNN Model .ipynb",
      "provenance": [],
      "collapsed_sections": [
        "7B5_tcXonA1x",
        "GBemPeY_mYZ7",
        "KTXVDa8WoJm3",
        "sSmgd42imyNT",
        "0xUWN3DZIf4g",
        "38OWNvsH27ZH"
      ],
      "toc_visible": true,
      "authorship_tag": "ABX9TyNSxSa0S1Fac/2j2D8pkcel",
      "include_colab_link": true
    },
    "kernelspec": {
      "name": "python3",
      "display_name": "Python 3"
    }
  },
  "cells": [
    {
      "cell_type": "markdown",
      "metadata": {
        "id": "view-in-github",
        "colab_type": "text"
      },
      "source": [
        "<a href=\"https://colab.research.google.com/github/hazmicokro/Brain-Tumor-Classification/blob/main/Classification_using_CNN_Acc_91%25.ipynb\" target=\"_parent\"><img src=\"https://colab.research.google.com/assets/colab-badge.svg\" alt=\"Open In Colab\"/></a>"
      ]
    },
    {
      "cell_type": "markdown",
      "metadata": {
        "id": "U0-Mig9BCU4D"
      },
      "source": [
        "**Dataset : [Brain MRI Dataset](https://www.kaggle.com/sartajbhuvaji/brain-tumor-classification-mri) dari Kaggle**\n",
        "\n",
        "**Deskripsi Data :** \\\n",
        "Total Data Images MRI : 3160 Images\n",
        "\n",
        "Alokasi ulang ke 80% Train 20% Val\n",
        "> Training Data (2525 Images) \\\n",
        "> Validation Data (635 Images)\n",
        "\n"
      ]
    },
    {
      "cell_type": "markdown",
      "metadata": {
        "id": "7B5_tcXonA1x"
      },
      "source": [
        "###Mount Gdrive serta Download dan Ekstrak Dataset"
      ]
    },
    {
      "cell_type": "code",
      "metadata": {
        "colab": {
          "base_uri": "https://localhost:8080/"
        },
        "id": "t6cIaIpCCYWn",
        "outputId": "925a5a06-9d27-43b8-ff94-2f51beb942e2"
      },
      "source": [
        "from google.colab import drive\n",
        "drive.mount('/content/drive')"
      ],
      "execution_count": null,
      "outputs": [
        {
          "output_type": "stream",
          "text": [
            "Mounted at /content/drive\n"
          ],
          "name": "stdout"
        }
      ]
    },
    {
      "cell_type": "code",
      "metadata": {
        "id": "7yV9FpzoCYm9"
      },
      "source": [
        "import os\n",
        "os.environ['KAGGLE_CONFIG_DIR'] = \"/content/drive/MyDrive/Dataset/Dataset Citra 240 - 235\""
      ],
      "execution_count": null,
      "outputs": []
    },
    {
      "cell_type": "code",
      "metadata": {
        "colab": {
          "base_uri": "https://localhost:8080/"
        },
        "id": "hH5nIsA4CYqK",
        "outputId": "58b00758-4be1-4c16-b017-d066811607f9"
      },
      "source": [
        "%cd /content/drive/MyDrive/Dataset/Dataset Citra 240 - 235"
      ],
      "execution_count": null,
      "outputs": [
        {
          "output_type": "stream",
          "text": [
            "/content/drive/MyDrive/Dataset/Dataset Citra 240 - 235\n"
          ],
          "name": "stdout"
        }
      ]
    },
    {
      "cell_type": "code",
      "metadata": {
        "id": "OAeHDZkPCYvx"
      },
      "source": [
        "from google.colab import files\n",
        "files.upload()"
      ],
      "execution_count": null,
      "outputs": []
    },
    {
      "cell_type": "code",
      "metadata": {
        "colab": {
          "base_uri": "https://localhost:8080/"
        },
        "id": "veoJmBbaCYt8",
        "outputId": "97b648d9-1e76-4aaf-af51-cbf38f7da21a"
      },
      "source": [
        "!mkdir -p ~/.kaggle\n",
        "!cp kaggle.json ~/.kaggle/\n",
        "!ls ~/.kaggle\n",
        "\n",
        "!chmod 600 /root/.kaggle/kaggle.json"
      ],
      "execution_count": null,
      "outputs": [
        {
          "output_type": "stream",
          "text": [
            "kaggle.json\n"
          ],
          "name": "stdout"
        }
      ]
    },
    {
      "cell_type": "code",
      "metadata": {
        "colab": {
          "base_uri": "https://localhost:8080/"
        },
        "id": "UAmVuIbRCgy-",
        "outputId": "025b21ae-b2c4-404e-a6d4-e13a2d1f9c76"
      },
      "source": [
        "!kaggle datasets download -d sartajbhuvaji/brain-tumor-classification-mri"
      ],
      "execution_count": null,
      "outputs": [
        {
          "output_type": "stream",
          "text": [
            "Downloading brain-tumor-classification-mri.zip to /content/drive/MyDrive/Dataset/Dataset Citra 240 - 235\n",
            " 97% 84.0M/86.8M [00:01<00:00, 49.9MB/s]\n",
            "100% 86.8M/86.8M [00:01<00:00, 56.2MB/s]\n"
          ],
          "name": "stdout"
        }
      ]
    },
    {
      "cell_type": "code",
      "metadata": {
        "id": "SlFPegbLCg9h"
      },
      "source": [
        "!mkdir 'Dataset Brain MRI'"
      ],
      "execution_count": null,
      "outputs": []
    },
    {
      "cell_type": "code",
      "metadata": {
        "colab": {
          "base_uri": "https://localhost:8080/"
        },
        "id": "xHV9ZXt9ChSU",
        "outputId": "7ba1fee1-bc04-4896-b07b-c38c18516ca2"
      },
      "source": [
        "import zipfile\n",
        "ekstrak_zip = '/content/drive/MyDrive/Dataset/Dataset Citra 240 - 235/brain-tumor-classification-mri.zip'\n",
        "out_zip = zipfile.ZipFile(ekstrak_zip, 'r')\n",
        "out_zip.extractall('/content/drive/MyDrive/Dataset/Dataset Citra 240 - 235/Dataset Brain MRI')\n",
        "out_zip.close()\n",
        "\n",
        "print('Berhasil Ekstrak ke Dataset Brain MRI')"
      ],
      "execution_count": null,
      "outputs": [
        {
          "output_type": "stream",
          "text": [
            "Berhasil Ekstrak ke Dataset Brain MRI\n"
          ],
          "name": "stdout"
        }
      ]
    },
    {
      "cell_type": "markdown",
      "metadata": {
        "id": "GBemPeY_mYZ7"
      },
      "source": [
        "###Mengalokasikan ulang Data Train dan Test menjadi 1 kesatuan Dataset"
      ]
    },
    {
      "cell_type": "code",
      "metadata": {
        "id": "inXGUjHrfnX8"
      },
      "source": [
        "!mkdir \"raw dataset\""
      ],
      "execution_count": null,
      "outputs": []
    },
    {
      "cell_type": "code",
      "metadata": {
        "colab": {
          "base_uri": "https://localhost:8080/"
        },
        "id": "iUzjZuWKfd_I",
        "outputId": "2ea23fbd-102e-4ffb-fa3d-7945eb98c24d"
      },
      "source": [
        "import shutil\n",
        "\n",
        "source = \"/content/drive/MyDrive/Dataset/Dataset Citra 240 - 235/raw dataset/glioma_tumor (1)\"\n",
        "destination = \"/content/drive/MyDrive/Dataset/Dataset Citra 240 - 235/raw dataset/glioma_tumor\"\n",
        "\n",
        "files = os.listdir(source)\n",
        "\n",
        "for file in files:\n",
        "\tnew_path = shutil.copy(f\"{source}/{file}\", destination)\n",
        "\tprint(new_path)"
      ],
      "execution_count": null,
      "outputs": [
        {
          "output_type": "stream",
          "text": [
            "/content/drive/MyDrive/Dataset/Dataset Citra 240 - 235/raw dataset/glioma_tumor/image(1).jpg\n",
            "/content/drive/MyDrive/Dataset/Dataset Citra 240 - 235/raw dataset/glioma_tumor/image(10).jpg\n",
            "/content/drive/MyDrive/Dataset/Dataset Citra 240 - 235/raw dataset/glioma_tumor/image(100).jpg\n",
            "/content/drive/MyDrive/Dataset/Dataset Citra 240 - 235/raw dataset/glioma_tumor/image(11).jpg\n",
            "/content/drive/MyDrive/Dataset/Dataset Citra 240 - 235/raw dataset/glioma_tumor/image(12).jpg\n",
            "/content/drive/MyDrive/Dataset/Dataset Citra 240 - 235/raw dataset/glioma_tumor/image(13).jpg\n",
            "/content/drive/MyDrive/Dataset/Dataset Citra 240 - 235/raw dataset/glioma_tumor/image(14).jpg\n",
            "/content/drive/MyDrive/Dataset/Dataset Citra 240 - 235/raw dataset/glioma_tumor/image(15).jpg\n",
            "/content/drive/MyDrive/Dataset/Dataset Citra 240 - 235/raw dataset/glioma_tumor/image(16).jpg\n",
            "/content/drive/MyDrive/Dataset/Dataset Citra 240 - 235/raw dataset/glioma_tumor/image(17).jpg\n",
            "/content/drive/MyDrive/Dataset/Dataset Citra 240 - 235/raw dataset/glioma_tumor/image(18).jpg\n",
            "/content/drive/MyDrive/Dataset/Dataset Citra 240 - 235/raw dataset/glioma_tumor/image(19).jpg\n",
            "/content/drive/MyDrive/Dataset/Dataset Citra 240 - 235/raw dataset/glioma_tumor/image(2).jpg\n",
            "/content/drive/MyDrive/Dataset/Dataset Citra 240 - 235/raw dataset/glioma_tumor/image(20).jpg\n",
            "/content/drive/MyDrive/Dataset/Dataset Citra 240 - 235/raw dataset/glioma_tumor/image(21).jpg\n",
            "/content/drive/MyDrive/Dataset/Dataset Citra 240 - 235/raw dataset/glioma_tumor/image(22).jpg\n",
            "/content/drive/MyDrive/Dataset/Dataset Citra 240 - 235/raw dataset/glioma_tumor/image(23).jpg\n",
            "/content/drive/MyDrive/Dataset/Dataset Citra 240 - 235/raw dataset/glioma_tumor/image(24).jpg\n",
            "/content/drive/MyDrive/Dataset/Dataset Citra 240 - 235/raw dataset/glioma_tumor/image(25).jpg\n",
            "/content/drive/MyDrive/Dataset/Dataset Citra 240 - 235/raw dataset/glioma_tumor/image(26).jpg\n",
            "/content/drive/MyDrive/Dataset/Dataset Citra 240 - 235/raw dataset/glioma_tumor/image(27).jpg\n",
            "/content/drive/MyDrive/Dataset/Dataset Citra 240 - 235/raw dataset/glioma_tumor/image(28).jpg\n",
            "/content/drive/MyDrive/Dataset/Dataset Citra 240 - 235/raw dataset/glioma_tumor/image(29).jpg\n",
            "/content/drive/MyDrive/Dataset/Dataset Citra 240 - 235/raw dataset/glioma_tumor/image(3).jpg\n",
            "/content/drive/MyDrive/Dataset/Dataset Citra 240 - 235/raw dataset/glioma_tumor/image(30).jpg\n",
            "/content/drive/MyDrive/Dataset/Dataset Citra 240 - 235/raw dataset/glioma_tumor/image(31).jpg\n",
            "/content/drive/MyDrive/Dataset/Dataset Citra 240 - 235/raw dataset/glioma_tumor/image(32).jpg\n",
            "/content/drive/MyDrive/Dataset/Dataset Citra 240 - 235/raw dataset/glioma_tumor/image(33).jpg\n",
            "/content/drive/MyDrive/Dataset/Dataset Citra 240 - 235/raw dataset/glioma_tumor/image(34).jpg\n",
            "/content/drive/MyDrive/Dataset/Dataset Citra 240 - 235/raw dataset/glioma_tumor/image(35).jpg\n",
            "/content/drive/MyDrive/Dataset/Dataset Citra 240 - 235/raw dataset/glioma_tumor/image(36).jpg\n",
            "/content/drive/MyDrive/Dataset/Dataset Citra 240 - 235/raw dataset/glioma_tumor/image(37).jpg\n",
            "/content/drive/MyDrive/Dataset/Dataset Citra 240 - 235/raw dataset/glioma_tumor/image(38).jpg\n",
            "/content/drive/MyDrive/Dataset/Dataset Citra 240 - 235/raw dataset/glioma_tumor/image(39).jpg\n",
            "/content/drive/MyDrive/Dataset/Dataset Citra 240 - 235/raw dataset/glioma_tumor/image(4).jpg\n",
            "/content/drive/MyDrive/Dataset/Dataset Citra 240 - 235/raw dataset/glioma_tumor/image(40).jpg\n",
            "/content/drive/MyDrive/Dataset/Dataset Citra 240 - 235/raw dataset/glioma_tumor/image(41).jpg\n",
            "/content/drive/MyDrive/Dataset/Dataset Citra 240 - 235/raw dataset/glioma_tumor/image(42).jpg\n",
            "/content/drive/MyDrive/Dataset/Dataset Citra 240 - 235/raw dataset/glioma_tumor/image(43).jpg\n",
            "/content/drive/MyDrive/Dataset/Dataset Citra 240 - 235/raw dataset/glioma_tumor/image(44).jpg\n",
            "/content/drive/MyDrive/Dataset/Dataset Citra 240 - 235/raw dataset/glioma_tumor/image(45).jpg\n",
            "/content/drive/MyDrive/Dataset/Dataset Citra 240 - 235/raw dataset/glioma_tumor/image(46).jpg\n",
            "/content/drive/MyDrive/Dataset/Dataset Citra 240 - 235/raw dataset/glioma_tumor/image(47).jpg\n",
            "/content/drive/MyDrive/Dataset/Dataset Citra 240 - 235/raw dataset/glioma_tumor/image(48).jpg\n",
            "/content/drive/MyDrive/Dataset/Dataset Citra 240 - 235/raw dataset/glioma_tumor/image(49).jpg\n",
            "/content/drive/MyDrive/Dataset/Dataset Citra 240 - 235/raw dataset/glioma_tumor/image(5).jpg\n",
            "/content/drive/MyDrive/Dataset/Dataset Citra 240 - 235/raw dataset/glioma_tumor/image(50).jpg\n",
            "/content/drive/MyDrive/Dataset/Dataset Citra 240 - 235/raw dataset/glioma_tumor/image(51).jpg\n",
            "/content/drive/MyDrive/Dataset/Dataset Citra 240 - 235/raw dataset/glioma_tumor/image(52).jpg\n",
            "/content/drive/MyDrive/Dataset/Dataset Citra 240 - 235/raw dataset/glioma_tumor/image(53).jpg\n",
            "/content/drive/MyDrive/Dataset/Dataset Citra 240 - 235/raw dataset/glioma_tumor/image(54).jpg\n",
            "/content/drive/MyDrive/Dataset/Dataset Citra 240 - 235/raw dataset/glioma_tumor/image(55).jpg\n",
            "/content/drive/MyDrive/Dataset/Dataset Citra 240 - 235/raw dataset/glioma_tumor/image(56).jpg\n",
            "/content/drive/MyDrive/Dataset/Dataset Citra 240 - 235/raw dataset/glioma_tumor/image(57).jpg\n",
            "/content/drive/MyDrive/Dataset/Dataset Citra 240 - 235/raw dataset/glioma_tumor/image(58).jpg\n",
            "/content/drive/MyDrive/Dataset/Dataset Citra 240 - 235/raw dataset/glioma_tumor/image(59).jpg\n",
            "/content/drive/MyDrive/Dataset/Dataset Citra 240 - 235/raw dataset/glioma_tumor/image(6).jpg\n",
            "/content/drive/MyDrive/Dataset/Dataset Citra 240 - 235/raw dataset/glioma_tumor/image(60).jpg\n",
            "/content/drive/MyDrive/Dataset/Dataset Citra 240 - 235/raw dataset/glioma_tumor/image(61).jpg\n",
            "/content/drive/MyDrive/Dataset/Dataset Citra 240 - 235/raw dataset/glioma_tumor/image(62).jpg\n",
            "/content/drive/MyDrive/Dataset/Dataset Citra 240 - 235/raw dataset/glioma_tumor/image(63).jpg\n",
            "/content/drive/MyDrive/Dataset/Dataset Citra 240 - 235/raw dataset/glioma_tumor/image(64).jpg\n",
            "/content/drive/MyDrive/Dataset/Dataset Citra 240 - 235/raw dataset/glioma_tumor/image(65).jpg\n",
            "/content/drive/MyDrive/Dataset/Dataset Citra 240 - 235/raw dataset/glioma_tumor/image(66).jpg\n",
            "/content/drive/MyDrive/Dataset/Dataset Citra 240 - 235/raw dataset/glioma_tumor/image(67).jpg\n",
            "/content/drive/MyDrive/Dataset/Dataset Citra 240 - 235/raw dataset/glioma_tumor/image(68).jpg\n",
            "/content/drive/MyDrive/Dataset/Dataset Citra 240 - 235/raw dataset/glioma_tumor/image(69).jpg\n",
            "/content/drive/MyDrive/Dataset/Dataset Citra 240 - 235/raw dataset/glioma_tumor/image(7).jpg\n",
            "/content/drive/MyDrive/Dataset/Dataset Citra 240 - 235/raw dataset/glioma_tumor/image(70).jpg\n",
            "/content/drive/MyDrive/Dataset/Dataset Citra 240 - 235/raw dataset/glioma_tumor/image(71).jpg\n",
            "/content/drive/MyDrive/Dataset/Dataset Citra 240 - 235/raw dataset/glioma_tumor/image(72).jpg\n",
            "/content/drive/MyDrive/Dataset/Dataset Citra 240 - 235/raw dataset/glioma_tumor/image(73).jpg\n",
            "/content/drive/MyDrive/Dataset/Dataset Citra 240 - 235/raw dataset/glioma_tumor/image(74).jpg\n",
            "/content/drive/MyDrive/Dataset/Dataset Citra 240 - 235/raw dataset/glioma_tumor/image(75).jpg\n",
            "/content/drive/MyDrive/Dataset/Dataset Citra 240 - 235/raw dataset/glioma_tumor/image(76).jpg\n",
            "/content/drive/MyDrive/Dataset/Dataset Citra 240 - 235/raw dataset/glioma_tumor/image(77).jpg\n",
            "/content/drive/MyDrive/Dataset/Dataset Citra 240 - 235/raw dataset/glioma_tumor/image(78).jpg\n",
            "/content/drive/MyDrive/Dataset/Dataset Citra 240 - 235/raw dataset/glioma_tumor/image(79).jpg\n",
            "/content/drive/MyDrive/Dataset/Dataset Citra 240 - 235/raw dataset/glioma_tumor/image(8).jpg\n",
            "/content/drive/MyDrive/Dataset/Dataset Citra 240 - 235/raw dataset/glioma_tumor/image(80).jpg\n",
            "/content/drive/MyDrive/Dataset/Dataset Citra 240 - 235/raw dataset/glioma_tumor/image(81).jpg\n",
            "/content/drive/MyDrive/Dataset/Dataset Citra 240 - 235/raw dataset/glioma_tumor/image(82).jpg\n",
            "/content/drive/MyDrive/Dataset/Dataset Citra 240 - 235/raw dataset/glioma_tumor/image(83).jpg\n",
            "/content/drive/MyDrive/Dataset/Dataset Citra 240 - 235/raw dataset/glioma_tumor/image(84).jpg\n",
            "/content/drive/MyDrive/Dataset/Dataset Citra 240 - 235/raw dataset/glioma_tumor/image(85).jpg\n",
            "/content/drive/MyDrive/Dataset/Dataset Citra 240 - 235/raw dataset/glioma_tumor/image(86).jpg\n",
            "/content/drive/MyDrive/Dataset/Dataset Citra 240 - 235/raw dataset/glioma_tumor/image(87).jpg\n",
            "/content/drive/MyDrive/Dataset/Dataset Citra 240 - 235/raw dataset/glioma_tumor/image(88).jpg\n",
            "/content/drive/MyDrive/Dataset/Dataset Citra 240 - 235/raw dataset/glioma_tumor/image(89).jpg\n",
            "/content/drive/MyDrive/Dataset/Dataset Citra 240 - 235/raw dataset/glioma_tumor/image(9).jpg\n",
            "/content/drive/MyDrive/Dataset/Dataset Citra 240 - 235/raw dataset/glioma_tumor/image(90).jpg\n",
            "/content/drive/MyDrive/Dataset/Dataset Citra 240 - 235/raw dataset/glioma_tumor/image(91).jpg\n",
            "/content/drive/MyDrive/Dataset/Dataset Citra 240 - 235/raw dataset/glioma_tumor/image(92).jpg\n",
            "/content/drive/MyDrive/Dataset/Dataset Citra 240 - 235/raw dataset/glioma_tumor/image(93).jpg\n",
            "/content/drive/MyDrive/Dataset/Dataset Citra 240 - 235/raw dataset/glioma_tumor/image(94).jpg\n",
            "/content/drive/MyDrive/Dataset/Dataset Citra 240 - 235/raw dataset/glioma_tumor/image(95).jpg\n",
            "/content/drive/MyDrive/Dataset/Dataset Citra 240 - 235/raw dataset/glioma_tumor/image(97).jpg\n",
            "/content/drive/MyDrive/Dataset/Dataset Citra 240 - 235/raw dataset/glioma_tumor/image(98).jpg\n",
            "/content/drive/MyDrive/Dataset/Dataset Citra 240 - 235/raw dataset/glioma_tumor/image(99).jpg\n",
            "/content/drive/MyDrive/Dataset/Dataset Citra 240 - 235/raw dataset/glioma_tumor/image.jpg\n"
          ],
          "name": "stdout"
        }
      ]
    },
    {
      "cell_type": "code",
      "metadata": {
        "colab": {
          "base_uri": "https://localhost:8080/"
        },
        "id": "NnwOY3S6h9-D",
        "outputId": "3c895a2d-f8cb-4fc2-f37a-8dd44d48bfd6"
      },
      "source": [
        "source = \"/content/drive/MyDrive/Dataset/Dataset Citra 240 - 235/raw dataset/meningioma_tumor (1)\"\n",
        "destination = \"/content/drive/MyDrive/Dataset/Dataset Citra 240 - 235/raw dataset/meningioma_tumor\"\n",
        "\n",
        "files = os.listdir(source)\n",
        "\n",
        "for file in files:\n",
        "\tnew_path = shutil.copy(f\"{source}/{file}\", destination)\n",
        "\tprint(new_path)"
      ],
      "execution_count": null,
      "outputs": [
        {
          "output_type": "stream",
          "text": [
            "/content/drive/MyDrive/Dataset/Dataset Citra 240 - 235/raw dataset/meningioma_tumor/image(1).jpg\n",
            "/content/drive/MyDrive/Dataset/Dataset Citra 240 - 235/raw dataset/meningioma_tumor/image(10).jpg\n",
            "/content/drive/MyDrive/Dataset/Dataset Citra 240 - 235/raw dataset/meningioma_tumor/image(100).jpg\n",
            "/content/drive/MyDrive/Dataset/Dataset Citra 240 - 235/raw dataset/meningioma_tumor/image(102).jpg\n",
            "/content/drive/MyDrive/Dataset/Dataset Citra 240 - 235/raw dataset/meningioma_tumor/image(106).jpg\n",
            "/content/drive/MyDrive/Dataset/Dataset Citra 240 - 235/raw dataset/meningioma_tumor/image(107).jpg\n",
            "/content/drive/MyDrive/Dataset/Dataset Citra 240 - 235/raw dataset/meningioma_tumor/image(109).jpg\n",
            "/content/drive/MyDrive/Dataset/Dataset Citra 240 - 235/raw dataset/meningioma_tumor/image(11).jpg\n",
            "/content/drive/MyDrive/Dataset/Dataset Citra 240 - 235/raw dataset/meningioma_tumor/image(112).jpg\n",
            "/content/drive/MyDrive/Dataset/Dataset Citra 240 - 235/raw dataset/meningioma_tumor/image(113).jpg\n",
            "/content/drive/MyDrive/Dataset/Dataset Citra 240 - 235/raw dataset/meningioma_tumor/image(118).jpg\n",
            "/content/drive/MyDrive/Dataset/Dataset Citra 240 - 235/raw dataset/meningioma_tumor/image(12).jpg\n",
            "/content/drive/MyDrive/Dataset/Dataset Citra 240 - 235/raw dataset/meningioma_tumor/image(120).jpg\n",
            "/content/drive/MyDrive/Dataset/Dataset Citra 240 - 235/raw dataset/meningioma_tumor/image(121).jpg\n",
            "/content/drive/MyDrive/Dataset/Dataset Citra 240 - 235/raw dataset/meningioma_tumor/image(123).jpg\n",
            "/content/drive/MyDrive/Dataset/Dataset Citra 240 - 235/raw dataset/meningioma_tumor/image(124).jpg\n",
            "/content/drive/MyDrive/Dataset/Dataset Citra 240 - 235/raw dataset/meningioma_tumor/image(125).jpg\n",
            "/content/drive/MyDrive/Dataset/Dataset Citra 240 - 235/raw dataset/meningioma_tumor/image(126).jpg\n",
            "/content/drive/MyDrive/Dataset/Dataset Citra 240 - 235/raw dataset/meningioma_tumor/image(127).jpg\n",
            "/content/drive/MyDrive/Dataset/Dataset Citra 240 - 235/raw dataset/meningioma_tumor/image(13).jpg\n",
            "/content/drive/MyDrive/Dataset/Dataset Citra 240 - 235/raw dataset/meningioma_tumor/image(14).jpg\n",
            "/content/drive/MyDrive/Dataset/Dataset Citra 240 - 235/raw dataset/meningioma_tumor/image(15).jpg\n",
            "/content/drive/MyDrive/Dataset/Dataset Citra 240 - 235/raw dataset/meningioma_tumor/image(16).jpg\n",
            "/content/drive/MyDrive/Dataset/Dataset Citra 240 - 235/raw dataset/meningioma_tumor/image(17).jpg\n",
            "/content/drive/MyDrive/Dataset/Dataset Citra 240 - 235/raw dataset/meningioma_tumor/image(18).jpg\n",
            "/content/drive/MyDrive/Dataset/Dataset Citra 240 - 235/raw dataset/meningioma_tumor/image(19).jpg\n",
            "/content/drive/MyDrive/Dataset/Dataset Citra 240 - 235/raw dataset/meningioma_tumor/image(2).jpg\n",
            "/content/drive/MyDrive/Dataset/Dataset Citra 240 - 235/raw dataset/meningioma_tumor/image(20).jpg\n",
            "/content/drive/MyDrive/Dataset/Dataset Citra 240 - 235/raw dataset/meningioma_tumor/image(21).jpg\n",
            "/content/drive/MyDrive/Dataset/Dataset Citra 240 - 235/raw dataset/meningioma_tumor/image(22).jpg\n",
            "/content/drive/MyDrive/Dataset/Dataset Citra 240 - 235/raw dataset/meningioma_tumor/image(23).jpg\n",
            "/content/drive/MyDrive/Dataset/Dataset Citra 240 - 235/raw dataset/meningioma_tumor/image(24).jpg\n",
            "/content/drive/MyDrive/Dataset/Dataset Citra 240 - 235/raw dataset/meningioma_tumor/image(25).jpg\n",
            "/content/drive/MyDrive/Dataset/Dataset Citra 240 - 235/raw dataset/meningioma_tumor/image(26).jpg\n",
            "/content/drive/MyDrive/Dataset/Dataset Citra 240 - 235/raw dataset/meningioma_tumor/image(27).jpg\n",
            "/content/drive/MyDrive/Dataset/Dataset Citra 240 - 235/raw dataset/meningioma_tumor/image(28).jpg\n",
            "/content/drive/MyDrive/Dataset/Dataset Citra 240 - 235/raw dataset/meningioma_tumor/image(29).jpg\n",
            "/content/drive/MyDrive/Dataset/Dataset Citra 240 - 235/raw dataset/meningioma_tumor/image(3).jpg\n",
            "/content/drive/MyDrive/Dataset/Dataset Citra 240 - 235/raw dataset/meningioma_tumor/image(30).jpg\n",
            "/content/drive/MyDrive/Dataset/Dataset Citra 240 - 235/raw dataset/meningioma_tumor/image(31).jpg\n",
            "/content/drive/MyDrive/Dataset/Dataset Citra 240 - 235/raw dataset/meningioma_tumor/image(32).jpg\n",
            "/content/drive/MyDrive/Dataset/Dataset Citra 240 - 235/raw dataset/meningioma_tumor/image(33).jpg\n",
            "/content/drive/MyDrive/Dataset/Dataset Citra 240 - 235/raw dataset/meningioma_tumor/image(34).jpg\n",
            "/content/drive/MyDrive/Dataset/Dataset Citra 240 - 235/raw dataset/meningioma_tumor/image(35).jpg\n",
            "/content/drive/MyDrive/Dataset/Dataset Citra 240 - 235/raw dataset/meningioma_tumor/image(36).jpg\n",
            "/content/drive/MyDrive/Dataset/Dataset Citra 240 - 235/raw dataset/meningioma_tumor/image(37).jpg\n",
            "/content/drive/MyDrive/Dataset/Dataset Citra 240 - 235/raw dataset/meningioma_tumor/image(38).jpg\n",
            "/content/drive/MyDrive/Dataset/Dataset Citra 240 - 235/raw dataset/meningioma_tumor/image(39).jpg\n",
            "/content/drive/MyDrive/Dataset/Dataset Citra 240 - 235/raw dataset/meningioma_tumor/image(4).jpg\n",
            "/content/drive/MyDrive/Dataset/Dataset Citra 240 - 235/raw dataset/meningioma_tumor/image(40).jpg\n",
            "/content/drive/MyDrive/Dataset/Dataset Citra 240 - 235/raw dataset/meningioma_tumor/image(41).jpg\n",
            "/content/drive/MyDrive/Dataset/Dataset Citra 240 - 235/raw dataset/meningioma_tumor/image(42).jpg\n",
            "/content/drive/MyDrive/Dataset/Dataset Citra 240 - 235/raw dataset/meningioma_tumor/image(43).jpg\n",
            "/content/drive/MyDrive/Dataset/Dataset Citra 240 - 235/raw dataset/meningioma_tumor/image(44).jpg\n",
            "/content/drive/MyDrive/Dataset/Dataset Citra 240 - 235/raw dataset/meningioma_tumor/image(45).jpg\n",
            "/content/drive/MyDrive/Dataset/Dataset Citra 240 - 235/raw dataset/meningioma_tumor/image(46).jpg\n",
            "/content/drive/MyDrive/Dataset/Dataset Citra 240 - 235/raw dataset/meningioma_tumor/image(47).jpg\n",
            "/content/drive/MyDrive/Dataset/Dataset Citra 240 - 235/raw dataset/meningioma_tumor/image(48).jpg\n",
            "/content/drive/MyDrive/Dataset/Dataset Citra 240 - 235/raw dataset/meningioma_tumor/image(49).jpg\n",
            "/content/drive/MyDrive/Dataset/Dataset Citra 240 - 235/raw dataset/meningioma_tumor/image(5).jpg\n",
            "/content/drive/MyDrive/Dataset/Dataset Citra 240 - 235/raw dataset/meningioma_tumor/image(50).jpg\n",
            "/content/drive/MyDrive/Dataset/Dataset Citra 240 - 235/raw dataset/meningioma_tumor/image(51).jpg\n",
            "/content/drive/MyDrive/Dataset/Dataset Citra 240 - 235/raw dataset/meningioma_tumor/image(52).jpg\n",
            "/content/drive/MyDrive/Dataset/Dataset Citra 240 - 235/raw dataset/meningioma_tumor/image(53).jpg\n",
            "/content/drive/MyDrive/Dataset/Dataset Citra 240 - 235/raw dataset/meningioma_tumor/image(54).jpg\n",
            "/content/drive/MyDrive/Dataset/Dataset Citra 240 - 235/raw dataset/meningioma_tumor/image(55).jpg\n",
            "/content/drive/MyDrive/Dataset/Dataset Citra 240 - 235/raw dataset/meningioma_tumor/image(56).jpg\n",
            "/content/drive/MyDrive/Dataset/Dataset Citra 240 - 235/raw dataset/meningioma_tumor/image(57).jpg\n",
            "/content/drive/MyDrive/Dataset/Dataset Citra 240 - 235/raw dataset/meningioma_tumor/image(58).jpg\n",
            "/content/drive/MyDrive/Dataset/Dataset Citra 240 - 235/raw dataset/meningioma_tumor/image(59).jpg\n",
            "/content/drive/MyDrive/Dataset/Dataset Citra 240 - 235/raw dataset/meningioma_tumor/image(6).jpg\n",
            "/content/drive/MyDrive/Dataset/Dataset Citra 240 - 235/raw dataset/meningioma_tumor/image(60).jpg\n",
            "/content/drive/MyDrive/Dataset/Dataset Citra 240 - 235/raw dataset/meningioma_tumor/image(61).jpg\n",
            "/content/drive/MyDrive/Dataset/Dataset Citra 240 - 235/raw dataset/meningioma_tumor/image(62).jpg\n",
            "/content/drive/MyDrive/Dataset/Dataset Citra 240 - 235/raw dataset/meningioma_tumor/image(63).jpg\n",
            "/content/drive/MyDrive/Dataset/Dataset Citra 240 - 235/raw dataset/meningioma_tumor/image(64).jpg\n",
            "/content/drive/MyDrive/Dataset/Dataset Citra 240 - 235/raw dataset/meningioma_tumor/image(65).jpg\n",
            "/content/drive/MyDrive/Dataset/Dataset Citra 240 - 235/raw dataset/meningioma_tumor/image(66).jpg\n",
            "/content/drive/MyDrive/Dataset/Dataset Citra 240 - 235/raw dataset/meningioma_tumor/image(67).jpg\n",
            "/content/drive/MyDrive/Dataset/Dataset Citra 240 - 235/raw dataset/meningioma_tumor/image(68).jpg\n",
            "/content/drive/MyDrive/Dataset/Dataset Citra 240 - 235/raw dataset/meningioma_tumor/image(69).jpg\n",
            "/content/drive/MyDrive/Dataset/Dataset Citra 240 - 235/raw dataset/meningioma_tumor/image(7).jpg\n",
            "/content/drive/MyDrive/Dataset/Dataset Citra 240 - 235/raw dataset/meningioma_tumor/image(70).jpg\n",
            "/content/drive/MyDrive/Dataset/Dataset Citra 240 - 235/raw dataset/meningioma_tumor/image(71).jpg\n",
            "/content/drive/MyDrive/Dataset/Dataset Citra 240 - 235/raw dataset/meningioma_tumor/image(72).jpg\n",
            "/content/drive/MyDrive/Dataset/Dataset Citra 240 - 235/raw dataset/meningioma_tumor/image(73).jpg\n",
            "/content/drive/MyDrive/Dataset/Dataset Citra 240 - 235/raw dataset/meningioma_tumor/image(74).jpg\n",
            "/content/drive/MyDrive/Dataset/Dataset Citra 240 - 235/raw dataset/meningioma_tumor/image(75).jpg\n",
            "/content/drive/MyDrive/Dataset/Dataset Citra 240 - 235/raw dataset/meningioma_tumor/image(76).jpg\n",
            "/content/drive/MyDrive/Dataset/Dataset Citra 240 - 235/raw dataset/meningioma_tumor/image(77).jpg\n",
            "/content/drive/MyDrive/Dataset/Dataset Citra 240 - 235/raw dataset/meningioma_tumor/image(78).jpg\n",
            "/content/drive/MyDrive/Dataset/Dataset Citra 240 - 235/raw dataset/meningioma_tumor/image(79).jpg\n",
            "/content/drive/MyDrive/Dataset/Dataset Citra 240 - 235/raw dataset/meningioma_tumor/image(8).jpg\n",
            "/content/drive/MyDrive/Dataset/Dataset Citra 240 - 235/raw dataset/meningioma_tumor/image(80).jpg\n",
            "/content/drive/MyDrive/Dataset/Dataset Citra 240 - 235/raw dataset/meningioma_tumor/image(81).jpg\n",
            "/content/drive/MyDrive/Dataset/Dataset Citra 240 - 235/raw dataset/meningioma_tumor/image(82).jpg\n",
            "/content/drive/MyDrive/Dataset/Dataset Citra 240 - 235/raw dataset/meningioma_tumor/image(83).jpg\n",
            "/content/drive/MyDrive/Dataset/Dataset Citra 240 - 235/raw dataset/meningioma_tumor/image(84).jpg\n",
            "/content/drive/MyDrive/Dataset/Dataset Citra 240 - 235/raw dataset/meningioma_tumor/image(85).jpg\n",
            "/content/drive/MyDrive/Dataset/Dataset Citra 240 - 235/raw dataset/meningioma_tumor/image(86).jpg\n",
            "/content/drive/MyDrive/Dataset/Dataset Citra 240 - 235/raw dataset/meningioma_tumor/image(87).jpg\n",
            "/content/drive/MyDrive/Dataset/Dataset Citra 240 - 235/raw dataset/meningioma_tumor/image(88).jpg\n",
            "/content/drive/MyDrive/Dataset/Dataset Citra 240 - 235/raw dataset/meningioma_tumor/image(89).jpg\n",
            "/content/drive/MyDrive/Dataset/Dataset Citra 240 - 235/raw dataset/meningioma_tumor/image(9).jpg\n",
            "/content/drive/MyDrive/Dataset/Dataset Citra 240 - 235/raw dataset/meningioma_tumor/image(90).jpg\n",
            "/content/drive/MyDrive/Dataset/Dataset Citra 240 - 235/raw dataset/meningioma_tumor/image(91).jpg\n",
            "/content/drive/MyDrive/Dataset/Dataset Citra 240 - 235/raw dataset/meningioma_tumor/image(92).jpg\n",
            "/content/drive/MyDrive/Dataset/Dataset Citra 240 - 235/raw dataset/meningioma_tumor/image(93).jpg\n",
            "/content/drive/MyDrive/Dataset/Dataset Citra 240 - 235/raw dataset/meningioma_tumor/image(94).jpg\n",
            "/content/drive/MyDrive/Dataset/Dataset Citra 240 - 235/raw dataset/meningioma_tumor/image(95).jpg\n",
            "/content/drive/MyDrive/Dataset/Dataset Citra 240 - 235/raw dataset/meningioma_tumor/image(96).jpg\n",
            "/content/drive/MyDrive/Dataset/Dataset Citra 240 - 235/raw dataset/meningioma_tumor/image(97).jpg\n",
            "/content/drive/MyDrive/Dataset/Dataset Citra 240 - 235/raw dataset/meningioma_tumor/image(98).jpg\n",
            "/content/drive/MyDrive/Dataset/Dataset Citra 240 - 235/raw dataset/meningioma_tumor/image(99).jpg\n",
            "/content/drive/MyDrive/Dataset/Dataset Citra 240 - 235/raw dataset/meningioma_tumor/image.jpg\n"
          ],
          "name": "stdout"
        }
      ]
    },
    {
      "cell_type": "code",
      "metadata": {
        "colab": {
          "base_uri": "https://localhost:8080/"
        },
        "id": "lqkohPsMiJmL",
        "outputId": "7a124d9c-cbe9-43cf-9a9c-9c940c46de8a"
      },
      "source": [
        "source = \"/content/drive/MyDrive/Dataset/Dataset Citra 240 - 235/raw dataset/no_tumor (1)\"\n",
        "destination = \"/content/drive/MyDrive/Dataset/Dataset Citra 240 - 235/raw dataset/no_tumor\"\n",
        "\n",
        "files = os.listdir(source)\n",
        "\n",
        "for file in files:\n",
        "\tnew_path = shutil.copy(f\"{source}/{file}\", destination)\n",
        "\tprint(new_path)"
      ],
      "execution_count": null,
      "outputs": [
        {
          "output_type": "stream",
          "text": [
            "/content/drive/MyDrive/Dataset/Dataset Citra 240 - 235/raw dataset/no_tumor/image(1).jpg\n",
            "/content/drive/MyDrive/Dataset/Dataset Citra 240 - 235/raw dataset/no_tumor/image(10).jpg\n",
            "/content/drive/MyDrive/Dataset/Dataset Citra 240 - 235/raw dataset/no_tumor/image(100).jpg\n",
            "/content/drive/MyDrive/Dataset/Dataset Citra 240 - 235/raw dataset/no_tumor/image(101).jpg\n",
            "/content/drive/MyDrive/Dataset/Dataset Citra 240 - 235/raw dataset/no_tumor/image(102).jpg\n",
            "/content/drive/MyDrive/Dataset/Dataset Citra 240 - 235/raw dataset/no_tumor/image(103).jpg\n",
            "/content/drive/MyDrive/Dataset/Dataset Citra 240 - 235/raw dataset/no_tumor/image(104).jpg\n",
            "/content/drive/MyDrive/Dataset/Dataset Citra 240 - 235/raw dataset/no_tumor/image(11).jpg\n",
            "/content/drive/MyDrive/Dataset/Dataset Citra 240 - 235/raw dataset/no_tumor/image(12).jpg\n",
            "/content/drive/MyDrive/Dataset/Dataset Citra 240 - 235/raw dataset/no_tumor/image(13).jpg\n",
            "/content/drive/MyDrive/Dataset/Dataset Citra 240 - 235/raw dataset/no_tumor/image(14).jpg\n",
            "/content/drive/MyDrive/Dataset/Dataset Citra 240 - 235/raw dataset/no_tumor/image(15).jpg\n",
            "/content/drive/MyDrive/Dataset/Dataset Citra 240 - 235/raw dataset/no_tumor/image(16).jpg\n",
            "/content/drive/MyDrive/Dataset/Dataset Citra 240 - 235/raw dataset/no_tumor/image(17).jpg\n",
            "/content/drive/MyDrive/Dataset/Dataset Citra 240 - 235/raw dataset/no_tumor/image(18).jpg\n",
            "/content/drive/MyDrive/Dataset/Dataset Citra 240 - 235/raw dataset/no_tumor/image(19).jpg\n",
            "/content/drive/MyDrive/Dataset/Dataset Citra 240 - 235/raw dataset/no_tumor/image(2).jpg\n",
            "/content/drive/MyDrive/Dataset/Dataset Citra 240 - 235/raw dataset/no_tumor/image(20).jpg\n",
            "/content/drive/MyDrive/Dataset/Dataset Citra 240 - 235/raw dataset/no_tumor/image(21).jpg\n",
            "/content/drive/MyDrive/Dataset/Dataset Citra 240 - 235/raw dataset/no_tumor/image(22).jpg\n",
            "/content/drive/MyDrive/Dataset/Dataset Citra 240 - 235/raw dataset/no_tumor/image(23).jpg\n",
            "/content/drive/MyDrive/Dataset/Dataset Citra 240 - 235/raw dataset/no_tumor/image(24).jpg\n",
            "/content/drive/MyDrive/Dataset/Dataset Citra 240 - 235/raw dataset/no_tumor/image(25).jpg\n",
            "/content/drive/MyDrive/Dataset/Dataset Citra 240 - 235/raw dataset/no_tumor/image(26).jpg\n",
            "/content/drive/MyDrive/Dataset/Dataset Citra 240 - 235/raw dataset/no_tumor/image(27).jpg\n",
            "/content/drive/MyDrive/Dataset/Dataset Citra 240 - 235/raw dataset/no_tumor/image(28).jpg\n",
            "/content/drive/MyDrive/Dataset/Dataset Citra 240 - 235/raw dataset/no_tumor/image(29).jpg\n",
            "/content/drive/MyDrive/Dataset/Dataset Citra 240 - 235/raw dataset/no_tumor/image(3).jpg\n",
            "/content/drive/MyDrive/Dataset/Dataset Citra 240 - 235/raw dataset/no_tumor/image(30).jpg\n",
            "/content/drive/MyDrive/Dataset/Dataset Citra 240 - 235/raw dataset/no_tumor/image(31).jpg\n",
            "/content/drive/MyDrive/Dataset/Dataset Citra 240 - 235/raw dataset/no_tumor/image(32).jpg\n",
            "/content/drive/MyDrive/Dataset/Dataset Citra 240 - 235/raw dataset/no_tumor/image(33).jpg\n",
            "/content/drive/MyDrive/Dataset/Dataset Citra 240 - 235/raw dataset/no_tumor/image(34).jpg\n",
            "/content/drive/MyDrive/Dataset/Dataset Citra 240 - 235/raw dataset/no_tumor/image(35).jpg\n",
            "/content/drive/MyDrive/Dataset/Dataset Citra 240 - 235/raw dataset/no_tumor/image(36).jpg\n",
            "/content/drive/MyDrive/Dataset/Dataset Citra 240 - 235/raw dataset/no_tumor/image(37).jpg\n",
            "/content/drive/MyDrive/Dataset/Dataset Citra 240 - 235/raw dataset/no_tumor/image(38).jpg\n",
            "/content/drive/MyDrive/Dataset/Dataset Citra 240 - 235/raw dataset/no_tumor/image(39).jpg\n",
            "/content/drive/MyDrive/Dataset/Dataset Citra 240 - 235/raw dataset/no_tumor/image(4).jpg\n",
            "/content/drive/MyDrive/Dataset/Dataset Citra 240 - 235/raw dataset/no_tumor/image(40).jpg\n",
            "/content/drive/MyDrive/Dataset/Dataset Citra 240 - 235/raw dataset/no_tumor/image(41).jpg\n",
            "/content/drive/MyDrive/Dataset/Dataset Citra 240 - 235/raw dataset/no_tumor/image(42).jpg\n",
            "/content/drive/MyDrive/Dataset/Dataset Citra 240 - 235/raw dataset/no_tumor/image(43).jpg\n",
            "/content/drive/MyDrive/Dataset/Dataset Citra 240 - 235/raw dataset/no_tumor/image(44).jpg\n",
            "/content/drive/MyDrive/Dataset/Dataset Citra 240 - 235/raw dataset/no_tumor/image(45).jpg\n",
            "/content/drive/MyDrive/Dataset/Dataset Citra 240 - 235/raw dataset/no_tumor/image(46).jpg\n",
            "/content/drive/MyDrive/Dataset/Dataset Citra 240 - 235/raw dataset/no_tumor/image(47).jpg\n",
            "/content/drive/MyDrive/Dataset/Dataset Citra 240 - 235/raw dataset/no_tumor/image(48).jpg\n",
            "/content/drive/MyDrive/Dataset/Dataset Citra 240 - 235/raw dataset/no_tumor/image(49).jpg\n",
            "/content/drive/MyDrive/Dataset/Dataset Citra 240 - 235/raw dataset/no_tumor/image(5).jpg\n",
            "/content/drive/MyDrive/Dataset/Dataset Citra 240 - 235/raw dataset/no_tumor/image(50).jpg\n",
            "/content/drive/MyDrive/Dataset/Dataset Citra 240 - 235/raw dataset/no_tumor/image(51).jpg\n",
            "/content/drive/MyDrive/Dataset/Dataset Citra 240 - 235/raw dataset/no_tumor/image(52).jpg\n",
            "/content/drive/MyDrive/Dataset/Dataset Citra 240 - 235/raw dataset/no_tumor/image(53).jpg\n",
            "/content/drive/MyDrive/Dataset/Dataset Citra 240 - 235/raw dataset/no_tumor/image(54).jpg\n",
            "/content/drive/MyDrive/Dataset/Dataset Citra 240 - 235/raw dataset/no_tumor/image(55).jpg\n",
            "/content/drive/MyDrive/Dataset/Dataset Citra 240 - 235/raw dataset/no_tumor/image(56).jpg\n",
            "/content/drive/MyDrive/Dataset/Dataset Citra 240 - 235/raw dataset/no_tumor/image(57).jpg\n",
            "/content/drive/MyDrive/Dataset/Dataset Citra 240 - 235/raw dataset/no_tumor/image(58).jpg\n",
            "/content/drive/MyDrive/Dataset/Dataset Citra 240 - 235/raw dataset/no_tumor/image(59).jpg\n",
            "/content/drive/MyDrive/Dataset/Dataset Citra 240 - 235/raw dataset/no_tumor/image(6).jpg\n",
            "/content/drive/MyDrive/Dataset/Dataset Citra 240 - 235/raw dataset/no_tumor/image(60).jpg\n",
            "/content/drive/MyDrive/Dataset/Dataset Citra 240 - 235/raw dataset/no_tumor/image(61).jpg\n",
            "/content/drive/MyDrive/Dataset/Dataset Citra 240 - 235/raw dataset/no_tumor/image(62).jpg\n",
            "/content/drive/MyDrive/Dataset/Dataset Citra 240 - 235/raw dataset/no_tumor/image(63).jpg\n",
            "/content/drive/MyDrive/Dataset/Dataset Citra 240 - 235/raw dataset/no_tumor/image(64).jpg\n",
            "/content/drive/MyDrive/Dataset/Dataset Citra 240 - 235/raw dataset/no_tumor/image(65).jpg\n",
            "/content/drive/MyDrive/Dataset/Dataset Citra 240 - 235/raw dataset/no_tumor/image(66).jpg\n",
            "/content/drive/MyDrive/Dataset/Dataset Citra 240 - 235/raw dataset/no_tumor/image(67).jpg\n",
            "/content/drive/MyDrive/Dataset/Dataset Citra 240 - 235/raw dataset/no_tumor/image(68).jpg\n",
            "/content/drive/MyDrive/Dataset/Dataset Citra 240 - 235/raw dataset/no_tumor/image(69).jpg\n",
            "/content/drive/MyDrive/Dataset/Dataset Citra 240 - 235/raw dataset/no_tumor/image(7).jpg\n",
            "/content/drive/MyDrive/Dataset/Dataset Citra 240 - 235/raw dataset/no_tumor/image(70).jpg\n",
            "/content/drive/MyDrive/Dataset/Dataset Citra 240 - 235/raw dataset/no_tumor/image(71).jpg\n",
            "/content/drive/MyDrive/Dataset/Dataset Citra 240 - 235/raw dataset/no_tumor/image(72).jpg\n",
            "/content/drive/MyDrive/Dataset/Dataset Citra 240 - 235/raw dataset/no_tumor/image(73).jpg\n",
            "/content/drive/MyDrive/Dataset/Dataset Citra 240 - 235/raw dataset/no_tumor/image(74).jpg\n",
            "/content/drive/MyDrive/Dataset/Dataset Citra 240 - 235/raw dataset/no_tumor/image(75).jpg\n",
            "/content/drive/MyDrive/Dataset/Dataset Citra 240 - 235/raw dataset/no_tumor/image(76).jpg\n",
            "/content/drive/MyDrive/Dataset/Dataset Citra 240 - 235/raw dataset/no_tumor/image(77).jpg\n",
            "/content/drive/MyDrive/Dataset/Dataset Citra 240 - 235/raw dataset/no_tumor/image(78).jpg\n",
            "/content/drive/MyDrive/Dataset/Dataset Citra 240 - 235/raw dataset/no_tumor/image(79).jpg\n",
            "/content/drive/MyDrive/Dataset/Dataset Citra 240 - 235/raw dataset/no_tumor/image(8).jpg\n",
            "/content/drive/MyDrive/Dataset/Dataset Citra 240 - 235/raw dataset/no_tumor/image(80).jpg\n",
            "/content/drive/MyDrive/Dataset/Dataset Citra 240 - 235/raw dataset/no_tumor/image(81).jpg\n",
            "/content/drive/MyDrive/Dataset/Dataset Citra 240 - 235/raw dataset/no_tumor/image(82).jpg\n",
            "/content/drive/MyDrive/Dataset/Dataset Citra 240 - 235/raw dataset/no_tumor/image(83).jpg\n",
            "/content/drive/MyDrive/Dataset/Dataset Citra 240 - 235/raw dataset/no_tumor/image(84).jpg\n",
            "/content/drive/MyDrive/Dataset/Dataset Citra 240 - 235/raw dataset/no_tumor/image(85).jpg\n",
            "/content/drive/MyDrive/Dataset/Dataset Citra 240 - 235/raw dataset/no_tumor/image(86).jpg\n",
            "/content/drive/MyDrive/Dataset/Dataset Citra 240 - 235/raw dataset/no_tumor/image(87).jpg\n",
            "/content/drive/MyDrive/Dataset/Dataset Citra 240 - 235/raw dataset/no_tumor/image(88).jpg\n",
            "/content/drive/MyDrive/Dataset/Dataset Citra 240 - 235/raw dataset/no_tumor/image(89).jpg\n",
            "/content/drive/MyDrive/Dataset/Dataset Citra 240 - 235/raw dataset/no_tumor/image(9).jpg\n",
            "/content/drive/MyDrive/Dataset/Dataset Citra 240 - 235/raw dataset/no_tumor/image(90).jpg\n",
            "/content/drive/MyDrive/Dataset/Dataset Citra 240 - 235/raw dataset/no_tumor/image(91).jpg\n",
            "/content/drive/MyDrive/Dataset/Dataset Citra 240 - 235/raw dataset/no_tumor/image(92).jpg\n",
            "/content/drive/MyDrive/Dataset/Dataset Citra 240 - 235/raw dataset/no_tumor/image(93).jpg\n",
            "/content/drive/MyDrive/Dataset/Dataset Citra 240 - 235/raw dataset/no_tumor/image(94).jpg\n",
            "/content/drive/MyDrive/Dataset/Dataset Citra 240 - 235/raw dataset/no_tumor/image(95).jpg\n",
            "/content/drive/MyDrive/Dataset/Dataset Citra 240 - 235/raw dataset/no_tumor/image(96).jpg\n",
            "/content/drive/MyDrive/Dataset/Dataset Citra 240 - 235/raw dataset/no_tumor/image(97).jpg\n",
            "/content/drive/MyDrive/Dataset/Dataset Citra 240 - 235/raw dataset/no_tumor/image(98).jpg\n",
            "/content/drive/MyDrive/Dataset/Dataset Citra 240 - 235/raw dataset/no_tumor/image(99).jpg\n",
            "/content/drive/MyDrive/Dataset/Dataset Citra 240 - 235/raw dataset/no_tumor/image.jpg\n"
          ],
          "name": "stdout"
        }
      ]
    },
    {
      "cell_type": "code",
      "metadata": {
        "colab": {
          "base_uri": "https://localhost:8080/"
        },
        "id": "nIi5ifyNiUGn",
        "outputId": "0f8b2643-d935-4358-fd14-a68ba983d119"
      },
      "source": [
        "source = \"/content/drive/MyDrive/Dataset/Dataset Citra 240 - 235/raw dataset/pituitary_tumor (1)\"\n",
        "destination = \"/content/drive/MyDrive/Dataset/Dataset Citra 240 - 235/raw dataset/pituitary_tumor\"\n",
        "\n",
        "files = os.listdir(source)\n",
        "\n",
        "for file in files:\n",
        "\tnew_path = shutil.copy(f\"{source}/{file}\", destination)\n",
        "\tprint(new_path)"
      ],
      "execution_count": null,
      "outputs": [
        {
          "output_type": "stream",
          "text": [
            "/content/drive/MyDrive/Dataset/Dataset Citra 240 - 235/raw dataset/pituitary_tumor/image(1).jpg\n",
            "/content/drive/MyDrive/Dataset/Dataset Citra 240 - 235/raw dataset/pituitary_tumor/image(10).jpg\n",
            "/content/drive/MyDrive/Dataset/Dataset Citra 240 - 235/raw dataset/pituitary_tumor/image(11).jpg\n",
            "/content/drive/MyDrive/Dataset/Dataset Citra 240 - 235/raw dataset/pituitary_tumor/image(13).jpg\n",
            "/content/drive/MyDrive/Dataset/Dataset Citra 240 - 235/raw dataset/pituitary_tumor/image(15).jpg\n",
            "/content/drive/MyDrive/Dataset/Dataset Citra 240 - 235/raw dataset/pituitary_tumor/image(18).jpg\n",
            "/content/drive/MyDrive/Dataset/Dataset Citra 240 - 235/raw dataset/pituitary_tumor/image(19).jpg\n",
            "/content/drive/MyDrive/Dataset/Dataset Citra 240 - 235/raw dataset/pituitary_tumor/image(2).jpg\n",
            "/content/drive/MyDrive/Dataset/Dataset Citra 240 - 235/raw dataset/pituitary_tumor/image(20).jpg\n",
            "/content/drive/MyDrive/Dataset/Dataset Citra 240 - 235/raw dataset/pituitary_tumor/image(21).jpg\n",
            "/content/drive/MyDrive/Dataset/Dataset Citra 240 - 235/raw dataset/pituitary_tumor/image(22).jpg\n",
            "/content/drive/MyDrive/Dataset/Dataset Citra 240 - 235/raw dataset/pituitary_tumor/image(23).jpg\n",
            "/content/drive/MyDrive/Dataset/Dataset Citra 240 - 235/raw dataset/pituitary_tumor/image(27).jpg\n",
            "/content/drive/MyDrive/Dataset/Dataset Citra 240 - 235/raw dataset/pituitary_tumor/image(28).jpg\n",
            "/content/drive/MyDrive/Dataset/Dataset Citra 240 - 235/raw dataset/pituitary_tumor/image(3).jpg\n",
            "/content/drive/MyDrive/Dataset/Dataset Citra 240 - 235/raw dataset/pituitary_tumor/image(30).jpg\n",
            "/content/drive/MyDrive/Dataset/Dataset Citra 240 - 235/raw dataset/pituitary_tumor/image(31).jpg\n",
            "/content/drive/MyDrive/Dataset/Dataset Citra 240 - 235/raw dataset/pituitary_tumor/image(34).jpg\n",
            "/content/drive/MyDrive/Dataset/Dataset Citra 240 - 235/raw dataset/pituitary_tumor/image(35).jpg\n",
            "/content/drive/MyDrive/Dataset/Dataset Citra 240 - 235/raw dataset/pituitary_tumor/image(36).jpg\n",
            "/content/drive/MyDrive/Dataset/Dataset Citra 240 - 235/raw dataset/pituitary_tumor/image(37).jpg\n",
            "/content/drive/MyDrive/Dataset/Dataset Citra 240 - 235/raw dataset/pituitary_tumor/image(38).jpg\n",
            "/content/drive/MyDrive/Dataset/Dataset Citra 240 - 235/raw dataset/pituitary_tumor/image(41).jpg\n",
            "/content/drive/MyDrive/Dataset/Dataset Citra 240 - 235/raw dataset/pituitary_tumor/image(42).jpg\n",
            "/content/drive/MyDrive/Dataset/Dataset Citra 240 - 235/raw dataset/pituitary_tumor/image(43).jpg\n",
            "/content/drive/MyDrive/Dataset/Dataset Citra 240 - 235/raw dataset/pituitary_tumor/image(44).jpg\n",
            "/content/drive/MyDrive/Dataset/Dataset Citra 240 - 235/raw dataset/pituitary_tumor/image(45).jpg\n",
            "/content/drive/MyDrive/Dataset/Dataset Citra 240 - 235/raw dataset/pituitary_tumor/image(46).jpg\n",
            "/content/drive/MyDrive/Dataset/Dataset Citra 240 - 235/raw dataset/pituitary_tumor/image(47).jpg\n",
            "/content/drive/MyDrive/Dataset/Dataset Citra 240 - 235/raw dataset/pituitary_tumor/image(48).jpg\n",
            "/content/drive/MyDrive/Dataset/Dataset Citra 240 - 235/raw dataset/pituitary_tumor/image(49).jpg\n",
            "/content/drive/MyDrive/Dataset/Dataset Citra 240 - 235/raw dataset/pituitary_tumor/image(5).jpg\n",
            "/content/drive/MyDrive/Dataset/Dataset Citra 240 - 235/raw dataset/pituitary_tumor/image(51).jpg\n",
            "/content/drive/MyDrive/Dataset/Dataset Citra 240 - 235/raw dataset/pituitary_tumor/image(52).jpg\n",
            "/content/drive/MyDrive/Dataset/Dataset Citra 240 - 235/raw dataset/pituitary_tumor/image(53).jpg\n",
            "/content/drive/MyDrive/Dataset/Dataset Citra 240 - 235/raw dataset/pituitary_tumor/image(54).jpg\n",
            "/content/drive/MyDrive/Dataset/Dataset Citra 240 - 235/raw dataset/pituitary_tumor/image(55).jpg\n",
            "/content/drive/MyDrive/Dataset/Dataset Citra 240 - 235/raw dataset/pituitary_tumor/image(56).jpg\n",
            "/content/drive/MyDrive/Dataset/Dataset Citra 240 - 235/raw dataset/pituitary_tumor/image(57).jpg\n",
            "/content/drive/MyDrive/Dataset/Dataset Citra 240 - 235/raw dataset/pituitary_tumor/image(6).jpg\n",
            "/content/drive/MyDrive/Dataset/Dataset Citra 240 - 235/raw dataset/pituitary_tumor/image(60).jpg\n",
            "/content/drive/MyDrive/Dataset/Dataset Citra 240 - 235/raw dataset/pituitary_tumor/image(61).jpg\n",
            "/content/drive/MyDrive/Dataset/Dataset Citra 240 - 235/raw dataset/pituitary_tumor/image(63).jpg\n",
            "/content/drive/MyDrive/Dataset/Dataset Citra 240 - 235/raw dataset/pituitary_tumor/image(64).jpg\n",
            "/content/drive/MyDrive/Dataset/Dataset Citra 240 - 235/raw dataset/pituitary_tumor/image(65).jpg\n",
            "/content/drive/MyDrive/Dataset/Dataset Citra 240 - 235/raw dataset/pituitary_tumor/image(66).jpg\n",
            "/content/drive/MyDrive/Dataset/Dataset Citra 240 - 235/raw dataset/pituitary_tumor/image(67).jpg\n",
            "/content/drive/MyDrive/Dataset/Dataset Citra 240 - 235/raw dataset/pituitary_tumor/image(68).jpg\n",
            "/content/drive/MyDrive/Dataset/Dataset Citra 240 - 235/raw dataset/pituitary_tumor/image(69).jpg\n",
            "/content/drive/MyDrive/Dataset/Dataset Citra 240 - 235/raw dataset/pituitary_tumor/image(7).jpg\n",
            "/content/drive/MyDrive/Dataset/Dataset Citra 240 - 235/raw dataset/pituitary_tumor/image(70).jpg\n",
            "/content/drive/MyDrive/Dataset/Dataset Citra 240 - 235/raw dataset/pituitary_tumor/image(73).jpg\n",
            "/content/drive/MyDrive/Dataset/Dataset Citra 240 - 235/raw dataset/pituitary_tumor/image(76).jpg\n",
            "/content/drive/MyDrive/Dataset/Dataset Citra 240 - 235/raw dataset/pituitary_tumor/image(77).jpg\n",
            "/content/drive/MyDrive/Dataset/Dataset Citra 240 - 235/raw dataset/pituitary_tumor/image(78).jpg\n",
            "/content/drive/MyDrive/Dataset/Dataset Citra 240 - 235/raw dataset/pituitary_tumor/image(79).jpg\n",
            "/content/drive/MyDrive/Dataset/Dataset Citra 240 - 235/raw dataset/pituitary_tumor/image(8).jpg\n",
            "/content/drive/MyDrive/Dataset/Dataset Citra 240 - 235/raw dataset/pituitary_tumor/image(81).jpg\n",
            "/content/drive/MyDrive/Dataset/Dataset Citra 240 - 235/raw dataset/pituitary_tumor/image(82).jpg\n",
            "/content/drive/MyDrive/Dataset/Dataset Citra 240 - 235/raw dataset/pituitary_tumor/image(85).jpg\n",
            "/content/drive/MyDrive/Dataset/Dataset Citra 240 - 235/raw dataset/pituitary_tumor/image(86).jpg\n",
            "/content/drive/MyDrive/Dataset/Dataset Citra 240 - 235/raw dataset/pituitary_tumor/image(87).jpg\n",
            "/content/drive/MyDrive/Dataset/Dataset Citra 240 - 235/raw dataset/pituitary_tumor/image(88).jpg\n",
            "/content/drive/MyDrive/Dataset/Dataset Citra 240 - 235/raw dataset/pituitary_tumor/image(89).jpg\n",
            "/content/drive/MyDrive/Dataset/Dataset Citra 240 - 235/raw dataset/pituitary_tumor/image(90).jpg\n",
            "/content/drive/MyDrive/Dataset/Dataset Citra 240 - 235/raw dataset/pituitary_tumor/image(91).jpg\n",
            "/content/drive/MyDrive/Dataset/Dataset Citra 240 - 235/raw dataset/pituitary_tumor/image(92).jpg\n",
            "/content/drive/MyDrive/Dataset/Dataset Citra 240 - 235/raw dataset/pituitary_tumor/image(93).jpg\n",
            "/content/drive/MyDrive/Dataset/Dataset Citra 240 - 235/raw dataset/pituitary_tumor/image(94).jpg\n",
            "/content/drive/MyDrive/Dataset/Dataset Citra 240 - 235/raw dataset/pituitary_tumor/image(95).jpg\n",
            "/content/drive/MyDrive/Dataset/Dataset Citra 240 - 235/raw dataset/pituitary_tumor/image(96).jpg\n",
            "/content/drive/MyDrive/Dataset/Dataset Citra 240 - 235/raw dataset/pituitary_tumor/image(97).jpg\n",
            "/content/drive/MyDrive/Dataset/Dataset Citra 240 - 235/raw dataset/pituitary_tumor/image(98).jpg\n",
            "/content/drive/MyDrive/Dataset/Dataset Citra 240 - 235/raw dataset/pituitary_tumor/image.jpg\n"
          ],
          "name": "stdout"
        }
      ]
    },
    {
      "cell_type": "code",
      "metadata": {
        "id": "qo7xoeVyia55"
      },
      "source": [
        "import glob \n",
        "for path in glob.glob(\"/content/drive/MyDrive/Dataset/Dataset Citra 240 - 235/raw dataset/glioma_tumor (1)*\"):\n",
        "    shutil.rmtree(path)\n",
        "for path in glob.glob(\"/content/drive/MyDrive/Dataset/Dataset Citra 240 - 235/raw dataset/meningioma_tumor (1)*\"):\n",
        "    shutil.rmtree(path)\n",
        "for path in glob.glob(\"/content/drive/MyDrive/Dataset/Dataset Citra 240 - 235/raw dataset/no_tumor (1)*\"):\n",
        "    shutil.rmtree(path)\n",
        "for path in glob.glob(\"/content/drive/MyDrive/Dataset/Dataset Citra 240 - 235/raw dataset/pituitary_tumor (1)*\"):\n",
        "    shutil.rmtree(path)"
      ],
      "execution_count": null,
      "outputs": []
    },
    {
      "cell_type": "markdown",
      "metadata": {
        "id": "KTXVDa8WoJm3"
      },
      "source": [
        "###Split Dataset dengan Alokasi 80% 20%"
      ]
    },
    {
      "cell_type": "code",
      "metadata": {
        "colab": {
          "base_uri": "https://localhost:8080/"
        },
        "id": "Vk48pSJToIZt",
        "outputId": "2aea1a43-9ed8-40bc-9111-1f30b57484a6"
      },
      "source": [
        "!pip install split-folders"
      ],
      "execution_count": null,
      "outputs": [
        {
          "output_type": "stream",
          "text": [
            "Collecting split-folders\n",
            "  Downloading https://files.pythonhosted.org/packages/b8/5f/3c2b2f7ea5e047c8cdc3bb00ae582c5438fcdbbedcc23b3cc1c2c7aae642/split_folders-0.4.3-py3-none-any.whl\n",
            "Installing collected packages: split-folders\n",
            "Successfully installed split-folders-0.4.3\n"
          ],
          "name": "stdout"
        }
      ]
    },
    {
      "cell_type": "code",
      "metadata": {
        "id": "DI90glOCoelm"
      },
      "source": [
        "!mkdir \"New Dataset\""
      ],
      "execution_count": null,
      "outputs": []
    },
    {
      "cell_type": "code",
      "metadata": {
        "colab": {
          "base_uri": "https://localhost:8080/"
        },
        "id": "-0wghmN8oe8m",
        "outputId": "c105ba1f-9bef-4206-f758-ec20a8033c4d"
      },
      "source": [
        "import splitfolders\n",
        "splitfolders.ratio('/content/drive/MyDrive/Dataset/Dataset Citra 240 - 235/raw dataset', output='/content/drive/MyDrive/Dataset/Dataset Citra 240 - 235/New Dataset',\n",
        "                   seed=82, ratio=(.8, .2), group_prefix=None)"
      ],
      "execution_count": null,
      "outputs": [
        {
          "output_type": "stream",
          "text": [
            "Copying files: 3160 files [00:34, 90.64 files/s]\n"
          ],
          "name": "stderr"
        }
      ]
    },
    {
      "cell_type": "code",
      "metadata": {
        "colab": {
          "base_uri": "https://localhost:8080/"
        },
        "id": "oobBH-tytWTk",
        "outputId": "06a96d8b-790e-42fe-84a4-82cd9323e4e0"
      },
      "source": [
        "total_image = len(list(glob.iglob(\"/content/drive/MyDrive/Dataset/Dataset Citra 240 - 235/New Dataset/train/*/*.jpg*\", recursive=True)))\n",
        "print(\"Total Dataset Train    : \",total_image,\" JPG Image \\n\")"
      ],
      "execution_count": null,
      "outputs": [
        {
          "output_type": "stream",
          "text": [
            "Total Dataset Train    :  2525  JPG Image \n",
            "\n"
          ],
          "name": "stdout"
        }
      ]
    },
    {
      "cell_type": "code",
      "metadata": {
        "colab": {
          "base_uri": "https://localhost:8080/"
        },
        "id": "bj3d2S7ks-Ia",
        "outputId": "a0ec000f-5125-42e1-c34b-f1da3e39927e"
      },
      "source": [
        "total_image = len(list(glob.iglob(\"/content/drive/MyDrive/Dataset/Dataset Citra 240 - 235/New Dataset/val/*/*.jpg*\", recursive=True)))\n",
        "print(\"Total Dataset Val    : \",total_image,\" JPG Image \\n\")"
      ],
      "execution_count": null,
      "outputs": [
        {
          "output_type": "stream",
          "text": [
            "Total Data Image    :  635  PNG Image \n",
            "\n"
          ],
          "name": "stdout"
        }
      ]
    },
    {
      "cell_type": "markdown",
      "metadata": {
        "id": "sSmgd42imyNT"
      },
      "source": [
        "###Preprocessing"
      ]
    },
    {
      "cell_type": "code",
      "metadata": {
        "id": "KPYIejaoCmbg"
      },
      "source": [
        "import numpy as np\n",
        "import pandas as pd\n",
        "import matplotlib.pyplot as plt\n",
        "import cv2\n",
        "import os\n",
        "\n",
        "training_dir = r\"/content/drive/MyDrive/Dataset/Dataset Citra 240 - 235/New Dataset/train/\"\n",
        "validation_dir = r\"/content/drive/MyDrive/Dataset/Dataset Citra 240 - 235/New Dataset/val/\"\n",
        "\n",
        "categories = [\"glioma_tumor\",\"meningioma_tumor\",\"no_tumor\",\"pituitary_tumor\"]"
      ],
      "execution_count": null,
      "outputs": []
    },
    {
      "cell_type": "code",
      "metadata": {
        "colab": {
          "base_uri": "https://localhost:8080/"
        },
        "id": "sRMdcV71ChQK",
        "outputId": "4b9c91e5-ebce-4220-bb22-424581a888aa"
      },
      "source": [
        "img_size = (150,150)\n",
        "\n",
        "training_data = []\n",
        "\n",
        "def create_training_data():\n",
        "    for category in categories:\n",
        "        path = os.path.join(training_dir,category)\n",
        "        class_num = categories.index(category)\n",
        "        for img in os.listdir(path):\n",
        "            try:\n",
        "                img_array = cv2.imread(os.path.join(path,img))\n",
        "                new_array = cv2.resize(img_array,img_size) \n",
        "                training_data.append([new_array,class_num])\n",
        "            except Exception as e:\n",
        "                pass\n",
        "create_training_data()\n",
        "print(\"Berhasil Create Training Data\")"
      ],
      "execution_count": null,
      "outputs": [
        {
          "output_type": "stream",
          "text": [
            "Berhasil Create Training Data\n"
          ],
          "name": "stdout"
        }
      ]
    },
    {
      "cell_type": "code",
      "metadata": {
        "colab": {
          "base_uri": "https://localhost:8080/"
        },
        "id": "N1LFTOiUXqwr",
        "outputId": "259a6822-f95e-4e61-e7b0-d130bf6cc997"
      },
      "source": [
        "X_train = []\n",
        "Y_train = []\n",
        "for features,label in training_data:\n",
        "    X_train.append(features)\n",
        "    Y_train.append(label)\n",
        "X_train = np.array(X_train).reshape(-1,150,150)\n",
        "X_train = X_train.astype('float32')/255.0  \n",
        "X_train = X_train.reshape(-1,150,150,3)\n",
        "print(X_train.shape)"
      ],
      "execution_count": null,
      "outputs": [
        {
          "output_type": "stream",
          "text": [
            "(2525, 150, 150, 3)\n"
          ],
          "name": "stdout"
        }
      ]
    },
    {
      "cell_type": "code",
      "metadata": {
        "colab": {
          "base_uri": "https://localhost:8080/"
        },
        "id": "XutR_hzaKY9e",
        "outputId": "1dca1fd4-d4de-42b1-9272-28a8508c73f0"
      },
      "source": [
        "IMG_SIZE = 150\n",
        "\n",
        "validation_data = []\n",
        "\n",
        "def create_validation_data():\n",
        "    for category in categories:\n",
        "        path = os.path.join(validation_dir,category)\n",
        "        class_num = categories.index(category)\n",
        "        for img in os.listdir(path):\n",
        "            try:\n",
        "                img_array = cv2.imread(os.path.join(path,img))\n",
        "                new_array = cv2.resize(img_array,img_size) \n",
        "                validation_data.append([new_array,class_num])\n",
        "            except Exception as e:\n",
        "                pass\n",
        "create_validation_data()\n",
        "print(\"Berhasil Create Validation Data\")"
      ],
      "execution_count": null,
      "outputs": [
        {
          "output_type": "stream",
          "text": [
            "Berhasil Create Validation Data\n"
          ],
          "name": "stdout"
        }
      ]
    },
    {
      "cell_type": "code",
      "metadata": {
        "colab": {
          "base_uri": "https://localhost:8080/"
        },
        "id": "ZArv4GT7MhEL",
        "outputId": "d0779f94-4fb6-4aa4-dc95-e01422fe25ab"
      },
      "source": [
        "X_val = []\n",
        "Y_val = []\n",
        "for features,label in validation_data:\n",
        "    X_val.append(features)\n",
        "    Y_val.append(label)\n",
        "X_val = np.array(X_val).reshape(-1,150,150)\n",
        "X_val = X_val.astype('float32')/255.0  \n",
        "X_val = X_val.reshape(-1,150,150,3)\n",
        "print(X_val.shape)"
      ],
      "execution_count": null,
      "outputs": [
        {
          "output_type": "stream",
          "text": [
            "(635, 150, 150, 3)\n"
          ],
          "name": "stdout"
        }
      ]
    },
    {
      "cell_type": "code",
      "metadata": {
        "id": "24jRJzNvUDb3"
      },
      "source": [
        "Y_train = np.array(Y_train)\n",
        "Y_val = np.array(Y_val)"
      ],
      "execution_count": null,
      "outputs": []
    },
    {
      "cell_type": "code",
      "metadata": {
        "id": "CQk8bffnXtgI"
      },
      "source": [
        "from keras.utils.np_utils import to_categorical # convert to one-hot-encoding\n",
        "Y_train = to_categorical(Y_train, num_classes = 4)\n",
        "Y_val = to_categorical(Y_val, num_classes = 4)"
      ],
      "execution_count": null,
      "outputs": []
    },
    {
      "cell_type": "code",
      "metadata": {
        "colab": {
          "base_uri": "https://localhost:8080/"
        },
        "id": "a3vYqTEYXw8Q",
        "outputId": "54c7705a-c56c-4165-978d-e08f68c3f393"
      },
      "source": [
        "print(\"x_train shape\",X_train.shape)\n",
        "print(\"x_test shape\",X_val.shape)\n",
        "print(\"y_train shape\",Y_train.shape)\n",
        "print(\"y_test shape\",Y_val.shape)"
      ],
      "execution_count": null,
      "outputs": [
        {
          "output_type": "stream",
          "text": [
            "x_train shape (2525, 150, 150, 3)\n",
            "x_test shape (635, 150, 150, 3)\n",
            "y_train shape (2525, 4)\n",
            "y_test shape (635, 4)\n"
          ],
          "name": "stdout"
        }
      ]
    },
    {
      "cell_type": "markdown",
      "metadata": {
        "id": "0xUWN3DZIf4g"
      },
      "source": [
        "#Rancangan Model 1\n",
        "Model 1 = [ 5 Layer CNN,1 Full Connected Layer , Output 4 Softmax ] \\"
      ]
    },
    {
      "cell_type": "code",
      "metadata": {
        "id": "DSHFhj79Kaa_"
      },
      "source": [
        "import itertools\n",
        "from keras.utils.np_utils import to_categorical \n",
        "from keras.models import Sequential\n",
        "from keras.layers import Dense, Dropout, Flatten, Conv2D, MaxPooling2D, Input\n",
        "from keras.optimizers import Adam\n",
        "from keras.preprocessing.image import ImageDataGenerator"
      ],
      "execution_count": null,
      "outputs": []
    },
    {
      "cell_type": "code",
      "metadata": {
        "colab": {
          "base_uri": "https://localhost:8080/"
        },
        "id": "Xrenc409XxeO",
        "outputId": "1e480e34-3aab-4574-87f0-c46a31f328d2"
      },
      "source": [
        "model = Sequential(\n",
        "    [\n",
        "     Input(shape=(150,150,3)),\n",
        "\n",
        "     # Activation menggunakan relu\n",
        "     Conv2D(64, (5,5),padding = 'Same', activation = 'relu'),\n",
        "     MaxPooling2D(pool_size = (2,2)),\n",
        "     Dropout(0.25),\n",
        "\n",
        "     Conv2D(128, (3,3),padding = 'Same', activation = 'relu'),\n",
        "     MaxPooling2D(pool_size = (2,2), strides=(2,2)),\n",
        "     Dropout(0.25),\n",
        "\n",
        "     Conv2D(128, (3,3),padding = 'Same', activation = 'relu'),\n",
        "     MaxPooling2D(pool_size = (2,2), strides=(2,2)),\n",
        "     Dropout(0.3),\n",
        "\n",
        "     Conv2D(128, (3,3),padding = 'Same', activation = 'relu'),\n",
        "     MaxPooling2D(pool_size = (2,2), strides=(2,2)),\n",
        "     Dropout(0.3),\n",
        "\n",
        "     Conv2D(256, (3,3),padding = 'Same', activation = 'relu'),\n",
        "     MaxPooling2D(pool_size = (2,2), strides=(2,2)),\n",
        "     Dropout(0.3),\n",
        "\n",
        "      #meratakan 1 dimensi \n",
        "     Flatten(),\n",
        "     \n",
        "     Dense(1024, activation = 'relu'),\n",
        "     Dropout(0.5),\n",
        "     Dense(4, activation='softmax')\n",
        "    ]\n",
        ")\n",
        "\n",
        "model.summary()"
      ],
      "execution_count": null,
      "outputs": [
        {
          "output_type": "stream",
          "text": [
            "Model: \"sequential_9\"\n",
            "_________________________________________________________________\n",
            "Layer (type)                 Output Shape              Param #   \n",
            "=================================================================\n",
            "conv2d_45 (Conv2D)           (None, 150, 150, 64)      4864      \n",
            "_________________________________________________________________\n",
            "max_pooling2d_45 (MaxPooling (None, 75, 75, 64)        0         \n",
            "_________________________________________________________________\n",
            "dropout_54 (Dropout)         (None, 75, 75, 64)        0         \n",
            "_________________________________________________________________\n",
            "conv2d_46 (Conv2D)           (None, 75, 75, 128)       73856     \n",
            "_________________________________________________________________\n",
            "max_pooling2d_46 (MaxPooling (None, 37, 37, 128)       0         \n",
            "_________________________________________________________________\n",
            "dropout_55 (Dropout)         (None, 37, 37, 128)       0         \n",
            "_________________________________________________________________\n",
            "conv2d_47 (Conv2D)           (None, 37, 37, 128)       147584    \n",
            "_________________________________________________________________\n",
            "max_pooling2d_47 (MaxPooling (None, 18, 18, 128)       0         \n",
            "_________________________________________________________________\n",
            "dropout_56 (Dropout)         (None, 18, 18, 128)       0         \n",
            "_________________________________________________________________\n",
            "conv2d_48 (Conv2D)           (None, 18, 18, 128)       147584    \n",
            "_________________________________________________________________\n",
            "max_pooling2d_48 (MaxPooling (None, 9, 9, 128)         0         \n",
            "_________________________________________________________________\n",
            "dropout_57 (Dropout)         (None, 9, 9, 128)         0         \n",
            "_________________________________________________________________\n",
            "conv2d_49 (Conv2D)           (None, 9, 9, 256)         295168    \n",
            "_________________________________________________________________\n",
            "max_pooling2d_49 (MaxPooling (None, 4, 4, 256)         0         \n",
            "_________________________________________________________________\n",
            "dropout_58 (Dropout)         (None, 4, 4, 256)         0         \n",
            "_________________________________________________________________\n",
            "flatten_9 (Flatten)          (None, 4096)              0         \n",
            "_________________________________________________________________\n",
            "dense_18 (Dense)             (None, 1024)              4195328   \n",
            "_________________________________________________________________\n",
            "dropout_59 (Dropout)         (None, 1024)              0         \n",
            "_________________________________________________________________\n",
            "dense_19 (Dense)             (None, 4)                 4100      \n",
            "=================================================================\n",
            "Total params: 4,868,484\n",
            "Trainable params: 4,868,484\n",
            "Non-trainable params: 0\n",
            "_________________________________________________________________\n"
          ],
          "name": "stdout"
        }
      ]
    },
    {
      "cell_type": "code",
      "metadata": {
        "id": "Li-92Gu9ChDO"
      },
      "source": [
        "Adam(learning_rate=0.00146, name='Adam')\n",
        "model.compile(optimizer = 'Adam',loss = 'categorical_crossentropy',metrics = ['accuracy'])"
      ],
      "execution_count": null,
      "outputs": []
    },
    {
      "cell_type": "code",
      "metadata": {
        "id": "N9yCVn2fX-7D"
      },
      "source": [
        "epochs = 50  \n",
        "batch_size = 32\n",
        "\n",
        "datagen = ImageDataGenerator(\n",
        "        rotation_range=0,\n",
        "        zoom_range = 0,\n",
        "        width_shift_range=0,  \n",
        "        height_shift_range=0,  \n",
        "        horizontal_flip=True,  \n",
        "        vertical_flip=False)  "
      ],
      "execution_count": null,
      "outputs": []
    },
    {
      "cell_type": "code",
      "metadata": {
        "id": "mRjIAWlcJG6J"
      },
      "source": [
        "import tensorflow as tf\n",
        "class myCallback(tf.keras.callbacks.Callback):\n",
        "  def on_epoch_end(self, epoch, logs={}):\n",
        "    if(logs.get('accuracy')>0.97 and logs.get('val_accuracy')>0.97):\n",
        "      print(\"\\n\\nAkurasi train dan validasi telah mencapai nilai > 97%!\")\n",
        "      self.model.stop_training = True\n",
        "callbacks = myCallback()"
      ],
      "execution_count": null,
      "outputs": []
    },
    {
      "cell_type": "code",
      "metadata": {
        "colab": {
          "base_uri": "https://localhost:8080/"
        },
        "id": "E4mdNsJaSjqG",
        "outputId": "3718da38-4589-47aa-9cf7-73f4390bb459"
      },
      "source": [
        "import time\n",
        "\n",
        "start = time.time()\n",
        "datagen.fit(X_train)\n",
        "history = model.fit_generator(datagen.flow(X_train,Y_train, batch_size=batch_size),\n",
        "                              epochs = epochs, validation_data = (X_val,Y_val),\n",
        "                              steps_per_epoch = X_train.shape[0] // batch_size,\n",
        "                              callbacks=[callbacks])\n",
        "stop = time.time()"
      ],
      "execution_count": null,
      "outputs": [
        {
          "output_type": "stream",
          "text": [
            "Epoch 1/50\n",
            "78/78 [==============================] - 288s 4s/step - loss: 1.2987 - accuracy: 0.3779 - val_loss: 1.1590 - val_accuracy: 0.4835\n",
            "Epoch 2/50\n",
            "78/78 [==============================] - 300s 4s/step - loss: 1.0356 - accuracy: 0.5363 - val_loss: 1.0839 - val_accuracy: 0.5291\n",
            "Epoch 3/50\n",
            "78/78 [==============================] - 296s 4s/step - loss: 0.8905 - accuracy: 0.6266 - val_loss: 0.9898 - val_accuracy: 0.5528\n",
            "Epoch 4/50\n",
            "78/78 [==============================] - 299s 4s/step - loss: 0.8445 - accuracy: 0.6282 - val_loss: 0.7464 - val_accuracy: 0.6693\n",
            "Epoch 5/50\n",
            "78/78 [==============================] - 297s 4s/step - loss: 0.7054 - accuracy: 0.7068 - val_loss: 0.7845 - val_accuracy: 0.6362\n",
            "Epoch 6/50\n",
            "78/78 [==============================] - 294s 4s/step - loss: 0.6305 - accuracy: 0.7457 - val_loss: 0.8182 - val_accuracy: 0.6331\n",
            "Epoch 7/50\n",
            "78/78 [==============================] - 287s 4s/step - loss: 0.5810 - accuracy: 0.7694 - val_loss: 0.6202 - val_accuracy: 0.7402\n",
            "Epoch 8/50\n",
            "78/78 [==============================] - 286s 4s/step - loss: 0.5243 - accuracy: 0.7913 - val_loss: 0.5878 - val_accuracy: 0.7370\n",
            "Epoch 9/50\n",
            "78/78 [==============================] - 292s 4s/step - loss: 0.4966 - accuracy: 0.8083 - val_loss: 0.5343 - val_accuracy: 0.7732\n",
            "Epoch 10/50\n",
            "78/78 [==============================] - 291s 4s/step - loss: 0.4533 - accuracy: 0.8183 - val_loss: 0.6193 - val_accuracy: 0.7244\n",
            "Epoch 11/50\n",
            "78/78 [==============================] - 291s 4s/step - loss: 0.4200 - accuracy: 0.8432 - val_loss: 0.5730 - val_accuracy: 0.7465\n",
            "Epoch 12/50\n",
            "78/78 [==============================] - 291s 4s/step - loss: 0.4188 - accuracy: 0.8359 - val_loss: 0.4881 - val_accuracy: 0.8126\n",
            "Epoch 13/50\n",
            "78/78 [==============================] - 291s 4s/step - loss: 0.3820 - accuracy: 0.8556 - val_loss: 0.3880 - val_accuracy: 0.8551\n",
            "Epoch 14/50\n",
            "78/78 [==============================] - 292s 4s/step - loss: 0.3714 - accuracy: 0.8504 - val_loss: 0.4162 - val_accuracy: 0.8394\n",
            "Epoch 15/50\n",
            "78/78 [==============================] - 291s 4s/step - loss: 0.3260 - accuracy: 0.8712 - val_loss: 0.4496 - val_accuracy: 0.8236\n",
            "Epoch 16/50\n",
            "78/78 [==============================] - 290s 4s/step - loss: 0.3108 - accuracy: 0.8773 - val_loss: 0.4976 - val_accuracy: 0.8094\n",
            "Epoch 17/50\n",
            "78/78 [==============================] - 290s 4s/step - loss: 0.3235 - accuracy: 0.8744 - val_loss: 0.3379 - val_accuracy: 0.8882\n",
            "Epoch 18/50\n",
            "78/78 [==============================] - 288s 4s/step - loss: 0.2560 - accuracy: 0.9013 - val_loss: 0.3642 - val_accuracy: 0.8677\n",
            "Epoch 19/50\n",
            "78/78 [==============================] - 284s 4s/step - loss: 0.2651 - accuracy: 0.8989 - val_loss: 0.3471 - val_accuracy: 0.8724\n",
            "Epoch 20/50\n",
            "78/78 [==============================] - 285s 4s/step - loss: 0.2522 - accuracy: 0.9077 - val_loss: 0.3956 - val_accuracy: 0.8394\n",
            "Epoch 21/50\n",
            "78/78 [==============================] - 286s 4s/step - loss: 0.2341 - accuracy: 0.9162 - val_loss: 0.4003 - val_accuracy: 0.8520\n",
            "Epoch 22/50\n",
            "78/78 [==============================] - 286s 4s/step - loss: 0.2491 - accuracy: 0.9130 - val_loss: 0.3515 - val_accuracy: 0.8724\n",
            "Epoch 23/50\n",
            "78/78 [==============================] - 284s 4s/step - loss: 0.2143 - accuracy: 0.9178 - val_loss: 0.3133 - val_accuracy: 0.8850\n",
            "Epoch 24/50\n",
            "78/78 [==============================] - 285s 4s/step - loss: 0.2105 - accuracy: 0.9230 - val_loss: 0.2946 - val_accuracy: 0.8803\n",
            "Epoch 25/50\n",
            "78/78 [==============================] - 287s 4s/step - loss: 0.2014 - accuracy: 0.9230 - val_loss: 0.4333 - val_accuracy: 0.8409\n",
            "Epoch 26/50\n",
            "78/78 [==============================] - 288s 4s/step - loss: 0.2145 - accuracy: 0.9250 - val_loss: 0.2958 - val_accuracy: 0.8961\n",
            "Epoch 27/50\n",
            "78/78 [==============================] - 287s 4s/step - loss: 0.2113 - accuracy: 0.9222 - val_loss: 0.3017 - val_accuracy: 0.8945\n",
            "Epoch 28/50\n",
            "78/78 [==============================] - 288s 4s/step - loss: 0.1885 - accuracy: 0.9326 - val_loss: 0.2845 - val_accuracy: 0.9039\n",
            "Epoch 29/50\n",
            "78/78 [==============================] - 288s 4s/step - loss: 0.1913 - accuracy: 0.9310 - val_loss: 0.3514 - val_accuracy: 0.8772\n",
            "Epoch 30/50\n",
            "78/78 [==============================] - 288s 4s/step - loss: 0.1732 - accuracy: 0.9314 - val_loss: 0.2633 - val_accuracy: 0.9118\n",
            "Epoch 31/50\n",
            "78/78 [==============================] - 290s 4s/step - loss: 0.1440 - accuracy: 0.9450 - val_loss: 0.2740 - val_accuracy: 0.9071\n",
            "Epoch 32/50\n",
            "78/78 [==============================] - 291s 4s/step - loss: 0.1855 - accuracy: 0.9322 - val_loss: 0.3186 - val_accuracy: 0.8756\n",
            "Epoch 33/50\n",
            "78/78 [==============================] - 289s 4s/step - loss: 0.1372 - accuracy: 0.9495 - val_loss: 0.2696 - val_accuracy: 0.9150\n",
            "Epoch 34/50\n",
            "78/78 [==============================] - 288s 4s/step - loss: 0.1456 - accuracy: 0.9495 - val_loss: 0.2517 - val_accuracy: 0.9244\n",
            "Epoch 35/50\n",
            "78/78 [==============================] - 288s 4s/step - loss: 0.1615 - accuracy: 0.9338 - val_loss: 0.3061 - val_accuracy: 0.9024\n",
            "Epoch 36/50\n",
            "78/78 [==============================] - 286s 4s/step - loss: 0.1423 - accuracy: 0.9479 - val_loss: 0.2946 - val_accuracy: 0.9134\n",
            "Epoch 37/50\n",
            "78/78 [==============================] - 286s 4s/step - loss: 0.1374 - accuracy: 0.9555 - val_loss: 0.2783 - val_accuracy: 0.9087\n",
            "Epoch 38/50\n",
            "78/78 [==============================] - 286s 4s/step - loss: 0.1444 - accuracy: 0.9471 - val_loss: 0.2702 - val_accuracy: 0.9260\n",
            "Epoch 39/50\n",
            "78/78 [==============================] - 285s 4s/step - loss: 0.1296 - accuracy: 0.9499 - val_loss: 0.2890 - val_accuracy: 0.9024\n",
            "Epoch 40/50\n",
            "78/78 [==============================] - 284s 4s/step - loss: 0.1209 - accuracy: 0.9563 - val_loss: 0.2650 - val_accuracy: 0.9165\n",
            "Epoch 41/50\n",
            "78/78 [==============================] - 286s 4s/step - loss: 0.1158 - accuracy: 0.9567 - val_loss: 0.2984 - val_accuracy: 0.9087\n",
            "Epoch 42/50\n",
            "78/78 [==============================] - 284s 4s/step - loss: 0.1219 - accuracy: 0.9543 - val_loss: 0.2645 - val_accuracy: 0.9213\n",
            "Epoch 43/50\n",
            "78/78 [==============================] - 283s 4s/step - loss: 0.1001 - accuracy: 0.9619 - val_loss: 0.2781 - val_accuracy: 0.9244\n",
            "Epoch 44/50\n",
            "78/78 [==============================] - 286s 4s/step - loss: 0.1521 - accuracy: 0.9458 - val_loss: 0.2640 - val_accuracy: 0.9276\n",
            "Epoch 45/50\n",
            "78/78 [==============================] - 296s 4s/step - loss: 0.1195 - accuracy: 0.9587 - val_loss: 0.2334 - val_accuracy: 0.9307\n",
            "Epoch 46/50\n",
            "78/78 [==============================] - 299s 4s/step - loss: 0.1166 - accuracy: 0.9531 - val_loss: 0.2321 - val_accuracy: 0.9323\n",
            "Epoch 47/50\n",
            "78/78 [==============================] - 299s 4s/step - loss: 0.1119 - accuracy: 0.9631 - val_loss: 0.3775 - val_accuracy: 0.9055\n",
            "Epoch 48/50\n",
            "78/78 [==============================] - 301s 4s/step - loss: 0.1106 - accuracy: 0.9587 - val_loss: 0.3570 - val_accuracy: 0.8803\n",
            "Epoch 49/50\n",
            "78/78 [==============================] - 303s 4s/step - loss: 0.0919 - accuracy: 0.9687 - val_loss: 0.3376 - val_accuracy: 0.9118\n",
            "Epoch 50/50\n",
            "78/78 [==============================] - 303s 4s/step - loss: 0.1063 - accuracy: 0.9651 - val_loss: 0.2656 - val_accuracy: 0.9197\n"
          ],
          "name": "stdout"
        }
      ]
    },
    {
      "cell_type": "code",
      "metadata": {
        "id": "chbLejnKCg4N",
        "colab": {
          "base_uri": "https://localhost:8080/"
        },
        "outputId": "a6a6cc61-3bda-4b25-d368-a9189c064496"
      },
      "source": [
        "print(f\" Waktu training {stop - start} s\")"
      ],
      "execution_count": null,
      "outputs": [
        {
          "output_type": "stream",
          "text": [
            " Waktu training 14683.768350839615 s\n"
          ],
          "name": "stdout"
        }
      ]
    },
    {
      "cell_type": "code",
      "metadata": {
        "colab": {
          "base_uri": "https://localhost:8080/"
        },
        "id": "LYuAuiWTtiEc",
        "outputId": "509eb5fe-e99e-4e3e-c5eb-53ebb133f527"
      },
      "source": [
        "model.save('model_1_brain.h5')\n",
        "print(\"Berhasil menyimpan model_1_brain.h5\")"
      ],
      "execution_count": null,
      "outputs": [
        {
          "output_type": "stream",
          "text": [
            "Berhasil menyimpan model_1_brain.h5\n"
          ],
          "name": "stdout"
        }
      ]
    },
    {
      "cell_type": "code",
      "metadata": {
        "colab": {
          "base_uri": "https://localhost:8080/"
        },
        "id": "yyBSlXp5dU35",
        "outputId": "4fd44034-7d61-428f-e200-6c5c81579ee7"
      },
      "source": [
        "from keras.models import load_model\n",
        "model = load_model('model_1_brain.h5')\n",
        "print(\"Berhasil load model_1_brain.h5\")"
      ],
      "execution_count": null,
      "outputs": [
        {
          "output_type": "stream",
          "text": [
            "Berhasil load model_1_brain.h5\n"
          ],
          "name": "stdout"
        }
      ]
    },
    {
      "cell_type": "markdown",
      "metadata": {
        "id": "nXi1JL0633JV"
      },
      "source": [
        "##Plot dan Evaluasi Model 1"
      ]
    },
    {
      "cell_type": "code",
      "metadata": {
        "id": "dSA6wfN14nsN"
      },
      "source": [
        "from keras.preprocessing import image\n",
        "import matplotlib.pyplot as plt\n",
        "import matplotlib.image as mpimg\n",
        "import seaborn as sns"
      ],
      "execution_count": null,
      "outputs": []
    },
    {
      "cell_type": "code",
      "metadata": {
        "id": "-ceoOVZZCg2M",
        "colab": {
          "base_uri": "https://localhost:8080/",
          "height": 278
        },
        "outputId": "ed0ecfd9-e801-43c0-b58b-7e2ed625be22"
      },
      "source": [
        "acc = history.history[\"accuracy\"]\n",
        "val_acc = history.history[\"val_accuracy\"]\n",
        "loss = history.history[\"loss\"]\n",
        "val_loss = history.history[\"val_loss\"]\n",
        "\n",
        "epochs = range(len(acc))\n",
        "\n",
        "fig, (ax1, ax2) = plt.subplots(1, 2, figsize=[20, 5])\n",
        "ax1.plot(epochs, acc, 'k')\n",
        "ax1.plot(epochs, val_acc, 'm')\n",
        "ax1.set_title('Model 1 accuracy')\n",
        "ax1.legend(['Model accuracy','Model Val accuracy'])\n",
        "\n",
        "ax2.plot(epochs, loss, 'k')\n",
        "ax2.plot(epochs, val_loss, 'm')\n",
        "ax2.set_title('Model 1 loss')\n",
        "ax2.legend(['Model loss','Model Val loss'])\n",
        "\n",
        "plt.show()"
      ],
      "execution_count": null,
      "outputs": [
        {
          "output_type": "display_data",
          "data": {
            "image/png": "[encoded data removed]",
            "text/plain": [
              "<Figure size 1440x360 with 2 Axes>"
            ]
          },
          "metadata": {
            "tags": [],
            "needs_background": "light"
          }
        }
      ]
    },
    {
      "cell_type": "markdown",
      "metadata": {
        "id": "-JWFO_esqXWc"
      },
      "source": [
        "Evaluasi Model Validasi"
      ]
    },
    {
      "cell_type": "code",
      "metadata": {
        "id": "s91GX32ryllL"
      },
      "source": [
        "from sklearn.metrics import f1_score, recall_score, accuracy_score\n",
        "from sklearn.metrics import precision_score, confusion_matrix, classification_report\n",
        "from sklearn import metrics"
      ],
      "execution_count": null,
      "outputs": []
    },
    {
      "cell_type": "code",
      "metadata": {
        "colab": {
          "base_uri": "https://localhost:8080/"
        },
        "id": "zyTKipyAqbKN",
        "outputId": "1f4c841f-22f9-40c5-b09e-a30406a9403e"
      },
      "source": [
        "loss, acc = model.evaluate(X_train,Y_train,verbose = 0)\n",
        "print(\"Training Loss {:.5f} dan Training Accuracy {:.2f}%\".format(loss,acc*100))"
      ],
      "execution_count": null,
      "outputs": [
        {
          "output_type": "stream",
          "text": [
            "Training Loss 0.07009 dan Training Accuracy 97.58%\n"
          ],
          "name": "stdout"
        }
      ]
    },
    {
      "cell_type": "code",
      "metadata": {
        "colab": {
          "base_uri": "https://localhost:8080/"
        },
        "id": "2QUT4f9jqH69",
        "outputId": "2682b04f-b27e-411a-f710-16faf9e2d3e6"
      },
      "source": [
        "loss, acc = model.evaluate(X_val,Y_val,verbose = 0)\n",
        "print(\"Validation Loss {:.5f} dan Validation Accuracy {:.2f}%\".format(loss,acc*100))"
      ],
      "execution_count": null,
      "outputs": [
        {
          "output_type": "stream",
          "text": [
            "Validation Loss 0.26560 dan Validation Accuracy 91.97%\n"
          ],
          "name": "stdout"
        }
      ]
    },
    {
      "cell_type": "code",
      "metadata": {
        "colab": {
          "base_uri": "https://localhost:8080/"
        },
        "id": "0JXITwl2n8Pe",
        "outputId": "bb57fcd8-d35e-4c8d-f246-bc8ed944f6d9"
      },
      "source": [
        "from sklearn.metrics import classification_report\n",
        "# CR untuk Training Data\n",
        "print(\"model 1\")\n",
        "pred = model.predict(X_train)\n",
        "labels = (pred > 0.5).astype(np.int)\n",
        "\n",
        "print(classification_report(Y_train, labels, target_names = categories))"
      ],
      "execution_count": null,
      "outputs": [
        {
          "output_type": "stream",
          "text": [
            "model 1\n",
            "                  precision    recall  f1-score   support\n",
            "\n",
            "    glioma_tumor       0.94      0.99      0.97       740\n",
            "meningioma_tumor       0.99      0.93      0.96       749\n",
            "        no_tumor       0.99      0.99      0.99       316\n",
            " pituitary_tumor       0.99      1.00      1.00       720\n",
            "\n",
            "       micro avg       0.98      0.98      0.98      2525\n",
            "       macro avg       0.98      0.98      0.98      2525\n",
            "    weighted avg       0.98      0.98      0.98      2525\n",
            "     samples avg       0.98      0.98      0.98      2525\n",
            "\n"
          ],
          "name": "stdout"
        },
        {
          "output_type": "stream",
          "text": [
            "/usr/local/lib/python3.6/dist-packages/sklearn/metrics/_classification.py:1272: UndefinedMetricWarning: Precision and F-score are ill-defined and being set to 0.0 in samples with no predicted labels. Use `zero_division` parameter to control this behavior.\n",
            "  _warn_prf(average, modifier, msg_start, len(result))\n"
          ],
          "name": "stderr"
        }
      ]
    },
    {
      "cell_type": "code",
      "metadata": {
        "id": "_t9ESGkeDDBB",
        "colab": {
          "base_uri": "https://localhost:8080/"
        },
        "outputId": "4041dd20-72f4-44cf-d3c1-da8df8f9756b"
      },
      "source": [
        "# CR untuk Validation Data\n",
        "print(\"model 1\")\n",
        "pred = model.predict(X_val)\n",
        "labels = (pred > 0.5).astype(np.int)\n",
        "\n",
        "print(classification_report(Y_val, labels, target_names = categories))"
      ],
      "execution_count": null,
      "outputs": [
        {
          "output_type": "stream",
          "text": [
            "model 1\n",
            "                  precision    recall  f1-score   support\n",
            "\n",
            "    glioma_tumor       0.87      0.89      0.88       186\n",
            "meningioma_tumor       0.94      0.85      0.89       188\n",
            "        no_tumor       0.90      0.93      0.91        80\n",
            " pituitary_tumor       0.97      0.99      0.98       181\n",
            "\n",
            "       micro avg       0.92      0.91      0.92       635\n",
            "       macro avg       0.92      0.91      0.92       635\n",
            "    weighted avg       0.92      0.91      0.92       635\n",
            "     samples avg       0.91      0.91      0.91       635\n",
            "\n"
          ],
          "name": "stdout"
        },
        {
          "output_type": "stream",
          "text": [
            "/usr/local/lib/python3.6/dist-packages/sklearn/metrics/_classification.py:1272: UndefinedMetricWarning: Precision and F-score are ill-defined and being set to 0.0 in samples with no predicted labels. Use `zero_division` parameter to control this behavior.\n",
            "  _warn_prf(average, modifier, msg_start, len(result))\n"
          ],
          "name": "stderr"
        }
      ]
    },
    {
      "cell_type": "code",
      "metadata": {
        "id": "FQIg-lHYVF5v"
      },
      "source": [
        "def plot_confusion_matrix(cm, classes,\n",
        "                          normalize=False,\n",
        "                          title='Confusion matrix',\n",
        "                          cmap=plt.cm.BuPu):\n",
        "\n",
        "    plt.imshow(cm, interpolation='nearest', cmap=cmap)\n",
        "    plt.title(title)\n",
        "    plt.colorbar()\n",
        "    tick_marks = np.arange(len(classes))\n",
        "    plt.xticks(tick_marks, classes, rotation=45)\n",
        "    plt.yticks(tick_marks, classes)\n",
        "\n",
        "    if normalize:\n",
        "        cm = cm.astype('float') / cm.sum(axis=1)[:, np.newaxis]\n",
        "\n",
        "    thresh = cm.max() / 2.\n",
        "    for i, j in itertools.product(range(cm.shape[0]), range(cm.shape[1])):\n",
        "        plt.text(j, i, cm[i, j],\n",
        "                 horizontalalignment=\"center\",\n",
        "                 color=\"white\" if cm[i, j] > thresh else \"black\")\n",
        "\n",
        "    plt.tight_layout()\n",
        "    plt.ylabel('True label')\n",
        "    plt.xlabel('Predicted label')"
      ],
      "execution_count": null,
      "outputs": []
    },
    {
      "cell_type": "code",
      "metadata": {
        "colab": {
          "base_uri": "https://localhost:8080/",
          "height": 329
        },
        "id": "HFeUxsFCVI2L",
        "outputId": "d3b2f9c9-0e70-4623-8d10-8d4580613cd9"
      },
      "source": [
        "Y_pred = model.predict(X_val)\n",
        "Y_pred_classes = np.argmax(Y_pred,axis = 1) \n",
        "Y_true = np.argmax(Y_val,axis = 1) \n",
        "\n",
        "confusion_mtx = confusion_matrix(Y_true, Y_pred_classes) \n",
        "print(\"Model 1\")\n",
        "plot_confusion_matrix(confusion_mtx, classes = categories) "
      ],
      "execution_count": null,
      "outputs": [
        {
          "output_type": "stream",
          "text": [
            "Model 1\n"
          ],
          "name": "stdout"
        },
        {
          "output_type": "display_data",
          "data": {
            "image/png": "[encoded data removed]",
            "text/plain": [
              "<Figure size 432x288 with 2 Axes>"
            ]
          },
          "metadata": {
            "tags": [],
            "needs_background": "light"
          }
        }
      ]
    },
    {
      "cell_type": "markdown",
      "metadata": {
        "id": "9QDy4NYCzUyM"
      },
      "source": [
        "Precision Score Model 1"
      ]
    },
    {
      "cell_type": "code",
      "metadata": {
        "colab": {
          "base_uri": "https://localhost:8080/"
        },
        "id": "D5Ui61gLzOqy",
        "outputId": "343deffb-107a-4e78-d2d8-3b58e295d402"
      },
      "source": [
        "Y_pred_train = model.predict(X_train)\n",
        "Y_pred_classes_train = np.argmax(Y_pred_train,axis = 1) \n",
        "Y_true_train = np.argmax(Y_train,axis = 1) \n",
        "\n",
        "ps_train_model1 = precision_score(Y_pred_classes_train, Y_true_train, average='weighted')\n",
        "ps_val_model1 = precision_score(Y_pred_classes, Y_true, average='weighted')\n",
        "print('Precision Score Training Data Model 1:', ps_train_model1)\n",
        "print('Precision Score Validation Data Model 1:', ps_val_model1)"
      ],
      "execution_count": null,
      "outputs": [
        {
          "output_type": "stream",
          "text": [
            "Precision Score Training Data Model 1: 0.9769591367213724\n",
            "Precision Score Validation Data Model 1: 0.9212629421350296\n"
          ],
          "name": "stdout"
        }
      ]
    },
    {
      "cell_type": "markdown",
      "metadata": {
        "id": "euXBtukL0hhm"
      },
      "source": [
        "Recall Score Model 1"
      ]
    },
    {
      "cell_type": "code",
      "metadata": {
        "colab": {
          "base_uri": "https://localhost:8080/"
        },
        "id": "9nxQHxp_0jVQ",
        "outputId": "85c51337-8b1d-4170-9aea-e187c8944445"
      },
      "source": [
        "rs_train_model1 = recall_score(Y_pred_classes_train, Y_true_train, average='weighted')\n",
        "rs_val_model1 = recall_score(Y_pred_classes, Y_true, average='weighted')\n",
        "print('Precision Score Training Data Model 1:', rs_train_model1)\n",
        "print('Precision Score Validation Data Model 1:', rs_val_model1)"
      ],
      "execution_count": null,
      "outputs": [
        {
          "output_type": "stream",
          "text": [
            "Precision Score Training Data Model 1: 0.9758415841584158\n",
            "Precision Score Validation Data Model 1: 0.9181102362204724\n"
          ],
          "name": "stdout"
        }
      ]
    },
    {
      "cell_type": "markdown",
      "metadata": {
        "id": "aFWFxvh90sf5"
      },
      "source": [
        "F1 Score Model 1"
      ]
    },
    {
      "cell_type": "code",
      "metadata": {
        "colab": {
          "base_uri": "https://localhost:8080/"
        },
        "id": "3Bvlyes50uNc",
        "outputId": "11e9ec37-3eae-492b-ae68-26b3fcecda66"
      },
      "source": [
        "f1_train_model1 = f1_score(Y_pred_classes_train, Y_true_train, average='weighted')\n",
        "f1_val_model1 = f1_score(Y_pred_classes, Y_true, average='weighted')\n",
        "print('Precision Score Training Data Model 2:', f1_train_model1)\n",
        "print('Precision Score Validation Data Model 2:', f1_val_model1)"
      ],
      "execution_count": null,
      "outputs": [
        {
          "output_type": "stream",
          "text": [
            "Precision Score Training Data Model 2: 0.9759248945427963\n",
            "Precision Score Validation Data Model 2: 0.9185008837523712\n"
          ],
          "name": "stdout"
        }
      ]
    },
    {
      "cell_type": "markdown",
      "metadata": {
        "id": "nh3nVv0LA7gY"
      },
      "source": [
        "##Prediksi Gambar dengan Model 1"
      ]
    },
    {
      "cell_type": "code",
      "metadata": {
        "colab": {
          "base_uri": "https://localhost:8080/",
          "height": 269
        },
        "id": "w01390Di9rdb",
        "outputId": "afbf1ff3-8f61-42ca-b8c9-f738c0a585ca"
      },
      "source": [
        "from PIL import Image \n",
        "IMG = Image.open('/content/drive/MyDrive/Dataset/Dataset Citra 240 - 235/New Dataset/val/pituitary_tumor/image(11).jpg')\n",
        "plt.imshow(IMG)\n",
        "IMG = IMG.resize((150,150))\n",
        "IMG = np.array(IMG)\n",
        "IMG = np.true_divide(IMG,255)\n",
        "IMG = IMG.reshape(1, 150,150, 3)"
      ],
      "execution_count": null,
      "outputs": [
        {
          "output_type": "display_data",
          "data": {
            "image/png": "[encoded data removed]",
            "text/plain": [
              "<Figure size 432x288 with 1 Axes>"
            ]
          },
          "metadata": {
            "tags": [],
            "needs_background": "light"
          }
        }
      ]
    },
    {
      "cell_type": "code",
      "metadata": {
        "colab": {
          "base_uri": "https://localhost:8080/"
        },
        "id": "33Goke6B-M_h",
        "outputId": "321884c4-811e-438d-a975-67c0a6efaef8"
      },
      "source": [
        "classes = { 'training':['glioma_tumor', 'meningioma_tumor','no_tumor','pituitary_tumor'],\n",
        "                  'test':['glioma_tumor', 'meningioma_tumor','no_tumor','pituitary_tumor']}\n",
        "\n",
        "predictions_images = model.predict(IMG)\n",
        "predicted_classes = np.argmax(predictions_images,axis=1)\n",
        "predicted_class = classes['test'][predicted_classes[0]]\n",
        "\n",
        "print(\"Prediksi Kelas\",predicted_classes)\n",
        "print(\"Gambar Tersebut merupakan {}.\".format(predicted_class.lower()))"
      ],
      "execution_count": null,
      "outputs": [
        {
          "output_type": "stream",
          "text": [
            "Prediksi Kelas [3]\n",
            "Gambar Tersebut Merupakan pituitary_tumor.\n"
          ],
          "name": "stdout"
        }
      ]
    },
    {
      "cell_type": "code",
      "metadata": {
        "colab": {
          "base_uri": "https://localhost:8080/",
          "height": 269
        },
        "id": "XyUdH988C84r",
        "outputId": "925cd9f4-2c43-4d56-ba90-e866ddc7e82a"
      },
      "source": [
        "IMG2 = Image.open('/content/drive/MyDrive/Dataset/Dataset Citra 240 - 235/New Dataset/val/meningioma_tumor/image(20).jpg')\n",
        "plt.imshow(IMG2)\n",
        "IMG2 = IMG2.resize((150,150))\n",
        "IMG2 = np.array(IMG2)\n",
        "IMG2 = np.true_divide(IMG2,255)\n",
        "IMG2 = IMG2.reshape(1, 150,150, 3)"
      ],
      "execution_count": null,
      "outputs": [
        {
          "output_type": "display_data",
          "data": {
            "image/png": "[encoded data removed]",
            "text/plain": [
              "<Figure size 432x288 with 1 Axes>"
            ]
          },
          "metadata": {
            "tags": [],
            "needs_background": "light"
          }
        }
      ]
    },
    {
      "cell_type": "code",
      "metadata": {
        "colab": {
          "base_uri": "https://localhost:8080/"
        },
        "id": "nTwiFGUSDC8w",
        "outputId": "7a258d29-5aa3-47ae-b77f-4c3ba6ac29bc"
      },
      "source": [
        "classes = { 'training':['glioma_tumor', 'meningioma_tumor','no_tumor','pituitary_tumor'],\n",
        "                  'test':['glioma_tumor', 'meningioma_tumor','no_tumor','pituitary_tumor']}\n",
        "\n",
        "predictions_images = model.predict(IMG2)\n",
        "predicted_classes = np.argmax(predictions_images,axis=1)\n",
        "predicted_class = classes['test'][predicted_classes[0]]\n",
        "\n",
        "print(\"Prediksi Kelas\",predicted_classes)\n",
        "print(\"Gambar Tersebut merupakan {}.\".format(predicted_class.lower()))"
      ],
      "execution_count": null,
      "outputs": [
        {
          "output_type": "stream",
          "text": [
            "Prediksi Kelas [1]\n",
            "Gambar Tersebut merupakan meningioma_tumor.\n"
          ],
          "name": "stdout"
        }
      ]
    },
    {
      "cell_type": "markdown",
      "metadata": {
        "id": "Sbqx_vBHK1ty"
      },
      "source": [
        "\n",
        "\n",
        "---\n",
        "\n"
      ]
    }
  ]
}