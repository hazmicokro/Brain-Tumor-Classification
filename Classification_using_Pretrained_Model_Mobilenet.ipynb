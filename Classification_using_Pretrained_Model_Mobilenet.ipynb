{
  "nbformat": 4,
  "nbformat_minor": 0,
  "metadata": {
    "colab": {
      "name": "Classification using Pretrained Model Mobilenet.ipynb",
      "provenance": [],
      "collapsed_sections": [
        "7B5_tcXonA1x",
        "GBemPeY_mYZ7",
        "KTXVDa8WoJm3",
        "sSmgd42imyNT",
        "0xUWN3DZIf4g",
        "38OWNvsH27ZH"
      ],
      "toc_visible": true,
      "authorship_tag": "ABX9TyNKL/cdrIuXQL8ZI5otMDBN",
      "include_colab_link": true
    },
    "kernelspec": {
      "name": "python3",
      "display_name": "Python 3"
    }
  },
  "cells": [
    {
      "cell_type": "markdown",
      "metadata": {
        "id": "view-in-github",
        "colab_type": "text"
      },
      "source": [
        "<a href=\"https://colab.research.google.com/github/hazmicokro/Brain-Tumor-Classification/blob/main/Classification_using_Pretrained_Model_Mobilenet.ipynb\" target=\"_parent\"><img src=\"https://colab.research.google.com/assets/colab-badge.svg\" alt=\"Open In Colab\"/></a>"
      ]
    },
    {
      "cell_type": "markdown",
      "metadata": {
        "id": "U0-Mig9BCU4D"
      },
      "source": [
        "**Dataset : [Brain MRI Dataset](https://www.kaggle.com/sartajbhuvaji/brain-tumor-classification-mri) dari Kaggle**\n",
        "\n",
        "**Deskripsi Data :** \\\n",
        "Total Data Images MRI : 3160 Images\n",
        "\n",
        "Alokasi ulang ke 80% Train 20% Val\n",
        "> Training Data (2525 Images) \\\n",
        "> Validation Data (635 Images)\n",
        "\n"
      ]
    },
    {
      "cell_type": "markdown",
      "metadata": {
        "id": "7B5_tcXonA1x"
      },
      "source": [
        "###Mount Gdrive serta Download dan Ekstrak Dataset"
      ]
    },
    {
      "cell_type": "code",
      "metadata": {
        "colab": {
          "base_uri": "https://localhost:8080/"
        },
        "id": "t6cIaIpCCYWn",
        "outputId": "925a5a06-9d27-43b8-ff94-2f51beb942e2"
      },
      "source": [
        "from google.colab import drive\n",
        "drive.mount('/content/drive')"
      ],
      "execution_count": null,
      "outputs": [
        {
          "output_type": "stream",
          "text": [
            "Mounted at /content/drive\n"
          ],
          "name": "stdout"
        }
      ]
    },
    {
      "cell_type": "code",
      "metadata": {
        "id": "7yV9FpzoCYm9"
      },
      "source": [
        "import os\n",
        "os.environ['KAGGLE_CONFIG_DIR'] = \"/content/drive/MyDrive/Dataset/Dataset Citra 240 - 235\""
      ],
      "execution_count": null,
      "outputs": []
    },
    {
      "cell_type": "code",
      "metadata": {
        "colab": {
          "base_uri": "https://localhost:8080/"
        },
        "id": "hH5nIsA4CYqK",
        "outputId": "58b00758-4be1-4c16-b017-d066811607f9"
      },
      "source": [
        "%cd /content/drive/MyDrive/Dataset/Dataset Citra 240 - 235"
      ],
      "execution_count": null,
      "outputs": [
        {
          "output_type": "stream",
          "text": [
            "/content/drive/MyDrive/Dataset/Dataset Citra 240 - 235\n"
          ],
          "name": "stdout"
        }
      ]
    },
    {
      "cell_type": "code",
      "metadata": {
        "id": "OAeHDZkPCYvx"
      },
      "source": [
        "from google.colab import files\n",
        "files.upload()"
      ],
      "execution_count": null,
      "outputs": []
    },
    {
      "cell_type": "code",
      "metadata": {
        "colab": {
          "base_uri": "https://localhost:8080/"
        },
        "id": "veoJmBbaCYt8",
        "outputId": "97b648d9-1e76-4aaf-af51-cbf38f7da21a"
      },
      "source": [
        "!mkdir -p ~/.kaggle\n",
        "!cp kaggle.json ~/.kaggle/\n",
        "!ls ~/.kaggle\n",
        "\n",
        "!chmod 600 /root/.kaggle/kaggle.json"
      ],
      "execution_count": null,
      "outputs": [
        {
          "output_type": "stream",
          "text": [
            "kaggle.json\n"
          ],
          "name": "stdout"
        }
      ]
    },
    {
      "cell_type": "code",
      "metadata": {
        "colab": {
          "base_uri": "https://localhost:8080/"
        },
        "id": "UAmVuIbRCgy-",
        "outputId": "025b21ae-b2c4-404e-a6d4-e13a2d1f9c76"
      },
      "source": [
        "!kaggle datasets download -d sartajbhuvaji/brain-tumor-classification-mri"
      ],
      "execution_count": null,
      "outputs": [
        {
          "output_type": "stream",
          "text": [
            "Downloading brain-tumor-classification-mri.zip to /content/drive/MyDrive/Dataset/Dataset Citra 240 - 235\n",
            " 97% 84.0M/86.8M [00:01<00:00, 49.9MB/s]\n",
            "100% 86.8M/86.8M [00:01<00:00, 56.2MB/s]\n"
          ],
          "name": "stdout"
        }
      ]
    },
    {
      "cell_type": "code",
      "metadata": {
        "id": "SlFPegbLCg9h"
      },
      "source": [
        "!mkdir 'Dataset Brain MRI'"
      ],
      "execution_count": null,
      "outputs": []
    },
    {
      "cell_type": "code",
      "metadata": {
        "colab": {
          "base_uri": "https://localhost:8080/"
        },
        "id": "xHV9ZXt9ChSU",
        "outputId": "7ba1fee1-bc04-4896-b07b-c38c18516ca2"
      },
      "source": [
        "import zipfile\n",
        "ekstrak_zip = '/content/drive/MyDrive/Dataset/Dataset Citra 240 - 235/brain-tumor-classification-mri.zip'\n",
        "out_zip = zipfile.ZipFile(ekstrak_zip, 'r')\n",
        "out_zip.extractall('/content/drive/MyDrive/Dataset/Dataset Citra 240 - 235/Dataset Brain MRI')\n",
        "out_zip.close()\n",
        "\n",
        "print('Berhasil Ekstrak ke Dataset Brain MRI')"
      ],
      "execution_count": null,
      "outputs": [
        {
          "output_type": "stream",
          "text": [
            "Berhasil Ekstrak ke Dataset Brain MRI\n"
          ],
          "name": "stdout"
        }
      ]
    },
    {
      "cell_type": "markdown",
      "metadata": {
        "id": "GBemPeY_mYZ7"
      },
      "source": [
        "###Mengalokasikan ulang Data Train dan Test menjadi 1 kesatuan Dataset"
      ]
    },
    {
      "cell_type": "code",
      "metadata": {
        "id": "inXGUjHrfnX8"
      },
      "source": [
        "!mkdir \"raw dataset\""
      ],
      "execution_count": null,
      "outputs": []
    },
    {
      "cell_type": "code",
      "metadata": {
        "colab": {
          "base_uri": "https://localhost:8080/"
        },
        "id": "iUzjZuWKfd_I",
        "outputId": "2ea23fbd-102e-4ffb-fa3d-7945eb98c24d"
      },
      "source": [
        "import shutil\n",
        "\n",
        "source = \"/content/drive/MyDrive/Dataset/Dataset Citra 240 - 235/raw dataset/glioma_tumor (1)\"\n",
        "destination = \"/content/drive/MyDrive/Dataset/Dataset Citra 240 - 235/raw dataset/glioma_tumor\"\n",
        "\n",
        "files = os.listdir(source)\n",
        "\n",
        "for file in files:\n",
        "\tnew_path = shutil.copy(f\"{source}/{file}\", destination)\n",
        "\tprint(new_path)"
      ],
      "execution_count": null,
      "outputs": [
        {
          "output_type": "stream",
          "text": [
            "/content/drive/MyDrive/Dataset/Dataset Citra 240 - 235/raw dataset/glioma_tumor/image(1).jpg\n",
            "/content/drive/MyDrive/Dataset/Dataset Citra 240 - 235/raw dataset/glioma_tumor/image(10).jpg\n",
            "/content/drive/MyDrive/Dataset/Dataset Citra 240 - 235/raw dataset/glioma_tumor/image(100).jpg\n",
            "/content/drive/MyDrive/Dataset/Dataset Citra 240 - 235/raw dataset/glioma_tumor/image(11).jpg\n",
            "/content/drive/MyDrive/Dataset/Dataset Citra 240 - 235/raw dataset/glioma_tumor/image(12).jpg\n",
            "/content/drive/MyDrive/Dataset/Dataset Citra 240 - 235/raw dataset/glioma_tumor/image(13).jpg\n",
            "/content/drive/MyDrive/Dataset/Dataset Citra 240 - 235/raw dataset/glioma_tumor/image(14).jpg\n",
            "/content/drive/MyDrive/Dataset/Dataset Citra 240 - 235/raw dataset/glioma_tumor/image(15).jpg\n",
            "/content/drive/MyDrive/Dataset/Dataset Citra 240 - 235/raw dataset/glioma_tumor/image(16).jpg\n",
            "/content/drive/MyDrive/Dataset/Dataset Citra 240 - 235/raw dataset/glioma_tumor/image(17).jpg\n",
            "/content/drive/MyDrive/Dataset/Dataset Citra 240 - 235/raw dataset/glioma_tumor/image(18).jpg\n",
            "/content/drive/MyDrive/Dataset/Dataset Citra 240 - 235/raw dataset/glioma_tumor/image(19).jpg\n",
            "/content/drive/MyDrive/Dataset/Dataset Citra 240 - 235/raw dataset/glioma_tumor/image(2).jpg\n",
            "/content/drive/MyDrive/Dataset/Dataset Citra 240 - 235/raw dataset/glioma_tumor/image(20).jpg\n",
            "/content/drive/MyDrive/Dataset/Dataset Citra 240 - 235/raw dataset/glioma_tumor/image(21).jpg\n",
            "/content/drive/MyDrive/Dataset/Dataset Citra 240 - 235/raw dataset/glioma_tumor/image(22).jpg\n",
            "/content/drive/MyDrive/Dataset/Dataset Citra 240 - 235/raw dataset/glioma_tumor/image(23).jpg\n",
            "/content/drive/MyDrive/Dataset/Dataset Citra 240 - 235/raw dataset/glioma_tumor/image(24).jpg\n",
            "/content/drive/MyDrive/Dataset/Dataset Citra 240 - 235/raw dataset/glioma_tumor/image(25).jpg\n",
            "/content/drive/MyDrive/Dataset/Dataset Citra 240 - 235/raw dataset/glioma_tumor/image(26).jpg\n",
            "/content/drive/MyDrive/Dataset/Dataset Citra 240 - 235/raw dataset/glioma_tumor/image(27).jpg\n",
            "/content/drive/MyDrive/Dataset/Dataset Citra 240 - 235/raw dataset/glioma_tumor/image(28).jpg\n",
            "/content/drive/MyDrive/Dataset/Dataset Citra 240 - 235/raw dataset/glioma_tumor/image(29).jpg\n",
            "/content/drive/MyDrive/Dataset/Dataset Citra 240 - 235/raw dataset/glioma_tumor/image(3).jpg\n",
            "/content/drive/MyDrive/Dataset/Dataset Citra 240 - 235/raw dataset/glioma_tumor/image(30).jpg\n",
            "/content/drive/MyDrive/Dataset/Dataset Citra 240 - 235/raw dataset/glioma_tumor/image(31).jpg\n",
            "/content/drive/MyDrive/Dataset/Dataset Citra 240 - 235/raw dataset/glioma_tumor/image(32).jpg\n",
            "/content/drive/MyDrive/Dataset/Dataset Citra 240 - 235/raw dataset/glioma_tumor/image(33).jpg\n",
            "/content/drive/MyDrive/Dataset/Dataset Citra 240 - 235/raw dataset/glioma_tumor/image(34).jpg\n",
            "/content/drive/MyDrive/Dataset/Dataset Citra 240 - 235/raw dataset/glioma_tumor/image(35).jpg\n",
            "/content/drive/MyDrive/Dataset/Dataset Citra 240 - 235/raw dataset/glioma_tumor/image(36).jpg\n",
            "/content/drive/MyDrive/Dataset/Dataset Citra 240 - 235/raw dataset/glioma_tumor/image(37).jpg\n",
            "/content/drive/MyDrive/Dataset/Dataset Citra 240 - 235/raw dataset/glioma_tumor/image(38).jpg\n",
            "/content/drive/MyDrive/Dataset/Dataset Citra 240 - 235/raw dataset/glioma_tumor/image(39).jpg\n",
            "/content/drive/MyDrive/Dataset/Dataset Citra 240 - 235/raw dataset/glioma_tumor/image(4).jpg\n",
            "/content/drive/MyDrive/Dataset/Dataset Citra 240 - 235/raw dataset/glioma_tumor/image(40).jpg\n",
            "/content/drive/MyDrive/Dataset/Dataset Citra 240 - 235/raw dataset/glioma_tumor/image(41).jpg\n",
            "/content/drive/MyDrive/Dataset/Dataset Citra 240 - 235/raw dataset/glioma_tumor/image(42).jpg\n",
            "/content/drive/MyDrive/Dataset/Dataset Citra 240 - 235/raw dataset/glioma_tumor/image(43).jpg\n",
            "/content/drive/MyDrive/Dataset/Dataset Citra 240 - 235/raw dataset/glioma_tumor/image(44).jpg\n",
            "/content/drive/MyDrive/Dataset/Dataset Citra 240 - 235/raw dataset/glioma_tumor/image(45).jpg\n",
            "/content/drive/MyDrive/Dataset/Dataset Citra 240 - 235/raw dataset/glioma_tumor/image(46).jpg\n",
            "/content/drive/MyDrive/Dataset/Dataset Citra 240 - 235/raw dataset/glioma_tumor/image(47).jpg\n",
            "/content/drive/MyDrive/Dataset/Dataset Citra 240 - 235/raw dataset/glioma_tumor/image(48).jpg\n",
            "/content/drive/MyDrive/Dataset/Dataset Citra 240 - 235/raw dataset/glioma_tumor/image(49).jpg\n",
            "/content/drive/MyDrive/Dataset/Dataset Citra 240 - 235/raw dataset/glioma_tumor/image(5).jpg\n",
            "/content/drive/MyDrive/Dataset/Dataset Citra 240 - 235/raw dataset/glioma_tumor/image(50).jpg\n",
            "/content/drive/MyDrive/Dataset/Dataset Citra 240 - 235/raw dataset/glioma_tumor/image(51).jpg\n",
            "/content/drive/MyDrive/Dataset/Dataset Citra 240 - 235/raw dataset/glioma_tumor/image(52).jpg\n",
            "/content/drive/MyDrive/Dataset/Dataset Citra 240 - 235/raw dataset/glioma_tumor/image(53).jpg\n",
            "/content/drive/MyDrive/Dataset/Dataset Citra 240 - 235/raw dataset/glioma_tumor/image(54).jpg\n",
            "/content/drive/MyDrive/Dataset/Dataset Citra 240 - 235/raw dataset/glioma_tumor/image(55).jpg\n",
            "/content/drive/MyDrive/Dataset/Dataset Citra 240 - 235/raw dataset/glioma_tumor/image(56).jpg\n",
            "/content/drive/MyDrive/Dataset/Dataset Citra 240 - 235/raw dataset/glioma_tumor/image(57).jpg\n",
            "/content/drive/MyDrive/Dataset/Dataset Citra 240 - 235/raw dataset/glioma_tumor/image(58).jpg\n",
            "/content/drive/MyDrive/Dataset/Dataset Citra 240 - 235/raw dataset/glioma_tumor/image(59).jpg\n",
            "/content/drive/MyDrive/Dataset/Dataset Citra 240 - 235/raw dataset/glioma_tumor/image(6).jpg\n",
            "/content/drive/MyDrive/Dataset/Dataset Citra 240 - 235/raw dataset/glioma_tumor/image(60).jpg\n",
            "/content/drive/MyDrive/Dataset/Dataset Citra 240 - 235/raw dataset/glioma_tumor/image(61).jpg\n",
            "/content/drive/MyDrive/Dataset/Dataset Citra 240 - 235/raw dataset/glioma_tumor/image(62).jpg\n",
            "/content/drive/MyDrive/Dataset/Dataset Citra 240 - 235/raw dataset/glioma_tumor/image(63).jpg\n",
            "/content/drive/MyDrive/Dataset/Dataset Citra 240 - 235/raw dataset/glioma_tumor/image(64).jpg\n",
            "/content/drive/MyDrive/Dataset/Dataset Citra 240 - 235/raw dataset/glioma_tumor/image(65).jpg\n",
            "/content/drive/MyDrive/Dataset/Dataset Citra 240 - 235/raw dataset/glioma_tumor/image(66).jpg\n",
            "/content/drive/MyDrive/Dataset/Dataset Citra 240 - 235/raw dataset/glioma_tumor/image(67).jpg\n",
            "/content/drive/MyDrive/Dataset/Dataset Citra 240 - 235/raw dataset/glioma_tumor/image(68).jpg\n",
            "/content/drive/MyDrive/Dataset/Dataset Citra 240 - 235/raw dataset/glioma_tumor/image(69).jpg\n",
            "/content/drive/MyDrive/Dataset/Dataset Citra 240 - 235/raw dataset/glioma_tumor/image(7).jpg\n",
            "/content/drive/MyDrive/Dataset/Dataset Citra 240 - 235/raw dataset/glioma_tumor/image(70).jpg\n",
            "/content/drive/MyDrive/Dataset/Dataset Citra 240 - 235/raw dataset/glioma_tumor/image(71).jpg\n",
            "/content/drive/MyDrive/Dataset/Dataset Citra 240 - 235/raw dataset/glioma_tumor/image(72).jpg\n",
            "/content/drive/MyDrive/Dataset/Dataset Citra 240 - 235/raw dataset/glioma_tumor/image(73).jpg\n",
            "/content/drive/MyDrive/Dataset/Dataset Citra 240 - 235/raw dataset/glioma_tumor/image(74).jpg\n",
            "/content/drive/MyDrive/Dataset/Dataset Citra 240 - 235/raw dataset/glioma_tumor/image(75).jpg\n",
            "/content/drive/MyDrive/Dataset/Dataset Citra 240 - 235/raw dataset/glioma_tumor/image(76).jpg\n",
            "/content/drive/MyDrive/Dataset/Dataset Citra 240 - 235/raw dataset/glioma_tumor/image(77).jpg\n",
            "/content/drive/MyDrive/Dataset/Dataset Citra 240 - 235/raw dataset/glioma_tumor/image(78).jpg\n",
            "/content/drive/MyDrive/Dataset/Dataset Citra 240 - 235/raw dataset/glioma_tumor/image(79).jpg\n",
            "/content/drive/MyDrive/Dataset/Dataset Citra 240 - 235/raw dataset/glioma_tumor/image(8).jpg\n",
            "/content/drive/MyDrive/Dataset/Dataset Citra 240 - 235/raw dataset/glioma_tumor/image(80).jpg\n",
            "/content/drive/MyDrive/Dataset/Dataset Citra 240 - 235/raw dataset/glioma_tumor/image(81).jpg\n",
            "/content/drive/MyDrive/Dataset/Dataset Citra 240 - 235/raw dataset/glioma_tumor/image(82).jpg\n",
            "/content/drive/MyDrive/Dataset/Dataset Citra 240 - 235/raw dataset/glioma_tumor/image(83).jpg\n",
            "/content/drive/MyDrive/Dataset/Dataset Citra 240 - 235/raw dataset/glioma_tumor/image(84).jpg\n",
            "/content/drive/MyDrive/Dataset/Dataset Citra 240 - 235/raw dataset/glioma_tumor/image(85).jpg\n",
            "/content/drive/MyDrive/Dataset/Dataset Citra 240 - 235/raw dataset/glioma_tumor/image(86).jpg\n",
            "/content/drive/MyDrive/Dataset/Dataset Citra 240 - 235/raw dataset/glioma_tumor/image(87).jpg\n",
            "/content/drive/MyDrive/Dataset/Dataset Citra 240 - 235/raw dataset/glioma_tumor/image(88).jpg\n",
            "/content/drive/MyDrive/Dataset/Dataset Citra 240 - 235/raw dataset/glioma_tumor/image(89).jpg\n",
            "/content/drive/MyDrive/Dataset/Dataset Citra 240 - 235/raw dataset/glioma_tumor/image(9).jpg\n",
            "/content/drive/MyDrive/Dataset/Dataset Citra 240 - 235/raw dataset/glioma_tumor/image(90).jpg\n",
            "/content/drive/MyDrive/Dataset/Dataset Citra 240 - 235/raw dataset/glioma_tumor/image(91).jpg\n",
            "/content/drive/MyDrive/Dataset/Dataset Citra 240 - 235/raw dataset/glioma_tumor/image(92).jpg\n",
            "/content/drive/MyDrive/Dataset/Dataset Citra 240 - 235/raw dataset/glioma_tumor/image(93).jpg\n",
            "/content/drive/MyDrive/Dataset/Dataset Citra 240 - 235/raw dataset/glioma_tumor/image(94).jpg\n",
            "/content/drive/MyDrive/Dataset/Dataset Citra 240 - 235/raw dataset/glioma_tumor/image(95).jpg\n",
            "/content/drive/MyDrive/Dataset/Dataset Citra 240 - 235/raw dataset/glioma_tumor/image(97).jpg\n",
            "/content/drive/MyDrive/Dataset/Dataset Citra 240 - 235/raw dataset/glioma_tumor/image(98).jpg\n",
            "/content/drive/MyDrive/Dataset/Dataset Citra 240 - 235/raw dataset/glioma_tumor/image(99).jpg\n",
            "/content/drive/MyDrive/Dataset/Dataset Citra 240 - 235/raw dataset/glioma_tumor/image.jpg\n"
          ],
          "name": "stdout"
        }
      ]
    },
    {
      "cell_type": "code",
      "metadata": {
        "colab": {
          "base_uri": "https://localhost:8080/"
        },
        "id": "NnwOY3S6h9-D",
        "outputId": "3c895a2d-f8cb-4fc2-f37a-8dd44d48bfd6"
      },
      "source": [
        "source = \"/content/drive/MyDrive/Dataset/Dataset Citra 240 - 235/raw dataset/meningioma_tumor (1)\"\n",
        "destination = \"/content/drive/MyDrive/Dataset/Dataset Citra 240 - 235/raw dataset/meningioma_tumor\"\n",
        "\n",
        "files = os.listdir(source)\n",
        "\n",
        "for file in files:\n",
        "\tnew_path = shutil.copy(f\"{source}/{file}\", destination)\n",
        "\tprint(new_path)"
      ],
      "execution_count": null,
      "outputs": [
        {
          "output_type": "stream",
          "text": [
            "/content/drive/MyDrive/Dataset/Dataset Citra 240 - 235/raw dataset/meningioma_tumor/image(1).jpg\n",
            "/content/drive/MyDrive/Dataset/Dataset Citra 240 - 235/raw dataset/meningioma_tumor/image(10).jpg\n",
            "/content/drive/MyDrive/Dataset/Dataset Citra 240 - 235/raw dataset/meningioma_tumor/image(100).jpg\n",
            "/content/drive/MyDrive/Dataset/Dataset Citra 240 - 235/raw dataset/meningioma_tumor/image(102).jpg\n",
            "/content/drive/MyDrive/Dataset/Dataset Citra 240 - 235/raw dataset/meningioma_tumor/image(106).jpg\n",
            "/content/drive/MyDrive/Dataset/Dataset Citra 240 - 235/raw dataset/meningioma_tumor/image(107).jpg\n",
            "/content/drive/MyDrive/Dataset/Dataset Citra 240 - 235/raw dataset/meningioma_tumor/image(109).jpg\n",
            "/content/drive/MyDrive/Dataset/Dataset Citra 240 - 235/raw dataset/meningioma_tumor/image(11).jpg\n",
            "/content/drive/MyDrive/Dataset/Dataset Citra 240 - 235/raw dataset/meningioma_tumor/image(112).jpg\n",
            "/content/drive/MyDrive/Dataset/Dataset Citra 240 - 235/raw dataset/meningioma_tumor/image(113).jpg\n",
            "/content/drive/MyDrive/Dataset/Dataset Citra 240 - 235/raw dataset/meningioma_tumor/image(118).jpg\n",
            "/content/drive/MyDrive/Dataset/Dataset Citra 240 - 235/raw dataset/meningioma_tumor/image(12).jpg\n",
            "/content/drive/MyDrive/Dataset/Dataset Citra 240 - 235/raw dataset/meningioma_tumor/image(120).jpg\n",
            "/content/drive/MyDrive/Dataset/Dataset Citra 240 - 235/raw dataset/meningioma_tumor/image(121).jpg\n",
            "/content/drive/MyDrive/Dataset/Dataset Citra 240 - 235/raw dataset/meningioma_tumor/image(123).jpg\n",
            "/content/drive/MyDrive/Dataset/Dataset Citra 240 - 235/raw dataset/meningioma_tumor/image(124).jpg\n",
            "/content/drive/MyDrive/Dataset/Dataset Citra 240 - 235/raw dataset/meningioma_tumor/image(125).jpg\n",
            "/content/drive/MyDrive/Dataset/Dataset Citra 240 - 235/raw dataset/meningioma_tumor/image(126).jpg\n",
            "/content/drive/MyDrive/Dataset/Dataset Citra 240 - 235/raw dataset/meningioma_tumor/image(127).jpg\n",
            "/content/drive/MyDrive/Dataset/Dataset Citra 240 - 235/raw dataset/meningioma_tumor/image(13).jpg\n",
            "/content/drive/MyDrive/Dataset/Dataset Citra 240 - 235/raw dataset/meningioma_tumor/image(14).jpg\n",
            "/content/drive/MyDrive/Dataset/Dataset Citra 240 - 235/raw dataset/meningioma_tumor/image(15).jpg\n",
            "/content/drive/MyDrive/Dataset/Dataset Citra 240 - 235/raw dataset/meningioma_tumor/image(16).jpg\n",
            "/content/drive/MyDrive/Dataset/Dataset Citra 240 - 235/raw dataset/meningioma_tumor/image(17).jpg\n",
            "/content/drive/MyDrive/Dataset/Dataset Citra 240 - 235/raw dataset/meningioma_tumor/image(18).jpg\n",
            "/content/drive/MyDrive/Dataset/Dataset Citra 240 - 235/raw dataset/meningioma_tumor/image(19).jpg\n",
            "/content/drive/MyDrive/Dataset/Dataset Citra 240 - 235/raw dataset/meningioma_tumor/image(2).jpg\n",
            "/content/drive/MyDrive/Dataset/Dataset Citra 240 - 235/raw dataset/meningioma_tumor/image(20).jpg\n",
            "/content/drive/MyDrive/Dataset/Dataset Citra 240 - 235/raw dataset/meningioma_tumor/image(21).jpg\n",
            "/content/drive/MyDrive/Dataset/Dataset Citra 240 - 235/raw dataset/meningioma_tumor/image(22).jpg\n",
            "/content/drive/MyDrive/Dataset/Dataset Citra 240 - 235/raw dataset/meningioma_tumor/image(23).jpg\n",
            "/content/drive/MyDrive/Dataset/Dataset Citra 240 - 235/raw dataset/meningioma_tumor/image(24).jpg\n",
            "/content/drive/MyDrive/Dataset/Dataset Citra 240 - 235/raw dataset/meningioma_tumor/image(25).jpg\n",
            "/content/drive/MyDrive/Dataset/Dataset Citra 240 - 235/raw dataset/meningioma_tumor/image(26).jpg\n",
            "/content/drive/MyDrive/Dataset/Dataset Citra 240 - 235/raw dataset/meningioma_tumor/image(27).jpg\n",
            "/content/drive/MyDrive/Dataset/Dataset Citra 240 - 235/raw dataset/meningioma_tumor/image(28).jpg\n",
            "/content/drive/MyDrive/Dataset/Dataset Citra 240 - 235/raw dataset/meningioma_tumor/image(29).jpg\n",
            "/content/drive/MyDrive/Dataset/Dataset Citra 240 - 235/raw dataset/meningioma_tumor/image(3).jpg\n",
            "/content/drive/MyDrive/Dataset/Dataset Citra 240 - 235/raw dataset/meningioma_tumor/image(30).jpg\n",
            "/content/drive/MyDrive/Dataset/Dataset Citra 240 - 235/raw dataset/meningioma_tumor/image(31).jpg\n",
            "/content/drive/MyDrive/Dataset/Dataset Citra 240 - 235/raw dataset/meningioma_tumor/image(32).jpg\n",
            "/content/drive/MyDrive/Dataset/Dataset Citra 240 - 235/raw dataset/meningioma_tumor/image(33).jpg\n",
            "/content/drive/MyDrive/Dataset/Dataset Citra 240 - 235/raw dataset/meningioma_tumor/image(34).jpg\n",
            "/content/drive/MyDrive/Dataset/Dataset Citra 240 - 235/raw dataset/meningioma_tumor/image(35).jpg\n",
            "/content/drive/MyDrive/Dataset/Dataset Citra 240 - 235/raw dataset/meningioma_tumor/image(36).jpg\n",
            "/content/drive/MyDrive/Dataset/Dataset Citra 240 - 235/raw dataset/meningioma_tumor/image(37).jpg\n",
            "/content/drive/MyDrive/Dataset/Dataset Citra 240 - 235/raw dataset/meningioma_tumor/image(38).jpg\n",
            "/content/drive/MyDrive/Dataset/Dataset Citra 240 - 235/raw dataset/meningioma_tumor/image(39).jpg\n",
            "/content/drive/MyDrive/Dataset/Dataset Citra 240 - 235/raw dataset/meningioma_tumor/image(4).jpg\n",
            "/content/drive/MyDrive/Dataset/Dataset Citra 240 - 235/raw dataset/meningioma_tumor/image(40).jpg\n",
            "/content/drive/MyDrive/Dataset/Dataset Citra 240 - 235/raw dataset/meningioma_tumor/image(41).jpg\n",
            "/content/drive/MyDrive/Dataset/Dataset Citra 240 - 235/raw dataset/meningioma_tumor/image(42).jpg\n",
            "/content/drive/MyDrive/Dataset/Dataset Citra 240 - 235/raw dataset/meningioma_tumor/image(43).jpg\n",
            "/content/drive/MyDrive/Dataset/Dataset Citra 240 - 235/raw dataset/meningioma_tumor/image(44).jpg\n",
            "/content/drive/MyDrive/Dataset/Dataset Citra 240 - 235/raw dataset/meningioma_tumor/image(45).jpg\n",
            "/content/drive/MyDrive/Dataset/Dataset Citra 240 - 235/raw dataset/meningioma_tumor/image(46).jpg\n",
            "/content/drive/MyDrive/Dataset/Dataset Citra 240 - 235/raw dataset/meningioma_tumor/image(47).jpg\n",
            "/content/drive/MyDrive/Dataset/Dataset Citra 240 - 235/raw dataset/meningioma_tumor/image(48).jpg\n",
            "/content/drive/MyDrive/Dataset/Dataset Citra 240 - 235/raw dataset/meningioma_tumor/image(49).jpg\n",
            "/content/drive/MyDrive/Dataset/Dataset Citra 240 - 235/raw dataset/meningioma_tumor/image(5).jpg\n",
            "/content/drive/MyDrive/Dataset/Dataset Citra 240 - 235/raw dataset/meningioma_tumor/image(50).jpg\n",
            "/content/drive/MyDrive/Dataset/Dataset Citra 240 - 235/raw dataset/meningioma_tumor/image(51).jpg\n",
            "/content/drive/MyDrive/Dataset/Dataset Citra 240 - 235/raw dataset/meningioma_tumor/image(52).jpg\n",
            "/content/drive/MyDrive/Dataset/Dataset Citra 240 - 235/raw dataset/meningioma_tumor/image(53).jpg\n",
            "/content/drive/MyDrive/Dataset/Dataset Citra 240 - 235/raw dataset/meningioma_tumor/image(54).jpg\n",
            "/content/drive/MyDrive/Dataset/Dataset Citra 240 - 235/raw dataset/meningioma_tumor/image(55).jpg\n",
            "/content/drive/MyDrive/Dataset/Dataset Citra 240 - 235/raw dataset/meningioma_tumor/image(56).jpg\n",
            "/content/drive/MyDrive/Dataset/Dataset Citra 240 - 235/raw dataset/meningioma_tumor/image(57).jpg\n",
            "/content/drive/MyDrive/Dataset/Dataset Citra 240 - 235/raw dataset/meningioma_tumor/image(58).jpg\n",
            "/content/drive/MyDrive/Dataset/Dataset Citra 240 - 235/raw dataset/meningioma_tumor/image(59).jpg\n",
            "/content/drive/MyDrive/Dataset/Dataset Citra 240 - 235/raw dataset/meningioma_tumor/image(6).jpg\n",
            "/content/drive/MyDrive/Dataset/Dataset Citra 240 - 235/raw dataset/meningioma_tumor/image(60).jpg\n",
            "/content/drive/MyDrive/Dataset/Dataset Citra 240 - 235/raw dataset/meningioma_tumor/image(61).jpg\n",
            "/content/drive/MyDrive/Dataset/Dataset Citra 240 - 235/raw dataset/meningioma_tumor/image(62).jpg\n",
            "/content/drive/MyDrive/Dataset/Dataset Citra 240 - 235/raw dataset/meningioma_tumor/image(63).jpg\n",
            "/content/drive/MyDrive/Dataset/Dataset Citra 240 - 235/raw dataset/meningioma_tumor/image(64).jpg\n",
            "/content/drive/MyDrive/Dataset/Dataset Citra 240 - 235/raw dataset/meningioma_tumor/image(65).jpg\n",
            "/content/drive/MyDrive/Dataset/Dataset Citra 240 - 235/raw dataset/meningioma_tumor/image(66).jpg\n",
            "/content/drive/MyDrive/Dataset/Dataset Citra 240 - 235/raw dataset/meningioma_tumor/image(67).jpg\n",
            "/content/drive/MyDrive/Dataset/Dataset Citra 240 - 235/raw dataset/meningioma_tumor/image(68).jpg\n",
            "/content/drive/MyDrive/Dataset/Dataset Citra 240 - 235/raw dataset/meningioma_tumor/image(69).jpg\n",
            "/content/drive/MyDrive/Dataset/Dataset Citra 240 - 235/raw dataset/meningioma_tumor/image(7).jpg\n",
            "/content/drive/MyDrive/Dataset/Dataset Citra 240 - 235/raw dataset/meningioma_tumor/image(70).jpg\n",
            "/content/drive/MyDrive/Dataset/Dataset Citra 240 - 235/raw dataset/meningioma_tumor/image(71).jpg\n",
            "/content/drive/MyDrive/Dataset/Dataset Citra 240 - 235/raw dataset/meningioma_tumor/image(72).jpg\n",
            "/content/drive/MyDrive/Dataset/Dataset Citra 240 - 235/raw dataset/meningioma_tumor/image(73).jpg\n",
            "/content/drive/MyDrive/Dataset/Dataset Citra 240 - 235/raw dataset/meningioma_tumor/image(74).jpg\n",
            "/content/drive/MyDrive/Dataset/Dataset Citra 240 - 235/raw dataset/meningioma_tumor/image(75).jpg\n",
            "/content/drive/MyDrive/Dataset/Dataset Citra 240 - 235/raw dataset/meningioma_tumor/image(76).jpg\n",
            "/content/drive/MyDrive/Dataset/Dataset Citra 240 - 235/raw dataset/meningioma_tumor/image(77).jpg\n",
            "/content/drive/MyDrive/Dataset/Dataset Citra 240 - 235/raw dataset/meningioma_tumor/image(78).jpg\n",
            "/content/drive/MyDrive/Dataset/Dataset Citra 240 - 235/raw dataset/meningioma_tumor/image(79).jpg\n",
            "/content/drive/MyDrive/Dataset/Dataset Citra 240 - 235/raw dataset/meningioma_tumor/image(8).jpg\n",
            "/content/drive/MyDrive/Dataset/Dataset Citra 240 - 235/raw dataset/meningioma_tumor/image(80).jpg\n",
            "/content/drive/MyDrive/Dataset/Dataset Citra 240 - 235/raw dataset/meningioma_tumor/image(81).jpg\n",
            "/content/drive/MyDrive/Dataset/Dataset Citra 240 - 235/raw dataset/meningioma_tumor/image(82).jpg\n",
            "/content/drive/MyDrive/Dataset/Dataset Citra 240 - 235/raw dataset/meningioma_tumor/image(83).jpg\n",
            "/content/drive/MyDrive/Dataset/Dataset Citra 240 - 235/raw dataset/meningioma_tumor/image(84).jpg\n",
            "/content/drive/MyDrive/Dataset/Dataset Citra 240 - 235/raw dataset/meningioma_tumor/image(85).jpg\n",
            "/content/drive/MyDrive/Dataset/Dataset Citra 240 - 235/raw dataset/meningioma_tumor/image(86).jpg\n",
            "/content/drive/MyDrive/Dataset/Dataset Citra 240 - 235/raw dataset/meningioma_tumor/image(87).jpg\n",
            "/content/drive/MyDrive/Dataset/Dataset Citra 240 - 235/raw dataset/meningioma_tumor/image(88).jpg\n",
            "/content/drive/MyDrive/Dataset/Dataset Citra 240 - 235/raw dataset/meningioma_tumor/image(89).jpg\n",
            "/content/drive/MyDrive/Dataset/Dataset Citra 240 - 235/raw dataset/meningioma_tumor/image(9).jpg\n",
            "/content/drive/MyDrive/Dataset/Dataset Citra 240 - 235/raw dataset/meningioma_tumor/image(90).jpg\n",
            "/content/drive/MyDrive/Dataset/Dataset Citra 240 - 235/raw dataset/meningioma_tumor/image(91).jpg\n",
            "/content/drive/MyDrive/Dataset/Dataset Citra 240 - 235/raw dataset/meningioma_tumor/image(92).jpg\n",
            "/content/drive/MyDrive/Dataset/Dataset Citra 240 - 235/raw dataset/meningioma_tumor/image(93).jpg\n",
            "/content/drive/MyDrive/Dataset/Dataset Citra 240 - 235/raw dataset/meningioma_tumor/image(94).jpg\n",
            "/content/drive/MyDrive/Dataset/Dataset Citra 240 - 235/raw dataset/meningioma_tumor/image(95).jpg\n",
            "/content/drive/MyDrive/Dataset/Dataset Citra 240 - 235/raw dataset/meningioma_tumor/image(96).jpg\n",
            "/content/drive/MyDrive/Dataset/Dataset Citra 240 - 235/raw dataset/meningioma_tumor/image(97).jpg\n",
            "/content/drive/MyDrive/Dataset/Dataset Citra 240 - 235/raw dataset/meningioma_tumor/image(98).jpg\n",
            "/content/drive/MyDrive/Dataset/Dataset Citra 240 - 235/raw dataset/meningioma_tumor/image(99).jpg\n",
            "/content/drive/MyDrive/Dataset/Dataset Citra 240 - 235/raw dataset/meningioma_tumor/image.jpg\n"
          ],
          "name": "stdout"
        }
      ]
    },
    {
      "cell_type": "code",
      "metadata": {
        "colab": {
          "base_uri": "https://localhost:8080/"
        },
        "id": "lqkohPsMiJmL",
        "outputId": "7a124d9c-cbe9-43cf-9a9c-9c940c46de8a"
      },
      "source": [
        "source = \"/content/drive/MyDrive/Dataset/Dataset Citra 240 - 235/raw dataset/no_tumor (1)\"\n",
        "destination = \"/content/drive/MyDrive/Dataset/Dataset Citra 240 - 235/raw dataset/no_tumor\"\n",
        "\n",
        "files = os.listdir(source)\n",
        "\n",
        "for file in files:\n",
        "\tnew_path = shutil.copy(f\"{source}/{file}\", destination)\n",
        "\tprint(new_path)"
      ],
      "execution_count": null,
      "outputs": [
        {
          "output_type": "stream",
          "text": [
            "/content/drive/MyDrive/Dataset/Dataset Citra 240 - 235/raw dataset/no_tumor/image(1).jpg\n",
            "/content/drive/MyDrive/Dataset/Dataset Citra 240 - 235/raw dataset/no_tumor/image(10).jpg\n",
            "/content/drive/MyDrive/Dataset/Dataset Citra 240 - 235/raw dataset/no_tumor/image(100).jpg\n",
            "/content/drive/MyDrive/Dataset/Dataset Citra 240 - 235/raw dataset/no_tumor/image(101).jpg\n",
            "/content/drive/MyDrive/Dataset/Dataset Citra 240 - 235/raw dataset/no_tumor/image(102).jpg\n",
            "/content/drive/MyDrive/Dataset/Dataset Citra 240 - 235/raw dataset/no_tumor/image(103).jpg\n",
            "/content/drive/MyDrive/Dataset/Dataset Citra 240 - 235/raw dataset/no_tumor/image(104).jpg\n",
            "/content/drive/MyDrive/Dataset/Dataset Citra 240 - 235/raw dataset/no_tumor/image(11).jpg\n",
            "/content/drive/MyDrive/Dataset/Dataset Citra 240 - 235/raw dataset/no_tumor/image(12).jpg\n",
            "/content/drive/MyDrive/Dataset/Dataset Citra 240 - 235/raw dataset/no_tumor/image(13).jpg\n",
            "/content/drive/MyDrive/Dataset/Dataset Citra 240 - 235/raw dataset/no_tumor/image(14).jpg\n",
            "/content/drive/MyDrive/Dataset/Dataset Citra 240 - 235/raw dataset/no_tumor/image(15).jpg\n",
            "/content/drive/MyDrive/Dataset/Dataset Citra 240 - 235/raw dataset/no_tumor/image(16).jpg\n",
            "/content/drive/MyDrive/Dataset/Dataset Citra 240 - 235/raw dataset/no_tumor/image(17).jpg\n",
            "/content/drive/MyDrive/Dataset/Dataset Citra 240 - 235/raw dataset/no_tumor/image(18).jpg\n",
            "/content/drive/MyDrive/Dataset/Dataset Citra 240 - 235/raw dataset/no_tumor/image(19).jpg\n",
            "/content/drive/MyDrive/Dataset/Dataset Citra 240 - 235/raw dataset/no_tumor/image(2).jpg\n",
            "/content/drive/MyDrive/Dataset/Dataset Citra 240 - 235/raw dataset/no_tumor/image(20).jpg\n",
            "/content/drive/MyDrive/Dataset/Dataset Citra 240 - 235/raw dataset/no_tumor/image(21).jpg\n",
            "/content/drive/MyDrive/Dataset/Dataset Citra 240 - 235/raw dataset/no_tumor/image(22).jpg\n",
            "/content/drive/MyDrive/Dataset/Dataset Citra 240 - 235/raw dataset/no_tumor/image(23).jpg\n",
            "/content/drive/MyDrive/Dataset/Dataset Citra 240 - 235/raw dataset/no_tumor/image(24).jpg\n",
            "/content/drive/MyDrive/Dataset/Dataset Citra 240 - 235/raw dataset/no_tumor/image(25).jpg\n",
            "/content/drive/MyDrive/Dataset/Dataset Citra 240 - 235/raw dataset/no_tumor/image(26).jpg\n",
            "/content/drive/MyDrive/Dataset/Dataset Citra 240 - 235/raw dataset/no_tumor/image(27).jpg\n",
            "/content/drive/MyDrive/Dataset/Dataset Citra 240 - 235/raw dataset/no_tumor/image(28).jpg\n",
            "/content/drive/MyDrive/Dataset/Dataset Citra 240 - 235/raw dataset/no_tumor/image(29).jpg\n",
            "/content/drive/MyDrive/Dataset/Dataset Citra 240 - 235/raw dataset/no_tumor/image(3).jpg\n",
            "/content/drive/MyDrive/Dataset/Dataset Citra 240 - 235/raw dataset/no_tumor/image(30).jpg\n",
            "/content/drive/MyDrive/Dataset/Dataset Citra 240 - 235/raw dataset/no_tumor/image(31).jpg\n",
            "/content/drive/MyDrive/Dataset/Dataset Citra 240 - 235/raw dataset/no_tumor/image(32).jpg\n",
            "/content/drive/MyDrive/Dataset/Dataset Citra 240 - 235/raw dataset/no_tumor/image(33).jpg\n",
            "/content/drive/MyDrive/Dataset/Dataset Citra 240 - 235/raw dataset/no_tumor/image(34).jpg\n",
            "/content/drive/MyDrive/Dataset/Dataset Citra 240 - 235/raw dataset/no_tumor/image(35).jpg\n",
            "/content/drive/MyDrive/Dataset/Dataset Citra 240 - 235/raw dataset/no_tumor/image(36).jpg\n",
            "/content/drive/MyDrive/Dataset/Dataset Citra 240 - 235/raw dataset/no_tumor/image(37).jpg\n",
            "/content/drive/MyDrive/Dataset/Dataset Citra 240 - 235/raw dataset/no_tumor/image(38).jpg\n",
            "/content/drive/MyDrive/Dataset/Dataset Citra 240 - 235/raw dataset/no_tumor/image(39).jpg\n",
            "/content/drive/MyDrive/Dataset/Dataset Citra 240 - 235/raw dataset/no_tumor/image(4).jpg\n",
            "/content/drive/MyDrive/Dataset/Dataset Citra 240 - 235/raw dataset/no_tumor/image(40).jpg\n",
            "/content/drive/MyDrive/Dataset/Dataset Citra 240 - 235/raw dataset/no_tumor/image(41).jpg\n",
            "/content/drive/MyDrive/Dataset/Dataset Citra 240 - 235/raw dataset/no_tumor/image(42).jpg\n",
            "/content/drive/MyDrive/Dataset/Dataset Citra 240 - 235/raw dataset/no_tumor/image(43).jpg\n",
            "/content/drive/MyDrive/Dataset/Dataset Citra 240 - 235/raw dataset/no_tumor/image(44).jpg\n",
            "/content/drive/MyDrive/Dataset/Dataset Citra 240 - 235/raw dataset/no_tumor/image(45).jpg\n",
            "/content/drive/MyDrive/Dataset/Dataset Citra 240 - 235/raw dataset/no_tumor/image(46).jpg\n",
            "/content/drive/MyDrive/Dataset/Dataset Citra 240 - 235/raw dataset/no_tumor/image(47).jpg\n",
            "/content/drive/MyDrive/Dataset/Dataset Citra 240 - 235/raw dataset/no_tumor/image(48).jpg\n",
            "/content/drive/MyDrive/Dataset/Dataset Citra 240 - 235/raw dataset/no_tumor/image(49).jpg\n",
            "/content/drive/MyDrive/Dataset/Dataset Citra 240 - 235/raw dataset/no_tumor/image(5).jpg\n",
            "/content/drive/MyDrive/Dataset/Dataset Citra 240 - 235/raw dataset/no_tumor/image(50).jpg\n",
            "/content/drive/MyDrive/Dataset/Dataset Citra 240 - 235/raw dataset/no_tumor/image(51).jpg\n",
            "/content/drive/MyDrive/Dataset/Dataset Citra 240 - 235/raw dataset/no_tumor/image(52).jpg\n",
            "/content/drive/MyDrive/Dataset/Dataset Citra 240 - 235/raw dataset/no_tumor/image(53).jpg\n",
            "/content/drive/MyDrive/Dataset/Dataset Citra 240 - 235/raw dataset/no_tumor/image(54).jpg\n",
            "/content/drive/MyDrive/Dataset/Dataset Citra 240 - 235/raw dataset/no_tumor/image(55).jpg\n",
            "/content/drive/MyDrive/Dataset/Dataset Citra 240 - 235/raw dataset/no_tumor/image(56).jpg\n",
            "/content/drive/MyDrive/Dataset/Dataset Citra 240 - 235/raw dataset/no_tumor/image(57).jpg\n",
            "/content/drive/MyDrive/Dataset/Dataset Citra 240 - 235/raw dataset/no_tumor/image(58).jpg\n",
            "/content/drive/MyDrive/Dataset/Dataset Citra 240 - 235/raw dataset/no_tumor/image(59).jpg\n",
            "/content/drive/MyDrive/Dataset/Dataset Citra 240 - 235/raw dataset/no_tumor/image(6).jpg\n",
            "/content/drive/MyDrive/Dataset/Dataset Citra 240 - 235/raw dataset/no_tumor/image(60).jpg\n",
            "/content/drive/MyDrive/Dataset/Dataset Citra 240 - 235/raw dataset/no_tumor/image(61).jpg\n",
            "/content/drive/MyDrive/Dataset/Dataset Citra 240 - 235/raw dataset/no_tumor/image(62).jpg\n",
            "/content/drive/MyDrive/Dataset/Dataset Citra 240 - 235/raw dataset/no_tumor/image(63).jpg\n",
            "/content/drive/MyDrive/Dataset/Dataset Citra 240 - 235/raw dataset/no_tumor/image(64).jpg\n",
            "/content/drive/MyDrive/Dataset/Dataset Citra 240 - 235/raw dataset/no_tumor/image(65).jpg\n",
            "/content/drive/MyDrive/Dataset/Dataset Citra 240 - 235/raw dataset/no_tumor/image(66).jpg\n",
            "/content/drive/MyDrive/Dataset/Dataset Citra 240 - 235/raw dataset/no_tumor/image(67).jpg\n",
            "/content/drive/MyDrive/Dataset/Dataset Citra 240 - 235/raw dataset/no_tumor/image(68).jpg\n",
            "/content/drive/MyDrive/Dataset/Dataset Citra 240 - 235/raw dataset/no_tumor/image(69).jpg\n",
            "/content/drive/MyDrive/Dataset/Dataset Citra 240 - 235/raw dataset/no_tumor/image(7).jpg\n",
            "/content/drive/MyDrive/Dataset/Dataset Citra 240 - 235/raw dataset/no_tumor/image(70).jpg\n",
            "/content/drive/MyDrive/Dataset/Dataset Citra 240 - 235/raw dataset/no_tumor/image(71).jpg\n",
            "/content/drive/MyDrive/Dataset/Dataset Citra 240 - 235/raw dataset/no_tumor/image(72).jpg\n",
            "/content/drive/MyDrive/Dataset/Dataset Citra 240 - 235/raw dataset/no_tumor/image(73).jpg\n",
            "/content/drive/MyDrive/Dataset/Dataset Citra 240 - 235/raw dataset/no_tumor/image(74).jpg\n",
            "/content/drive/MyDrive/Dataset/Dataset Citra 240 - 235/raw dataset/no_tumor/image(75).jpg\n",
            "/content/drive/MyDrive/Dataset/Dataset Citra 240 - 235/raw dataset/no_tumor/image(76).jpg\n",
            "/content/drive/MyDrive/Dataset/Dataset Citra 240 - 235/raw dataset/no_tumor/image(77).jpg\n",
            "/content/drive/MyDrive/Dataset/Dataset Citra 240 - 235/raw dataset/no_tumor/image(78).jpg\n",
            "/content/drive/MyDrive/Dataset/Dataset Citra 240 - 235/raw dataset/no_tumor/image(79).jpg\n",
            "/content/drive/MyDrive/Dataset/Dataset Citra 240 - 235/raw dataset/no_tumor/image(8).jpg\n",
            "/content/drive/MyDrive/Dataset/Dataset Citra 240 - 235/raw dataset/no_tumor/image(80).jpg\n",
            "/content/drive/MyDrive/Dataset/Dataset Citra 240 - 235/raw dataset/no_tumor/image(81).jpg\n",
            "/content/drive/MyDrive/Dataset/Dataset Citra 240 - 235/raw dataset/no_tumor/image(82).jpg\n",
            "/content/drive/MyDrive/Dataset/Dataset Citra 240 - 235/raw dataset/no_tumor/image(83).jpg\n",
            "/content/drive/MyDrive/Dataset/Dataset Citra 240 - 235/raw dataset/no_tumor/image(84).jpg\n",
            "/content/drive/MyDrive/Dataset/Dataset Citra 240 - 235/raw dataset/no_tumor/image(85).jpg\n",
            "/content/drive/MyDrive/Dataset/Dataset Citra 240 - 235/raw dataset/no_tumor/image(86).jpg\n",
            "/content/drive/MyDrive/Dataset/Dataset Citra 240 - 235/raw dataset/no_tumor/image(87).jpg\n",
            "/content/drive/MyDrive/Dataset/Dataset Citra 240 - 235/raw dataset/no_tumor/image(88).jpg\n",
            "/content/drive/MyDrive/Dataset/Dataset Citra 240 - 235/raw dataset/no_tumor/image(89).jpg\n",
            "/content/drive/MyDrive/Dataset/Dataset Citra 240 - 235/raw dataset/no_tumor/image(9).jpg\n",
            "/content/drive/MyDrive/Dataset/Dataset Citra 240 - 235/raw dataset/no_tumor/image(90).jpg\n",
            "/content/drive/MyDrive/Dataset/Dataset Citra 240 - 235/raw dataset/no_tumor/image(91).jpg\n",
            "/content/drive/MyDrive/Dataset/Dataset Citra 240 - 235/raw dataset/no_tumor/image(92).jpg\n",
            "/content/drive/MyDrive/Dataset/Dataset Citra 240 - 235/raw dataset/no_tumor/image(93).jpg\n",
            "/content/drive/MyDrive/Dataset/Dataset Citra 240 - 235/raw dataset/no_tumor/image(94).jpg\n",
            "/content/drive/MyDrive/Dataset/Dataset Citra 240 - 235/raw dataset/no_tumor/image(95).jpg\n",
            "/content/drive/MyDrive/Dataset/Dataset Citra 240 - 235/raw dataset/no_tumor/image(96).jpg\n",
            "/content/drive/MyDrive/Dataset/Dataset Citra 240 - 235/raw dataset/no_tumor/image(97).jpg\n",
            "/content/drive/MyDrive/Dataset/Dataset Citra 240 - 235/raw dataset/no_tumor/image(98).jpg\n",
            "/content/drive/MyDrive/Dataset/Dataset Citra 240 - 235/raw dataset/no_tumor/image(99).jpg\n",
            "/content/drive/MyDrive/Dataset/Dataset Citra 240 - 235/raw dataset/no_tumor/image.jpg\n"
          ],
          "name": "stdout"
        }
      ]
    },
    {
      "cell_type": "code",
      "metadata": {
        "colab": {
          "base_uri": "https://localhost:8080/"
        },
        "id": "nIi5ifyNiUGn",
        "outputId": "0f8b2643-d935-4358-fd14-a68ba983d119"
      },
      "source": [
        "source = \"/content/drive/MyDrive/Dataset/Dataset Citra 240 - 235/raw dataset/pituitary_tumor (1)\"\n",
        "destination = \"/content/drive/MyDrive/Dataset/Dataset Citra 240 - 235/raw dataset/pituitary_tumor\"\n",
        "\n",
        "files = os.listdir(source)\n",
        "\n",
        "for file in files:\n",
        "\tnew_path = shutil.copy(f\"{source}/{file}\", destination)\n",
        "\tprint(new_path)"
      ],
      "execution_count": null,
      "outputs": [
        {
          "output_type": "stream",
          "text": [
            "/content/drive/MyDrive/Dataset/Dataset Citra 240 - 235/raw dataset/pituitary_tumor/image(1).jpg\n",
            "/content/drive/MyDrive/Dataset/Dataset Citra 240 - 235/raw dataset/pituitary_tumor/image(10).jpg\n",
            "/content/drive/MyDrive/Dataset/Dataset Citra 240 - 235/raw dataset/pituitary_tumor/image(11).jpg\n",
            "/content/drive/MyDrive/Dataset/Dataset Citra 240 - 235/raw dataset/pituitary_tumor/image(13).jpg\n",
            "/content/drive/MyDrive/Dataset/Dataset Citra 240 - 235/raw dataset/pituitary_tumor/image(15).jpg\n",
            "/content/drive/MyDrive/Dataset/Dataset Citra 240 - 235/raw dataset/pituitary_tumor/image(18).jpg\n",
            "/content/drive/MyDrive/Dataset/Dataset Citra 240 - 235/raw dataset/pituitary_tumor/image(19).jpg\n",
            "/content/drive/MyDrive/Dataset/Dataset Citra 240 - 235/raw dataset/pituitary_tumor/image(2).jpg\n",
            "/content/drive/MyDrive/Dataset/Dataset Citra 240 - 235/raw dataset/pituitary_tumor/image(20).jpg\n",
            "/content/drive/MyDrive/Dataset/Dataset Citra 240 - 235/raw dataset/pituitary_tumor/image(21).jpg\n",
            "/content/drive/MyDrive/Dataset/Dataset Citra 240 - 235/raw dataset/pituitary_tumor/image(22).jpg\n",
            "/content/drive/MyDrive/Dataset/Dataset Citra 240 - 235/raw dataset/pituitary_tumor/image(23).jpg\n",
            "/content/drive/MyDrive/Dataset/Dataset Citra 240 - 235/raw dataset/pituitary_tumor/image(27).jpg\n",
            "/content/drive/MyDrive/Dataset/Dataset Citra 240 - 235/raw dataset/pituitary_tumor/image(28).jpg\n",
            "/content/drive/MyDrive/Dataset/Dataset Citra 240 - 235/raw dataset/pituitary_tumor/image(3).jpg\n",
            "/content/drive/MyDrive/Dataset/Dataset Citra 240 - 235/raw dataset/pituitary_tumor/image(30).jpg\n",
            "/content/drive/MyDrive/Dataset/Dataset Citra 240 - 235/raw dataset/pituitary_tumor/image(31).jpg\n",
            "/content/drive/MyDrive/Dataset/Dataset Citra 240 - 235/raw dataset/pituitary_tumor/image(34).jpg\n",
            "/content/drive/MyDrive/Dataset/Dataset Citra 240 - 235/raw dataset/pituitary_tumor/image(35).jpg\n",
            "/content/drive/MyDrive/Dataset/Dataset Citra 240 - 235/raw dataset/pituitary_tumor/image(36).jpg\n",
            "/content/drive/MyDrive/Dataset/Dataset Citra 240 - 235/raw dataset/pituitary_tumor/image(37).jpg\n",
            "/content/drive/MyDrive/Dataset/Dataset Citra 240 - 235/raw dataset/pituitary_tumor/image(38).jpg\n",
            "/content/drive/MyDrive/Dataset/Dataset Citra 240 - 235/raw dataset/pituitary_tumor/image(41).jpg\n",
            "/content/drive/MyDrive/Dataset/Dataset Citra 240 - 235/raw dataset/pituitary_tumor/image(42).jpg\n",
            "/content/drive/MyDrive/Dataset/Dataset Citra 240 - 235/raw dataset/pituitary_tumor/image(43).jpg\n",
            "/content/drive/MyDrive/Dataset/Dataset Citra 240 - 235/raw dataset/pituitary_tumor/image(44).jpg\n",
            "/content/drive/MyDrive/Dataset/Dataset Citra 240 - 235/raw dataset/pituitary_tumor/image(45).jpg\n",
            "/content/drive/MyDrive/Dataset/Dataset Citra 240 - 235/raw dataset/pituitary_tumor/image(46).jpg\n",
            "/content/drive/MyDrive/Dataset/Dataset Citra 240 - 235/raw dataset/pituitary_tumor/image(47).jpg\n",
            "/content/drive/MyDrive/Dataset/Dataset Citra 240 - 235/raw dataset/pituitary_tumor/image(48).jpg\n",
            "/content/drive/MyDrive/Dataset/Dataset Citra 240 - 235/raw dataset/pituitary_tumor/image(49).jpg\n",
            "/content/drive/MyDrive/Dataset/Dataset Citra 240 - 235/raw dataset/pituitary_tumor/image(5).jpg\n",
            "/content/drive/MyDrive/Dataset/Dataset Citra 240 - 235/raw dataset/pituitary_tumor/image(51).jpg\n",
            "/content/drive/MyDrive/Dataset/Dataset Citra 240 - 235/raw dataset/pituitary_tumor/image(52).jpg\n",
            "/content/drive/MyDrive/Dataset/Dataset Citra 240 - 235/raw dataset/pituitary_tumor/image(53).jpg\n",
            "/content/drive/MyDrive/Dataset/Dataset Citra 240 - 235/raw dataset/pituitary_tumor/image(54).jpg\n",
            "/content/drive/MyDrive/Dataset/Dataset Citra 240 - 235/raw dataset/pituitary_tumor/image(55).jpg\n",
            "/content/drive/MyDrive/Dataset/Dataset Citra 240 - 235/raw dataset/pituitary_tumor/image(56).jpg\n",
            "/content/drive/MyDrive/Dataset/Dataset Citra 240 - 235/raw dataset/pituitary_tumor/image(57).jpg\n",
            "/content/drive/MyDrive/Dataset/Dataset Citra 240 - 235/raw dataset/pituitary_tumor/image(6).jpg\n",
            "/content/drive/MyDrive/Dataset/Dataset Citra 240 - 235/raw dataset/pituitary_tumor/image(60).jpg\n",
            "/content/drive/MyDrive/Dataset/Dataset Citra 240 - 235/raw dataset/pituitary_tumor/image(61).jpg\n",
            "/content/drive/MyDrive/Dataset/Dataset Citra 240 - 235/raw dataset/pituitary_tumor/image(63).jpg\n",
            "/content/drive/MyDrive/Dataset/Dataset Citra 240 - 235/raw dataset/pituitary_tumor/image(64).jpg\n",
            "/content/drive/MyDrive/Dataset/Dataset Citra 240 - 235/raw dataset/pituitary_tumor/image(65).jpg\n",
            "/content/drive/MyDrive/Dataset/Dataset Citra 240 - 235/raw dataset/pituitary_tumor/image(66).jpg\n",
            "/content/drive/MyDrive/Dataset/Dataset Citra 240 - 235/raw dataset/pituitary_tumor/image(67).jpg\n",
            "/content/drive/MyDrive/Dataset/Dataset Citra 240 - 235/raw dataset/pituitary_tumor/image(68).jpg\n",
            "/content/drive/MyDrive/Dataset/Dataset Citra 240 - 235/raw dataset/pituitary_tumor/image(69).jpg\n",
            "/content/drive/MyDrive/Dataset/Dataset Citra 240 - 235/raw dataset/pituitary_tumor/image(7).jpg\n",
            "/content/drive/MyDrive/Dataset/Dataset Citra 240 - 235/raw dataset/pituitary_tumor/image(70).jpg\n",
            "/content/drive/MyDrive/Dataset/Dataset Citra 240 - 235/raw dataset/pituitary_tumor/image(73).jpg\n",
            "/content/drive/MyDrive/Dataset/Dataset Citra 240 - 235/raw dataset/pituitary_tumor/image(76).jpg\n",
            "/content/drive/MyDrive/Dataset/Dataset Citra 240 - 235/raw dataset/pituitary_tumor/image(77).jpg\n",
            "/content/drive/MyDrive/Dataset/Dataset Citra 240 - 235/raw dataset/pituitary_tumor/image(78).jpg\n",
            "/content/drive/MyDrive/Dataset/Dataset Citra 240 - 235/raw dataset/pituitary_tumor/image(79).jpg\n",
            "/content/drive/MyDrive/Dataset/Dataset Citra 240 - 235/raw dataset/pituitary_tumor/image(8).jpg\n",
            "/content/drive/MyDrive/Dataset/Dataset Citra 240 - 235/raw dataset/pituitary_tumor/image(81).jpg\n",
            "/content/drive/MyDrive/Dataset/Dataset Citra 240 - 235/raw dataset/pituitary_tumor/image(82).jpg\n",
            "/content/drive/MyDrive/Dataset/Dataset Citra 240 - 235/raw dataset/pituitary_tumor/image(85).jpg\n",
            "/content/drive/MyDrive/Dataset/Dataset Citra 240 - 235/raw dataset/pituitary_tumor/image(86).jpg\n",
            "/content/drive/MyDrive/Dataset/Dataset Citra 240 - 235/raw dataset/pituitary_tumor/image(87).jpg\n",
            "/content/drive/MyDrive/Dataset/Dataset Citra 240 - 235/raw dataset/pituitary_tumor/image(88).jpg\n",
            "/content/drive/MyDrive/Dataset/Dataset Citra 240 - 235/raw dataset/pituitary_tumor/image(89).jpg\n",
            "/content/drive/MyDrive/Dataset/Dataset Citra 240 - 235/raw dataset/pituitary_tumor/image(90).jpg\n",
            "/content/drive/MyDrive/Dataset/Dataset Citra 240 - 235/raw dataset/pituitary_tumor/image(91).jpg\n",
            "/content/drive/MyDrive/Dataset/Dataset Citra 240 - 235/raw dataset/pituitary_tumor/image(92).jpg\n",
            "/content/drive/MyDrive/Dataset/Dataset Citra 240 - 235/raw dataset/pituitary_tumor/image(93).jpg\n",
            "/content/drive/MyDrive/Dataset/Dataset Citra 240 - 235/raw dataset/pituitary_tumor/image(94).jpg\n",
            "/content/drive/MyDrive/Dataset/Dataset Citra 240 - 235/raw dataset/pituitary_tumor/image(95).jpg\n",
            "/content/drive/MyDrive/Dataset/Dataset Citra 240 - 235/raw dataset/pituitary_tumor/image(96).jpg\n",
            "/content/drive/MyDrive/Dataset/Dataset Citra 240 - 235/raw dataset/pituitary_tumor/image(97).jpg\n",
            "/content/drive/MyDrive/Dataset/Dataset Citra 240 - 235/raw dataset/pituitary_tumor/image(98).jpg\n",
            "/content/drive/MyDrive/Dataset/Dataset Citra 240 - 235/raw dataset/pituitary_tumor/image.jpg\n"
          ],
          "name": "stdout"
        }
      ]
    },
    {
      "cell_type": "code",
      "metadata": {
        "id": "qo7xoeVyia55"
      },
      "source": [
        "import glob \n",
        "for path in glob.glob(\"/content/drive/MyDrive/Dataset/Dataset Citra 240 - 235/raw dataset/glioma_tumor (1)*\"):\n",
        "    shutil.rmtree(path)\n",
        "for path in glob.glob(\"/content/drive/MyDrive/Dataset/Dataset Citra 240 - 235/raw dataset/meningioma_tumor (1)*\"):\n",
        "    shutil.rmtree(path)\n",
        "for path in glob.glob(\"/content/drive/MyDrive/Dataset/Dataset Citra 240 - 235/raw dataset/no_tumor (1)*\"):\n",
        "    shutil.rmtree(path)\n",
        "for path in glob.glob(\"/content/drive/MyDrive/Dataset/Dataset Citra 240 - 235/raw dataset/pituitary_tumor (1)*\"):\n",
        "    shutil.rmtree(path)"
      ],
      "execution_count": null,
      "outputs": []
    },
    {
      "cell_type": "markdown",
      "metadata": {
        "id": "KTXVDa8WoJm3"
      },
      "source": [
        "###Split Dataset dengan Alokasi 80% 20%"
      ]
    },
    {
      "cell_type": "code",
      "metadata": {
        "colab": {
          "base_uri": "https://localhost:8080/"
        },
        "id": "Vk48pSJToIZt",
        "outputId": "2aea1a43-9ed8-40bc-9111-1f30b57484a6"
      },
      "source": [
        "!pip install split-folders"
      ],
      "execution_count": null,
      "outputs": [
        {
          "output_type": "stream",
          "text": [
            "Collecting split-folders\n",
            "  Downloading https://files.pythonhosted.org/packages/b8/5f/3c2b2f7ea5e047c8cdc3bb00ae582c5438fcdbbedcc23b3cc1c2c7aae642/split_folders-0.4.3-py3-none-any.whl\n",
            "Installing collected packages: split-folders\n",
            "Successfully installed split-folders-0.4.3\n"
          ],
          "name": "stdout"
        }
      ]
    },
    {
      "cell_type": "code",
      "metadata": {
        "id": "DI90glOCoelm"
      },
      "source": [
        "!mkdir \"New Dataset\""
      ],
      "execution_count": null,
      "outputs": []
    },
    {
      "cell_type": "code",
      "metadata": {
        "colab": {
          "base_uri": "https://localhost:8080/"
        },
        "id": "-0wghmN8oe8m",
        "outputId": "c105ba1f-9bef-4206-f758-ec20a8033c4d"
      },
      "source": [
        "import splitfolders\n",
        "splitfolders.ratio('/content/drive/MyDrive/Dataset/Dataset Citra 240 - 235/raw dataset', output='/content/drive/MyDrive/Dataset/Dataset Citra 240 - 235/New Dataset',\n",
        "                   seed=82, ratio=(.8, .2), group_prefix=None)"
      ],
      "execution_count": null,
      "outputs": [
        {
          "output_type": "stream",
          "text": [
            "Copying files: 3160 files [00:34, 90.64 files/s]\n"
          ],
          "name": "stderr"
        }
      ]
    },
    {
      "cell_type": "code",
      "metadata": {
        "colab": {
          "base_uri": "https://localhost:8080/"
        },
        "id": "oobBH-tytWTk",
        "outputId": "06a96d8b-790e-42fe-84a4-82cd9323e4e0"
      },
      "source": [
        "total_image = len(list(glob.iglob(\"/content/drive/MyDrive/Dataset/Dataset Citra 240 - 235/New Dataset/train/*/*.jpg*\", recursive=True)))\n",
        "print(\"Total Dataset Train    : \",total_image,\" JPG Image \\n\")"
      ],
      "execution_count": null,
      "outputs": [
        {
          "output_type": "stream",
          "text": [
            "Total Dataset Train    :  2525  JPG Image \n",
            "\n"
          ],
          "name": "stdout"
        }
      ]
    },
    {
      "cell_type": "code",
      "metadata": {
        "colab": {
          "base_uri": "https://localhost:8080/"
        },
        "id": "bj3d2S7ks-Ia",
        "outputId": "a0ec000f-5125-42e1-c34b-f1da3e39927e"
      },
      "source": [
        "total_image = len(list(glob.iglob(\"/content/drive/MyDrive/Dataset/Dataset Citra 240 - 235/New Dataset/val/*/*.jpg*\", recursive=True)))\n",
        "print(\"Total Dataset Val    : \",total_image,\" JPG Image \\n\")"
      ],
      "execution_count": null,
      "outputs": [
        {
          "output_type": "stream",
          "text": [
            "Total Data Image    :  635  PNG Image \n",
            "\n"
          ],
          "name": "stdout"
        }
      ]
    },
    {
      "cell_type": "markdown",
      "metadata": {
        "id": "sSmgd42imyNT"
      },
      "source": [
        "###Preprocessing"
      ]
    },
    {
      "cell_type": "code",
      "metadata": {
        "id": "KPYIejaoCmbg"
      },
      "source": [
        "import numpy as np\n",
        "import pandas as pd\n",
        "import matplotlib.pyplot as plt\n",
        "import cv2\n",
        "import os\n",
        "\n",
        "training_dir = r\"/content/drive/MyDrive/Dataset/Dataset Citra 240 - 235/New Dataset/train/\"\n",
        "validation_dir = r\"/content/drive/MyDrive/Dataset/Dataset Citra 240 - 235/New Dataset/val/\"\n",
        "\n",
        "categories = [\"glioma_tumor\",\"meningioma_tumor\",\"no_tumor\",\"pituitary_tumor\"]"
      ],
      "execution_count": null,
      "outputs": []
    },
    {
      "cell_type": "code",
      "metadata": {
        "colab": {
          "base_uri": "https://localhost:8080/"
        },
        "id": "sRMdcV71ChQK",
        "outputId": "4b9c91e5-ebce-4220-bb22-424581a888aa"
      },
      "source": [
        "img_size = (150,150)\n",
        "\n",
        "training_data = []\n",
        "\n",
        "def create_training_data():\n",
        "    for category in categories:\n",
        "        path = os.path.join(training_dir,category)\n",
        "        class_num = categories.index(category)\n",
        "        for img in os.listdir(path):\n",
        "            try:\n",
        "                img_array = cv2.imread(os.path.join(path,img))\n",
        "                new_array = cv2.resize(img_array,img_size) \n",
        "                training_data.append([new_array,class_num])\n",
        "            except Exception as e:\n",
        "                pass\n",
        "create_training_data()\n",
        "print(\"Berhasil Create Training Data\")"
      ],
      "execution_count": null,
      "outputs": [
        {
          "output_type": "stream",
          "text": [
            "Berhasil Create Training Data\n"
          ],
          "name": "stdout"
        }
      ]
    },
    {
      "cell_type": "code",
      "metadata": {
        "colab": {
          "base_uri": "https://localhost:8080/"
        },
        "id": "N1LFTOiUXqwr",
        "outputId": "259a6822-f95e-4e61-e7b0-d130bf6cc997"
      },
      "source": [
        "X_train = []\n",
        "Y_train = []\n",
        "for features,label in training_data:\n",
        "    X_train.append(features)\n",
        "    Y_train.append(label)\n",
        "X_train = np.array(X_train).reshape(-1,150,150)\n",
        "X_train = X_train.astype('float32')/255.0  \n",
        "X_train = X_train.reshape(-1,150,150,3)\n",
        "print(X_train.shape)"
      ],
      "execution_count": null,
      "outputs": [
        {
          "output_type": "stream",
          "text": [
            "(2525, 150, 150, 3)\n"
          ],
          "name": "stdout"
        }
      ]
    },
    {
      "cell_type": "code",
      "metadata": {
        "colab": {
          "base_uri": "https://localhost:8080/"
        },
        "id": "XutR_hzaKY9e",
        "outputId": "1dca1fd4-d4de-42b1-9272-28a8508c73f0"
      },
      "source": [
        "IMG_SIZE = 150\n",
        "\n",
        "validation_data = []\n",
        "\n",
        "def create_validation_data():\n",
        "    for category in categories:\n",
        "        path = os.path.join(validation_dir,category)\n",
        "        class_num = categories.index(category)\n",
        "        for img in os.listdir(path):\n",
        "            try:\n",
        "                img_array = cv2.imread(os.path.join(path,img))\n",
        "                new_array = cv2.resize(img_array,img_size) \n",
        "                validation_data.append([new_array,class_num])\n",
        "            except Exception as e:\n",
        "                pass\n",
        "create_validation_data()\n",
        "print(\"Berhasil Create Validation Data\")"
      ],
      "execution_count": null,
      "outputs": [
        {
          "output_type": "stream",
          "text": [
            "Berhasil Create Validation Data\n"
          ],
          "name": "stdout"
        }
      ]
    },
    {
      "cell_type": "code",
      "metadata": {
        "colab": {
          "base_uri": "https://localhost:8080/"
        },
        "id": "ZArv4GT7MhEL",
        "outputId": "d0779f94-4fb6-4aa4-dc95-e01422fe25ab"
      },
      "source": [
        "X_val = []\n",
        "Y_val = []\n",
        "for features,label in validation_data:\n",
        "    X_val.append(features)\n",
        "    Y_val.append(label)\n",
        "X_val = np.array(X_val).reshape(-1,150,150)\n",
        "X_val = X_val.astype('float32')/255.0  \n",
        "X_val = X_val.reshape(-1,150,150,3)\n",
        "print(X_val.shape)"
      ],
      "execution_count": null,
      "outputs": [
        {
          "output_type": "stream",
          "text": [
            "(635, 150, 150, 3)\n"
          ],
          "name": "stdout"
        }
      ]
    },
    {
      "cell_type": "code",
      "metadata": {
        "id": "24jRJzNvUDb3"
      },
      "source": [
        "Y_train = np.array(Y_train)\n",
        "Y_val = np.array(Y_val)"
      ],
      "execution_count": null,
      "outputs": []
    },
    {
      "cell_type": "code",
      "metadata": {
        "id": "CQk8bffnXtgI"
      },
      "source": [
        "from keras.utils.np_utils import to_categorical # convert to one-hot-encoding\n",
        "Y_train = to_categorical(Y_train, num_classes = 4)\n",
        "Y_val = to_categorical(Y_val, num_classes = 4)"
      ],
      "execution_count": null,
      "outputs": []
    },
    {
      "cell_type": "code",
      "metadata": {
        "colab": {
          "base_uri": "https://localhost:8080/"
        },
        "id": "a3vYqTEYXw8Q",
        "outputId": "54c7705a-c56c-4165-978d-e08f68c3f393"
      },
      "source": [
        "print(\"x_train shape\",X_train.shape)\n",
        "print(\"x_test shape\",X_val.shape)\n",
        "print(\"y_train shape\",Y_train.shape)\n",
        "print(\"y_test shape\",Y_val.shape)"
      ],
      "execution_count": null,
      "outputs": [
        {
          "output_type": "stream",
          "text": [
            "x_train shape (2525, 150, 150, 3)\n",
            "x_test shape (635, 150, 150, 3)\n",
            "y_train shape (2525, 4)\n",
            "y_test shape (635, 4)\n"
          ],
          "name": "stdout"
        }
      ]
    },
    {
      "cell_type": "markdown",
      "metadata": {
        "id": "38OWNvsH27ZH"
      },
      "source": [
        "#Rancangan Model 2\n",
        "Model 2 = Mobilenet dengan weight imagenet dan penggunaan checkpoint serta early callbacks"
      ]
    },
    {
      "cell_type": "code",
      "metadata": {
        "colab": {
          "base_uri": "https://localhost:8080/"
        },
        "id": "6RnzX4q6LwI4",
        "outputId": "2f399658-61b0-45cd-9da0-bb9c753096ef"
      },
      "source": [
        "from keras.applications import MobileNet\n",
        "import tensorflow as tf\n",
        "\n",
        "base_model = MobileNet(include_top=False,weights='imagenet',input_shape=(150,150,3))\n",
        "\n",
        "model_mobnet = Sequential([\n",
        "                           base_model, \n",
        "                           Flatten(), \n",
        "                           Dense(1024,activation=('relu'),input_dim=150),\n",
        "                           Dropout(0.5),                           \n",
        "                           Dense(512,activation=('relu')),\n",
        "                           Dense(256,activation=('relu')),\n",
        "                           Dropout(0.5),     \n",
        "                           Dense(4,activation=('softmax'))\n",
        "])\n",
        "model_mobnet.layers[0].trainable = False\n",
        "\n",
        "model_mobnet.summary()"
      ],
      "execution_count": null,
      "outputs": [
        {
          "output_type": "stream",
          "text": [
            "WARNING:tensorflow:`input_shape` is undefined or non-square, or `rows` is not in [128, 160, 192, 224]. Weights for input shape (224, 224) will be loaded as the default.\n",
            "Model: \"sequential\"\n",
            "_________________________________________________________________\n",
            "Layer (type)                 Output Shape              Param #   \n",
            "=================================================================\n",
            "mobilenet_1.00_224 (Function (None, 4, 4, 1024)        3228864   \n",
            "_________________________________________________________________\n",
            "flatten (Flatten)            (None, 16384)             0         \n",
            "_________________________________________________________________\n",
            "dense (Dense)                (None, 1024)              16778240  \n",
            "_________________________________________________________________\n",
            "dropout (Dropout)            (None, 1024)              0         \n",
            "_________________________________________________________________\n",
            "dense_1 (Dense)              (None, 512)               524800    \n",
            "_________________________________________________________________\n",
            "dense_2 (Dense)              (None, 256)               131328    \n",
            "_________________________________________________________________\n",
            "dropout_1 (Dropout)          (None, 256)               0         \n",
            "_________________________________________________________________\n",
            "dense_3 (Dense)              (None, 4)                 1028      \n",
            "=================================================================\n",
            "Total params: 20,664,260\n",
            "Trainable params: 17,435,396\n",
            "Non-trainable params: 3,228,864\n",
            "_________________________________________________________________\n"
          ],
          "name": "stdout"
        }
      ]
    },
    {
      "cell_type": "code",
      "metadata": {
        "id": "o7YpXRm4iea5"
      },
      "source": [
        "Adam(learning_rate=0.00146, name='Adam')\n",
        "model_mobnet.compile(optimizer = 'Adam',loss = 'categorical_crossentropy',metrics = ['accuracy'])"
      ],
      "execution_count": null,
      "outputs": []
    },
    {
      "cell_type": "code",
      "metadata": {
        "id": "C77yvON1ieYk"
      },
      "source": [
        "epochs = 50  \n",
        "batch_size = 32\n",
        "datagen = ImageDataGenerator(\n",
        "        rotation_range=0,\n",
        "        zoom_range = 0,\n",
        "        width_shift_range=0,  \n",
        "        height_shift_range=0,  \n",
        "        horizontal_flip=True,  \n",
        "        vertical_flip=False)  "
      ],
      "execution_count": null,
      "outputs": []
    },
    {
      "cell_type": "code",
      "metadata": {
        "id": "4K0sMPhyODhn"
      },
      "source": [
        "from tensorflow.keras import callbacks\n",
        "filepath=\"/content/drive/MyDrive/Dataset/Dataset Citra 240 - 235/model_1.h5\"\n",
        "checkpoint = callbacks.ModelCheckpoint(\n",
        "                                       filepath,\n",
        "                                       monitor='val_accuracy',\n",
        "                                       verbose=1,\n",
        "                                       save_best_only=True,\n",
        "                                       mode='auto',\n",
        "                                       )\n",
        "earlystop = callbacks.EarlyStopping(monitor='val_loss',\n",
        "                                    mode='auto',\n",
        "                                    patience=4,\n",
        "                                    restore_best_weights=True)"
      ],
      "execution_count": null,
      "outputs": []
    },
    {
      "cell_type": "code",
      "metadata": {
        "colab": {
          "base_uri": "https://localhost:8080/"
        },
        "id": "NUIVXtTQieU4",
        "outputId": "7837892f-37d8-424a-bfe4-cdad019fd9bc"
      },
      "source": [
        "import time\n",
        "\n",
        "start = time.time()\n",
        "datagen.fit(X_train)\n",
        "history2 = model_mobnet.fit_generator(datagen.flow(X_train,Y_train, batch_size=batch_size),\n",
        "                              epochs = epochs, validation_data = (X_val,Y_val),\n",
        "                              steps_per_epoch = X_train.shape[0] // batch_size,\n",
        "                              callbacks=[checkpoint])\n",
        "stop = time.time()"
      ],
      "execution_count": null,
      "outputs": [
        {
          "output_type": "stream",
          "text": [
            "WARNING:tensorflow:From <ipython-input-21-9fc7e5811fe0>:8: Model.fit_generator (from tensorflow.python.keras.engine.training) is deprecated and will be removed in a future version.\n",
            "Instructions for updating:\n",
            "Please use Model.fit, which supports generators.\n",
            "Epoch 1/50\n",
            "78/78 [==============================] - ETA: 0s - loss: 3.6455 - accuracy: 0.5311\n",
            "Epoch 00001: val_accuracy improved from -inf to 0.77008, saving model to /content/drive/MyDrive/Dataset/Dataset Citra 240 - 235/model_1.h5\n",
            "78/78 [==============================] - 54s 697ms/step - loss: 3.6455 - accuracy: 0.5311 - val_loss: 0.6821 - val_accuracy: 0.7701\n",
            "Epoch 2/50\n",
            "78/78 [==============================] - ETA: 0s - loss: 0.7597 - accuracy: 0.7200\n",
            "Epoch 00002: val_accuracy improved from 0.77008 to 0.79843, saving model to /content/drive/MyDrive/Dataset/Dataset Citra 240 - 235/model_1.h5\n",
            "78/78 [==============================] - 53s 678ms/step - loss: 0.7597 - accuracy: 0.7200 - val_loss: 0.4968 - val_accuracy: 0.7984\n",
            "Epoch 3/50\n",
            "78/78 [==============================] - ETA: 0s - loss: 0.6127 - accuracy: 0.7750\n",
            "Epoch 00003: val_accuracy improved from 0.79843 to 0.82520, saving model to /content/drive/MyDrive/Dataset/Dataset Citra 240 - 235/model_1.h5\n",
            "78/78 [==============================] - 53s 677ms/step - loss: 0.6127 - accuracy: 0.7750 - val_loss: 0.4653 - val_accuracy: 0.8252\n",
            "Epoch 4/50\n",
            "78/78 [==============================] - ETA: 0s - loss: 0.5250 - accuracy: 0.8167\n",
            "Epoch 00004: val_accuracy improved from 0.82520 to 0.87559, saving model to /content/drive/MyDrive/Dataset/Dataset Citra 240 - 235/model_1.h5\n",
            "78/78 [==============================] - 53s 676ms/step - loss: 0.5250 - accuracy: 0.8167 - val_loss: 0.3525 - val_accuracy: 0.8756\n",
            "Epoch 5/50\n",
            "78/78 [==============================] - ETA: 0s - loss: 0.4473 - accuracy: 0.8335\n",
            "Epoch 00005: val_accuracy improved from 0.87559 to 0.88504, saving model to /content/drive/MyDrive/Dataset/Dataset Citra 240 - 235/model_1.h5\n",
            "78/78 [==============================] - 53s 678ms/step - loss: 0.4473 - accuracy: 0.8335 - val_loss: 0.3115 - val_accuracy: 0.8850\n",
            "Epoch 6/50\n",
            "78/78 [==============================] - ETA: 0s - loss: 0.4040 - accuracy: 0.8584\n",
            "Epoch 00006: val_accuracy did not improve from 0.88504\n",
            "78/78 [==============================] - 53s 682ms/step - loss: 0.4040 - accuracy: 0.8584 - val_loss: 0.3432 - val_accuracy: 0.8693\n",
            "Epoch 7/50\n",
            "78/78 [==============================] - ETA: 0s - loss: 0.3278 - accuracy: 0.8809\n",
            "Epoch 00007: val_accuracy improved from 0.88504 to 0.88661, saving model to /content/drive/MyDrive/Dataset/Dataset Citra 240 - 235/model_1.h5\n",
            "78/78 [==============================] - 52s 672ms/step - loss: 0.3278 - accuracy: 0.8809 - val_loss: 0.3185 - val_accuracy: 0.8866\n",
            "Epoch 8/50\n",
            "78/78 [==============================] - ETA: 0s - loss: 0.3792 - accuracy: 0.8716\n",
            "Epoch 00008: val_accuracy improved from 0.88661 to 0.89606, saving model to /content/drive/MyDrive/Dataset/Dataset Citra 240 - 235/model_1.h5\n",
            "78/78 [==============================] - 53s 680ms/step - loss: 0.3792 - accuracy: 0.8716 - val_loss: 0.2828 - val_accuracy: 0.8961\n",
            "Epoch 9/50\n",
            "78/78 [==============================] - ETA: 0s - loss: 0.2889 - accuracy: 0.8985\n",
            "Epoch 00009: val_accuracy improved from 0.89606 to 0.89764, saving model to /content/drive/MyDrive/Dataset/Dataset Citra 240 - 235/model_1.h5\n",
            "78/78 [==============================] - 53s 676ms/step - loss: 0.2889 - accuracy: 0.8985 - val_loss: 0.2853 - val_accuracy: 0.8976\n",
            "Epoch 10/50\n",
            "78/78 [==============================] - ETA: 0s - loss: 0.2850 - accuracy: 0.8981\n",
            "Epoch 00010: val_accuracy improved from 0.89764 to 0.90866, saving model to /content/drive/MyDrive/Dataset/Dataset Citra 240 - 235/model_1.h5\n",
            "78/78 [==============================] - 53s 676ms/step - loss: 0.2850 - accuracy: 0.8981 - val_loss: 0.2383 - val_accuracy: 0.9087\n",
            "Epoch 11/50\n",
            "78/78 [==============================] - ETA: 0s - loss: 0.2264 - accuracy: 0.9130\n",
            "Epoch 00011: val_accuracy did not improve from 0.90866\n",
            "78/78 [==============================] - 51s 658ms/step - loss: 0.2264 - accuracy: 0.9130 - val_loss: 0.2652 - val_accuracy: 0.8961\n",
            "Epoch 12/50\n",
            "78/78 [==============================] - ETA: 0s - loss: 0.2200 - accuracy: 0.9218\n",
            "Epoch 00012: val_accuracy did not improve from 0.90866\n",
            "78/78 [==============================] - 51s 652ms/step - loss: 0.2200 - accuracy: 0.9218 - val_loss: 0.3094 - val_accuracy: 0.9039\n",
            "Epoch 13/50\n",
            "78/78 [==============================] - ETA: 0s - loss: 0.2244 - accuracy: 0.9206\n",
            "Epoch 00013: val_accuracy did not improve from 0.90866\n",
            "78/78 [==============================] - 51s 652ms/step - loss: 0.2244 - accuracy: 0.9206 - val_loss: 0.2715 - val_accuracy: 0.9039\n",
            "Epoch 14/50\n",
            "78/78 [==============================] - ETA: 0s - loss: 0.2068 - accuracy: 0.9286\n",
            "Epoch 00014: val_accuracy did not improve from 0.90866\n",
            "78/78 [==============================] - 51s 652ms/step - loss: 0.2068 - accuracy: 0.9286 - val_loss: 0.2953 - val_accuracy: 0.9024\n",
            "Epoch 15/50\n",
            "78/78 [==============================] - ETA: 0s - loss: 0.2543 - accuracy: 0.9097\n",
            "Epoch 00015: val_accuracy improved from 0.90866 to 0.92283, saving model to /content/drive/MyDrive/Dataset/Dataset Citra 240 - 235/model_1.h5\n",
            "78/78 [==============================] - 52s 669ms/step - loss: 0.2543 - accuracy: 0.9097 - val_loss: 0.2467 - val_accuracy: 0.9228\n",
            "Epoch 16/50\n",
            "78/78 [==============================] - ETA: 0s - loss: 0.2165 - accuracy: 0.9230\n",
            "Epoch 00016: val_accuracy did not improve from 0.92283\n",
            "78/78 [==============================] - 51s 657ms/step - loss: 0.2165 - accuracy: 0.9230 - val_loss: 0.2553 - val_accuracy: 0.9228\n",
            "Epoch 17/50\n",
            "78/78 [==============================] - ETA: 0s - loss: 0.1842 - accuracy: 0.9354\n",
            "Epoch 00017: val_accuracy did not improve from 0.92283\n",
            "78/78 [==============================] - 52s 670ms/step - loss: 0.1842 - accuracy: 0.9354 - val_loss: 0.3352 - val_accuracy: 0.8992\n",
            "Epoch 18/50\n",
            "78/78 [==============================] - ETA: 0s - loss: 0.1934 - accuracy: 0.9346\n",
            "Epoch 00018: val_accuracy improved from 0.92283 to 0.92598, saving model to /content/drive/MyDrive/Dataset/Dataset Citra 240 - 235/model_1.h5\n",
            "78/78 [==============================] - 52s 670ms/step - loss: 0.1934 - accuracy: 0.9346 - val_loss: 0.2547 - val_accuracy: 0.9260\n",
            "Epoch 19/50\n",
            "78/78 [==============================] - ETA: 0s - loss: 0.2225 - accuracy: 0.9410\n",
            "Epoch 00019: val_accuracy did not improve from 0.92598\n",
            "78/78 [==============================] - 51s 658ms/step - loss: 0.2225 - accuracy: 0.9410 - val_loss: 0.2546 - val_accuracy: 0.9071\n",
            "Epoch 20/50\n",
            "78/78 [==============================] - ETA: 0s - loss: 0.1531 - accuracy: 0.9507\n",
            "Epoch 00020: val_accuracy did not improve from 0.92598\n",
            "78/78 [==============================] - 51s 653ms/step - loss: 0.1531 - accuracy: 0.9507 - val_loss: 0.2826 - val_accuracy: 0.9150\n",
            "Epoch 21/50\n",
            "78/78 [==============================] - ETA: 0s - loss: 0.1469 - accuracy: 0.9539\n",
            "Epoch 00021: val_accuracy did not improve from 0.92598\n",
            "78/78 [==============================] - 51s 649ms/step - loss: 0.1469 - accuracy: 0.9539 - val_loss: 0.2850 - val_accuracy: 0.9134\n",
            "Epoch 22/50\n",
            "78/78 [==============================] - ETA: 0s - loss: 0.1534 - accuracy: 0.9479\n",
            "Epoch 00022: val_accuracy did not improve from 0.92598\n",
            "78/78 [==============================] - 51s 649ms/step - loss: 0.1534 - accuracy: 0.9479 - val_loss: 0.2834 - val_accuracy: 0.9102\n",
            "Epoch 23/50\n",
            "78/78 [==============================] - ETA: 0s - loss: 0.1144 - accuracy: 0.9631\n",
            "Epoch 00023: val_accuracy did not improve from 0.92598\n",
            "78/78 [==============================] - 51s 649ms/step - loss: 0.1144 - accuracy: 0.9631 - val_loss: 0.2833 - val_accuracy: 0.9150\n",
            "Epoch 24/50\n",
            "78/78 [==============================] - ETA: 0s - loss: 0.1518 - accuracy: 0.9531\n",
            "Epoch 00024: val_accuracy improved from 0.92598 to 0.94016, saving model to /content/drive/MyDrive/Dataset/Dataset Citra 240 - 235/model_1.h5\n",
            "78/78 [==============================] - 52s 670ms/step - loss: 0.1518 - accuracy: 0.9531 - val_loss: 0.2143 - val_accuracy: 0.9402\n",
            "Epoch 25/50\n",
            "78/78 [==============================] - ETA: 0s - loss: 0.1544 - accuracy: 0.9499\n",
            "Epoch 00025: val_accuracy did not improve from 0.94016\n",
            "78/78 [==============================] - 51s 655ms/step - loss: 0.1544 - accuracy: 0.9499 - val_loss: 0.2459 - val_accuracy: 0.9276\n",
            "Epoch 26/50\n",
            "78/78 [==============================] - ETA: 0s - loss: 0.1167 - accuracy: 0.9587\n",
            "Epoch 00026: val_accuracy did not improve from 0.94016\n",
            "78/78 [==============================] - 51s 652ms/step - loss: 0.1167 - accuracy: 0.9587 - val_loss: 0.2339 - val_accuracy: 0.9228\n",
            "Epoch 27/50\n",
            "78/78 [==============================] - ETA: 0s - loss: 0.1271 - accuracy: 0.9547\n",
            "Epoch 00027: val_accuracy did not improve from 0.94016\n",
            "78/78 [==============================] - 51s 648ms/step - loss: 0.1271 - accuracy: 0.9547 - val_loss: 0.2606 - val_accuracy: 0.9244\n",
            "Epoch 28/50\n",
            "78/78 [==============================] - ETA: 0s - loss: 0.1071 - accuracy: 0.9667\n",
            "Epoch 00028: val_accuracy did not improve from 0.94016\n",
            "78/78 [==============================] - 51s 649ms/step - loss: 0.1071 - accuracy: 0.9667 - val_loss: 0.2433 - val_accuracy: 0.9291\n",
            "Epoch 29/50\n",
            "78/78 [==============================] - ETA: 0s - loss: 0.1241 - accuracy: 0.9607\n",
            "Epoch 00029: val_accuracy did not improve from 0.94016\n",
            "78/78 [==============================] - 52s 672ms/step - loss: 0.1241 - accuracy: 0.9607 - val_loss: 0.2436 - val_accuracy: 0.9276\n",
            "Epoch 30/50\n",
            "78/78 [==============================] - ETA: 0s - loss: 0.1378 - accuracy: 0.9631\n",
            "Epoch 00030: val_accuracy did not improve from 0.94016\n",
            "78/78 [==============================] - 51s 649ms/step - loss: 0.1378 - accuracy: 0.9631 - val_loss: 0.2757 - val_accuracy: 0.9165\n",
            "Epoch 31/50\n",
            "78/78 [==============================] - ETA: 0s - loss: 0.1474 - accuracy: 0.9543\n",
            "Epoch 00031: val_accuracy did not improve from 0.94016\n",
            "78/78 [==============================] - 50s 643ms/step - loss: 0.1474 - accuracy: 0.9543 - val_loss: 0.3032 - val_accuracy: 0.9134\n",
            "Epoch 32/50\n",
            "78/78 [==============================] - ETA: 0s - loss: 0.1097 - accuracy: 0.9627\n",
            "Epoch 00032: val_accuracy did not improve from 0.94016\n",
            "78/78 [==============================] - 51s 654ms/step - loss: 0.1097 - accuracy: 0.9627 - val_loss: 0.3856 - val_accuracy: 0.9087\n",
            "Epoch 33/50\n",
            "78/78 [==============================] - ETA: 0s - loss: 0.1073 - accuracy: 0.9707\n",
            "Epoch 00033: val_accuracy did not improve from 0.94016\n",
            "78/78 [==============================] - 51s 652ms/step - loss: 0.1073 - accuracy: 0.9707 - val_loss: 0.2262 - val_accuracy: 0.9260\n",
            "Epoch 34/50\n",
            "78/78 [==============================] - ETA: 0s - loss: 0.1021 - accuracy: 0.9679\n",
            "Epoch 00034: val_accuracy did not improve from 0.94016\n",
            "78/78 [==============================] - 51s 652ms/step - loss: 0.1021 - accuracy: 0.9679 - val_loss: 0.3361 - val_accuracy: 0.9213\n",
            "Epoch 35/50\n",
            "78/78 [==============================] - ETA: 0s - loss: 0.1047 - accuracy: 0.9627\n",
            "Epoch 00035: val_accuracy did not improve from 0.94016\n",
            "78/78 [==============================] - 51s 653ms/step - loss: 0.1047 - accuracy: 0.9627 - val_loss: 0.3385 - val_accuracy: 0.9087\n",
            "Epoch 36/50\n",
            "78/78 [==============================] - ETA: 0s - loss: 0.0954 - accuracy: 0.9683\n",
            "Epoch 00036: val_accuracy did not improve from 0.94016\n",
            "78/78 [==============================] - 51s 655ms/step - loss: 0.0954 - accuracy: 0.9683 - val_loss: 0.2603 - val_accuracy: 0.9244\n",
            "Epoch 37/50\n",
            "78/78 [==============================] - ETA: 0s - loss: 0.1012 - accuracy: 0.9635\n",
            "Epoch 00037: val_accuracy did not improve from 0.94016\n",
            "78/78 [==============================] - 51s 653ms/step - loss: 0.1012 - accuracy: 0.9635 - val_loss: 0.2172 - val_accuracy: 0.9386\n",
            "Epoch 38/50\n",
            "78/78 [==============================] - ETA: 0s - loss: 0.0632 - accuracy: 0.9799\n",
            "Epoch 00038: val_accuracy did not improve from 0.94016\n",
            "78/78 [==============================] - 51s 655ms/step - loss: 0.0632 - accuracy: 0.9799 - val_loss: 0.3383 - val_accuracy: 0.9165\n",
            "Epoch 39/50\n",
            "78/78 [==============================] - ETA: 0s - loss: 0.1423 - accuracy: 0.9583\n",
            "Epoch 00039: val_accuracy did not improve from 0.94016\n",
            "78/78 [==============================] - 51s 652ms/step - loss: 0.1423 - accuracy: 0.9583 - val_loss: 0.2947 - val_accuracy: 0.9213\n",
            "Epoch 40/50\n",
            "78/78 [==============================] - ETA: 0s - loss: 0.1033 - accuracy: 0.9727\n",
            "Epoch 00040: val_accuracy did not improve from 0.94016\n",
            "78/78 [==============================] - 51s 652ms/step - loss: 0.1033 - accuracy: 0.9727 - val_loss: 0.2483 - val_accuracy: 0.9213\n",
            "Epoch 41/50\n",
            "78/78 [==============================] - ETA: 0s - loss: 0.0886 - accuracy: 0.9687\n",
            "Epoch 00041: val_accuracy did not improve from 0.94016\n",
            "78/78 [==============================] - 53s 675ms/step - loss: 0.0886 - accuracy: 0.9687 - val_loss: 0.2788 - val_accuracy: 0.9165\n",
            "Epoch 42/50\n",
            "78/78 [==============================] - ETA: 0s - loss: 0.0748 - accuracy: 0.9743\n",
            "Epoch 00042: val_accuracy did not improve from 0.94016\n",
            "78/78 [==============================] - 51s 653ms/step - loss: 0.0748 - accuracy: 0.9743 - val_loss: 0.2647 - val_accuracy: 0.9370\n",
            "Epoch 43/50\n",
            "78/78 [==============================] - ETA: 0s - loss: 0.1417 - accuracy: 0.9623\n",
            "Epoch 00043: val_accuracy did not improve from 0.94016\n",
            "78/78 [==============================] - 51s 653ms/step - loss: 0.1417 - accuracy: 0.9623 - val_loss: 0.2544 - val_accuracy: 0.9228\n",
            "Epoch 44/50\n",
            "78/78 [==============================] - ETA: 0s - loss: 0.1175 - accuracy: 0.9655\n",
            "Epoch 00044: val_accuracy did not improve from 0.94016\n",
            "78/78 [==============================] - 51s 655ms/step - loss: 0.1175 - accuracy: 0.9655 - val_loss: 0.2600 - val_accuracy: 0.9386\n",
            "Epoch 45/50\n",
            "78/78 [==============================] - ETA: 0s - loss: 0.0950 - accuracy: 0.9727\n",
            "Epoch 00045: val_accuracy did not improve from 0.94016\n",
            "78/78 [==============================] - 51s 653ms/step - loss: 0.0950 - accuracy: 0.9727 - val_loss: 0.2831 - val_accuracy: 0.9291\n",
            "Epoch 46/50\n",
            "78/78 [==============================] - ETA: 0s - loss: 0.1459 - accuracy: 0.9571\n",
            "Epoch 00046: val_accuracy did not improve from 0.94016\n",
            "78/78 [==============================] - 51s 651ms/step - loss: 0.1459 - accuracy: 0.9571 - val_loss: 0.2881 - val_accuracy: 0.9323\n",
            "Epoch 47/50\n",
            "78/78 [==============================] - ETA: 0s - loss: 0.1458 - accuracy: 0.9619\n",
            "Epoch 00047: val_accuracy did not improve from 0.94016\n",
            "78/78 [==============================] - 51s 652ms/step - loss: 0.1458 - accuracy: 0.9619 - val_loss: 0.2611 - val_accuracy: 0.9197\n",
            "Epoch 48/50\n",
            "78/78 [==============================] - ETA: 0s - loss: 0.1118 - accuracy: 0.9647\n",
            "Epoch 00048: val_accuracy did not improve from 0.94016\n",
            "78/78 [==============================] - 51s 655ms/step - loss: 0.1118 - accuracy: 0.9647 - val_loss: 0.2472 - val_accuracy: 0.9244\n",
            "Epoch 49/50\n",
            "78/78 [==============================] - ETA: 0s - loss: 0.1069 - accuracy: 0.9623\n",
            "Epoch 00049: val_accuracy did not improve from 0.94016\n",
            "78/78 [==============================] - 51s 653ms/step - loss: 0.1069 - accuracy: 0.9623 - val_loss: 0.4164 - val_accuracy: 0.9087\n",
            "Epoch 50/50\n",
            "78/78 [==============================] - ETA: 0s - loss: 0.1271 - accuracy: 0.9575\n",
            "Epoch 00050: val_accuracy did not improve from 0.94016\n",
            "78/78 [==============================] - 51s 656ms/step - loss: 0.1271 - accuracy: 0.9575 - val_loss: 0.3313 - val_accuracy: 0.9181\n"
          ],
          "name": "stdout"
        }
      ]
    },
    {
      "cell_type": "code",
      "metadata": {
        "colab": {
          "base_uri": "https://localhost:8080/"
        },
        "id": "Krq6YBeRHW3f",
        "outputId": "49c27cf9-dc67-4708-b1f2-93c4b240a141"
      },
      "source": [
        "print(f\" Waktu training {stop - start} s\")"
      ],
      "execution_count": null,
      "outputs": [
        {
          "output_type": "stream",
          "text": [
            " Waktu training 2605.0057079792023 s\n"
          ],
          "name": "stdout"
        }
      ]
    },
    {
      "cell_type": "code",
      "metadata": {
        "colab": {
          "base_uri": "https://localhost:8080/"
        },
        "id": "ZovPywE0HY_B",
        "outputId": "5cae57a8-0c81-4244-e523-113c1eae76e8"
      },
      "source": [
        "model_mobnet.save('model_2_brain.h5')\n",
        "print(\"Berhasil menyimpan model_2_brain.h5\")"
      ],
      "execution_count": null,
      "outputs": [
        {
          "output_type": "stream",
          "text": [
            "Berhasil menyimpan model_2_brain.h5\n"
          ],
          "name": "stdout"
        }
      ]
    },
    {
      "cell_type": "code",
      "metadata": {
        "colab": {
          "base_uri": "https://localhost:8080/"
        },
        "id": "aZ5xP-hRdbcC",
        "outputId": "d5762808-cbbc-47c3-dd30-fc9fcf4f26bc"
      },
      "source": [
        "model_mobnet = load_model('model_2_brain.h5')\n",
        "print(\"Berhasil load model_2_brain.h5\")"
      ],
      "execution_count": null,
      "outputs": [
        {
          "output_type": "stream",
          "text": [
            "Berhasil load model_2_brain.h5\n"
          ],
          "name": "stdout"
        }
      ]
    },
    {
      "cell_type": "markdown",
      "metadata": {
        "id": "eCCMpf4QGO_S"
      },
      "source": [
        "##Plot dan Evaluasi Pada Model 2"
      ]
    },
    {
      "cell_type": "code",
      "metadata": {
        "colab": {
          "base_uri": "https://localhost:8080/",
          "height": 356
        },
        "id": "U_LJW5RRieSW",
        "outputId": "dc25a437-133f-45a5-8bcf-e96e479c1766"
      },
      "source": [
        "acc = history2.history[\"accuracy\"]\n",
        "val_acc = history2.history[\"val_accuracy\"]\n",
        "loss = history2.history[\"loss\"]\n",
        "val_loss = history2.history[\"val_loss\"]\n",
        "\n",
        "epochs = range(len(acc))\n",
        "\n",
        "fig, (ax1, ax2) = plt.subplots(1, 2, figsize=[20, 5])\n",
        "ax1.plot(epochs, acc, 'k')\n",
        "ax1.plot(epochs, val_acc, 'm')\n",
        "ax1.set_title('Model  accuracy')\n",
        "ax1.legend(['Model accuracy','Model Val accuracy'])\n",
        "\n",
        "ax2.plot(epochs, loss, 'k')\n",
        "ax2.plot(epochs, val_loss, 'm')\n",
        "ax2.set_title('Model loss')\n",
        "ax2.legend(['Model loss','Model Val loss'])\n",
        "\n",
        "plt.show()"
      ],
      "execution_count": null,
      "outputs": [
        {
          "output_type": "display_data",
          "data": {
            "image/png": "[encoded data removed]",
            "text/plain": [
              "<Figure size 1440x360 with 2 Axes>"
            ]
          },
          "metadata": {
            "tags": [],
            "needs_background": "light"
          }
        }
      ]
    },
    {
      "cell_type": "markdown",
      "metadata": {
        "id": "0zXy0zkuGVEt"
      },
      "source": [
        "Evaluasi Model 2"
      ]
    },
    {
      "cell_type": "code",
      "metadata": {
        "colab": {
          "base_uri": "https://localhost:8080/"
        },
        "id": "sEz16hymEaD4",
        "outputId": "6f193a72-6b13-4309-d254-19ad55227e35"
      },
      "source": [
        "loss, acc = model_mobnet.evaluate(X_train,Y_train,verbose = 0)\n",
        "print(\"Training Loss {:.5f} dan Training Accuracy {:.2f}%\".format(loss,acc*100))"
      ],
      "execution_count": null,
      "outputs": [
        {
          "output_type": "stream",
          "text": [
            "Training Loss 0.01184 dan Training Accuracy 99.68%\n"
          ],
          "name": "stdout"
        }
      ]
    },
    {
      "cell_type": "code",
      "metadata": {
        "colab": {
          "base_uri": "https://localhost:8080/"
        },
        "id": "PiNGGz07Y_d8",
        "outputId": "93f6faf6-5cbf-436b-fa79-a2d9c0a21020"
      },
      "source": [
        "loss, acc = model_mobnet.evaluate(X_val,Y_val,verbose = 0)\n",
        "print(\"Validation Loss {:.5f} dan Validation Accuracy {:.2f}%\".format(loss,acc*100))"
      ],
      "execution_count": null,
      "outputs": [
        {
          "output_type": "stream",
          "text": [
            "Validation Loss 0.33127  dan Validation Accuracy 92.13%\n"
          ],
          "name": "stdout"
        }
      ]
    },
    {
      "cell_type": "code",
      "metadata": {
        "colab": {
          "base_uri": "https://localhost:8080/"
        },
        "id": "JvlSaKnLoufI",
        "outputId": "874f36d8-230d-414c-9d73-8b5c6e34ead0"
      },
      "source": [
        "from sklearn.metrics import classification_report\n",
        "\n",
        "# CR untuk Training Data\n",
        "print(\"model 2\")\n",
        "pred = model_mobnet.predict(X_train)\n",
        "labels = (pred > 0.5).astype(np.int)\n",
        "\n",
        "print(classification_report(Y_train, labels, target_names = categories))"
      ],
      "execution_count": null,
      "outputs": [
        {
          "output_type": "stream",
          "text": [
            "model 2\n",
            "                  precision    recall  f1-score   support\n",
            "\n",
            "    glioma_tumor       0.99      1.00      1.00       740\n",
            "meningioma_tumor       1.00      0.99      0.99       749\n",
            "        no_tumor       1.00      1.00      1.00       316\n",
            " pituitary_tumor       1.00      1.00      1.00       720\n",
            "\n",
            "       micro avg       1.00      1.00      1.00      2525\n",
            "       macro avg       1.00      1.00      1.00      2525\n",
            "    weighted avg       1.00      1.00      1.00      2525\n",
            "     samples avg       1.00      1.00      1.00      2525\n",
            "\n"
          ],
          "name": "stdout"
        },
        {
          "output_type": "stream",
          "text": [
            "/usr/local/lib/python3.6/dist-packages/sklearn/metrics/_classification.py:1272: UndefinedMetricWarning: Precision and F-score are ill-defined and being set to 0.0 in samples with no predicted labels. Use `zero_division` parameter to control this behavior.\n",
            "  _warn_prf(average, modifier, msg_start, len(result))\n"
          ],
          "name": "stderr"
        }
      ]
    },
    {
      "cell_type": "code",
      "metadata": {
        "colab": {
          "base_uri": "https://localhost:8080/"
        },
        "id": "U4p4xK5miePl",
        "outputId": "84cd4a44-6841-4e1d-a756-35797fc9583b"
      },
      "source": [
        "# CR untuk Validation Data\n",
        "print(\"model 2\")\n",
        "pred = model_mobnet.predict(X_val)\n",
        "labels = (pred > 0.5).astype(np.int)\n",
        "\n",
        "print(classification_report(Y_val, labels, target_names = categories))"
      ],
      "execution_count": null,
      "outputs": [
        {
          "output_type": "stream",
          "text": [
            "model 2\n",
            "                  precision    recall  f1-score   support\n",
            "\n",
            "    glioma_tumor       0.96      0.85      0.90       186\n",
            "meningioma_tumor       0.91      0.87      0.89       188\n",
            "        no_tumor       1.00      0.94      0.97        80\n",
            " pituitary_tumor       0.91      0.99      0.95       181\n",
            "\n",
            "       micro avg       0.93      0.91      0.92       635\n",
            "       macro avg       0.94      0.91      0.93       635\n",
            "    weighted avg       0.94      0.91      0.92       635\n",
            "     samples avg       0.91      0.91      0.91       635\n",
            "\n"
          ],
          "name": "stdout"
        },
        {
          "output_type": "stream",
          "text": [
            "/usr/local/lib/python3.6/dist-packages/sklearn/metrics/_classification.py:1272: UndefinedMetricWarning: Precision and F-score are ill-defined and being set to 0.0 in samples with no predicted labels. Use `zero_division` parameter to control this behavior.\n",
            "  _warn_prf(average, modifier, msg_start, len(result))\n"
          ],
          "name": "stderr"
        }
      ]
    },
    {
      "cell_type": "code",
      "metadata": {
        "id": "A4zj2ECtieIp"
      },
      "source": [
        "import seaborn as sns\n",
        "def plot_confusion_matrix(cm, classes,\n",
        "                          normalize=False,\n",
        "                          title='Confusion matrix',\n",
        "                          cmap=plt.cm.BuPu):\n",
        "\n",
        "    plt.imshow(cm, interpolation='nearest', cmap=cmap)\n",
        "    plt.title(title)\n",
        "    plt.colorbar()\n",
        "    tick_marks = np.arange(len(classes))\n",
        "    plt.xticks(tick_marks, classes, rotation=45)\n",
        "    plt.yticks(tick_marks, classes)\n",
        "\n",
        "    if normalize:\n",
        "        cm = cm.astype('float') / cm.sum(axis=1)[:, np.newaxis]\n",
        "\n",
        "    thresh = cm.max() / 2.\n",
        "    for i, j in itertools.product(range(cm.shape[0]), range(cm.shape[1])):\n",
        "        plt.text(j, i, cm[i, j],\n",
        "                 horizontalalignment=\"center\",\n",
        "                 color=\"white\" if cm[i, j] > thresh else \"black\")\n",
        "\n",
        "    plt.tight_layout()\n",
        "    plt.ylabel('True label')\n",
        "    plt.xlabel('Predicted label')"
      ],
      "execution_count": null,
      "outputs": []
    },
    {
      "cell_type": "code",
      "metadata": {
        "colab": {
          "base_uri": "https://localhost:8080/",
          "height": 329
        },
        "id": "KDGwe4ujWsFB",
        "outputId": "046c6a63-11f0-4e5b-e72a-7206927e5075"
      },
      "source": [
        "Y_pred = model_mobnet.predict(X_val)\n",
        "Y_pred_classes = np.argmax(Y_pred,axis = 1) \n",
        "Y_true = np.argmax(Y_val,axis = 1) \n",
        "\n",
        "confusion_mtx = confusion_matrix(Y_true, Y_pred_classes) \n",
        "print(\"Model 2\")\n",
        "plot_confusion_matrix(confusion_mtx, classes = categories) "
      ],
      "execution_count": null,
      "outputs": [
        {
          "output_type": "stream",
          "text": [
            "Model 2\n"
          ],
          "name": "stdout"
        },
        {
          "output_type": "display_data",
          "data": {
            "image/png": "[encoded data removed]",
            "text/plain": [
              "<Figure size 432x288 with 2 Axes>"
            ]
          },
          "metadata": {
            "tags": [],
            "needs_background": "light"
          }
        }
      ]
    },
    {
      "cell_type": "markdown",
      "metadata": {
        "id": "lJuloFqwvnCY"
      },
      "source": [
        "Precision Score Model 2"
      ]
    },
    {
      "cell_type": "code",
      "metadata": {
        "colab": {
          "base_uri": "https://localhost:8080/"
        },
        "id": "2-sVWJmXukwD",
        "outputId": "7c022c97-904d-48a9-ab3a-a28eebb4fa42"
      },
      "source": [
        "Y_pred_train = model_mobnet.predict(X_train)\n",
        "Y_pred_classes_train = np.argmax(Y_pred_train,axis = 1) \n",
        "Y_true_train = np.argmax(Y_train,axis = 1) \n",
        "\n",
        "ps_train_model2 = precision_score(Y_pred_classes_train, Y_true_train, average='weighted')\n",
        "ps_val_model2 = precision_score(Y_pred_classes, Y_true, average='weighted')\n",
        "print('Precision Score Training Data Model 2:', ps_train_model2)\n",
        "print('Precision Score Validation Data Model 2:', ps_val_model2)"
      ],
      "execution_count": null,
      "outputs": [
        {
          "output_type": "stream",
          "text": [
            "Precision Score Training Data Model 2: 0.9968588455911721\n",
            "Precision Score Validation Data Model 2: 0.9212629421350296\n"
          ],
          "name": "stdout"
        }
      ]
    },
    {
      "cell_type": "markdown",
      "metadata": {
        "id": "_gM57ruLwsOA"
      },
      "source": [
        "Recall Score Model 2"
      ]
    },
    {
      "cell_type": "code",
      "metadata": {
        "colab": {
          "base_uri": "https://localhost:8080/"
        },
        "id": "eILmxjvqwrYK",
        "outputId": "52a1e050-12c1-4945-8ba1-054bf35bdb62"
      },
      "source": [
        "rs_train_model2 = recall_score(Y_pred_classes_train, Y_true_train, average='weighted')\n",
        "rs_val_model2 = recall_score(Y_pred_classes, Y_true, average='weighted')\n",
        "print('Precision Score Training Data Model 2:', rs_train_model2)\n",
        "print('Precision Score Validation Data Model 2:', rs_val_model2)"
      ],
      "execution_count": null,
      "outputs": [
        {
          "output_type": "stream",
          "text": [
            "Precision Score Training Data Model 2: 0.9968316831683168\n",
            "Precision Score Validation Data Model 2: 0.9181102362204724\n"
          ],
          "name": "stdout"
        }
      ]
    },
    {
      "cell_type": "markdown",
      "metadata": {
        "id": "evXV6Ziiy7T7"
      },
      "source": [
        "F1 Score Model 2"
      ]
    },
    {
      "cell_type": "code",
      "metadata": {
        "colab": {
          "base_uri": "https://localhost:8080/"
        },
        "id": "OqOr-bHVy7nJ",
        "outputId": "9bca015d-7166-41cf-b515-97c60604bbcc"
      },
      "source": [
        "f1_train_model2 = f1_score(Y_pred_classes_train, Y_true_train, average='weighted')\n",
        "f1_val_model2 = f1_score(Y_pred_classes, Y_true, average='weighted')\n",
        "print('Precision Score Training Data Model 2:', f1_train_model2)\n",
        "print('Precision Score Validation Data Model 2:', f1_val_model2)"
      ],
      "execution_count": null,
      "outputs": [
        {
          "output_type": "stream",
          "text": [
            "Precision Score Training Data Model 2: 0.9968339359629202\n",
            "Precision Score Validation Data Model 2: 0.9185008837523712\n"
          ],
          "name": "stdout"
        }
      ]
    },
    {
      "cell_type": "markdown",
      "metadata": {
        "id": "aDNBEbMEFsoX"
      },
      "source": [
        "##Prediksi Gambar dengan Model 2"
      ]
    },
    {
      "cell_type": "code",
      "metadata": {
        "id": "qEFPGgSfcy9P",
        "colab": {
          "base_uri": "https://localhost:8080/",
          "height": 269
        },
        "outputId": "1c2d46dc-7e17-4a3a-8dfe-c568cd58c300"
      },
      "source": [
        "from PIL import Image \n",
        "IMG = Image.open('/content/drive/MyDrive/Dataset/Dataset Citra 240 - 235/New Dataset/val/pituitary_tumor/image(11).jpg')\n",
        "plt.imshow(IMG)\n",
        "IMG = IMG.resize((150,150))\n",
        "IMG = np.array(IMG)\n",
        "IMG = np.true_divide(IMG,255)\n",
        "IMG = IMG.reshape(1, 150,150, 3)"
      ],
      "execution_count": null,
      "outputs": [
        {
          "output_type": "display_data",
          "data": {
            "image/png": "[encoded data removed]",
            "text/plain": [
              "<Figure size 432x288 with 1 Axes>"
            ]
          },
          "metadata": {
            "tags": [],
            "needs_background": "light"
          }
        }
      ]
    },
    {
      "cell_type": "code",
      "metadata": {
        "id": "jcKXR66SczJO",
        "colab": {
          "base_uri": "https://localhost:8080/"
        },
        "outputId": "df238b4b-7b00-4dc6-9295-d5f45aa95038"
      },
      "source": [
        "classes = { 'training':['glioma_tumor', 'meningioma_tumor','no_tumor','pituitary_tumor'],\n",
        "                  'test':['glioma_tumor', 'meningioma_tumor','no_tumor','pituitary_tumor']}\n",
        "\n",
        "predictions_images = model_mobnet.predict(IMG)\n",
        "predicted_classes = np.argmax(predictions_images,axis=1)\n",
        "predicted_class = classes['test'][predicted_classes[0]]\n",
        "\n",
        "print(\"Prediksi Kelas\",predicted_classes)\n",
        "print(\"Gambar Tersebut merupakan {}.\".format(predicted_class.lower()))"
      ],
      "execution_count": null,
      "outputs": [
        {
          "output_type": "stream",
          "text": [
            "Prediksi Kelas [3]\n",
            "Gambar Tersebut merupakan pituitary_tumor.\n"
          ],
          "name": "stdout"
        }
      ]
    },
    {
      "cell_type": "code",
      "metadata": {
        "colab": {
          "base_uri": "https://localhost:8080/",
          "height": 269
        },
        "id": "J_1SD7OGGCru",
        "outputId": "b401e22a-f0be-4a45-ac9f-695a5e48e529"
      },
      "source": [
        "IMG2 = Image.open('/content/drive/MyDrive/Dataset/Dataset Citra 240 - 235/New Dataset/val/meningioma_tumor/image(20).jpg')\n",
        "plt.imshow(IMG2)\n",
        "IMG2 = IMG2.resize((150,150))\n",
        "IMG2 = np.array(IMG2)\n",
        "IMG2 = np.true_divide(IMG2,255)\n",
        "IMG2 = IMG2.reshape(1, 150,150, 3)"
      ],
      "execution_count": null,
      "outputs": [
        {
          "output_type": "display_data",
          "data": {
            "image/png": "[encoded data removed]",
            "text/plain": [
              "<Figure size 432x288 with 1 Axes>"
            ]
          },
          "metadata": {
            "tags": [],
            "needs_background": "light"
          }
        }
      ]
    },
    {
      "cell_type": "code",
      "metadata": {
        "colab": {
          "base_uri": "https://localhost:8080/"
        },
        "id": "-pxhfCgPGGf4",
        "outputId": "09801369-c139-4f46-f651-ffc1d54a713c"
      },
      "source": [
        "classes = { 'training':['glioma_tumor', 'meningioma_tumor','no_tumor','pituitary_tumor'],\n",
        "                  'test':['glioma_tumor', 'meningioma_tumor','no_tumor','pituitary_tumor']}\n",
        "\n",
        "predictions_images = model_mobnet.predict(IMG2)\n",
        "predicted_classes = np.argmax(predictions_images,axis=1)\n",
        "predicted_class = classes['test'][predicted_classes[0]]\n",
        "\n",
        "print(\"Prediksi Kelas\",predicted_classes)\n",
        "print(\"Gambar Tersebut merupakan {}.\".format(predicted_class.lower()))"
      ],
      "execution_count": null,
      "outputs": [
        {
          "output_type": "stream",
          "text": [
            "Prediksi Kelas [1]\n",
            "Gambar Tersebut merupakan meningioma_tumor.\n"
          ],
          "name": "stdout"
        }
      ]
    }
  ]
}